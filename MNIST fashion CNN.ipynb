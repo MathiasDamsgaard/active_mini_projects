{
 "cells": [
  {
   "cell_type": "code",
   "execution_count": null,
   "metadata": {
    "collapsed": true
   },
   "outputs": [],
   "source": [
    "#import libraries\n",
    "import numpy as np\n",
    "from sklearn.datasets import fetch_openml\n",
    "from sklearn.model_selection import train_test_split\n",
    "from sklearn.metrics import accuracy_score\n",
    "from skopt import gp_minimize\n",
    "from skopt.space import Real, Integer\n",
    "from skopt.utils import use_named_args\n",
    "from keras.models import Sequential\n",
    "from keras.layers import Dense, Dropout, Flatten, Conv2D, MaxPooling2D\n",
    "from keras.utils import to_categorical"
   ]
  },
  {
   "cell_type": "code",
   "execution_count": null,
   "outputs": [],
   "source": [
    "# Load the MNIST Fashion dataset\n",
    "X, y = fetch_openml('Fashion-MNIST', version=1, return_X_y=True)\n",
    "\n",
    "# Convert X and y to numpy arrays\n",
    "X = np.array(X)\n",
    "y = np.array(y)\n",
    "\n",
    "# Rescale the pixel values to [0, 1]\n",
    "X = X / 255.0\n",
    "\n",
    "# One-hot encode the labels\n",
    "y = to_categorical(y)\n",
    "\n",
    "# Split the dataset into training and test sets\n",
    "X_train, X_test, y_train, y_test = train_test_split(X, y, test_size=0.2, random_state=123)\n"
   ],
   "metadata": {
    "collapsed": false
   }
  },
  {
   "cell_type": "code",
   "execution_count": null,
   "outputs": [],
   "source": [
    "# Define the CNN model\n",
    "def create_model(learning_rate, dropout_rate, num_filters, num_layers):\n",
    "    model = Sequential()\n",
    "    model.add(Conv2D(num_filters, (3, 3), activation='relu', input_shape=(28, 28, 1)))\n",
    "    model.add(MaxPooling2D((2, 2)))\n",
    "    for i in range(num_layers):\n",
    "        model.add(Conv2D(num_filters, (3, 3), activation='relu'))\n",
    "        model.add(MaxPooling2D((2, 2)))\n",
    "        model.add(Dropout(dropout_rate))\n",
    "    model.add(Flatten())\n",
    "    model.add(Dense(10, activation='softmax'))\n",
    "\n",
    "    # Compile the model\n",
    "    model.compile(optimizer='adam', loss='categorical_crossentropy', metrics=['accuracy'])\n",
    "\n",
    "    return model"
   ],
   "metadata": {
    "collapsed": false
   }
  },
  {
   "cell_type": "code",
   "execution_count": null,
   "outputs": [],
   "source": [
    "# Define the search space for the hyperparameters\n",
    "search_space = [Real(1e-4, 1e-2, name='learning_rate'),\n",
    "                Real(0.1, 0.5, name='dropout_rate'),\n",
    "                Integer(16, 64, name='num_filters'),\n",
    "                Integer(1, 3, name='num_layers')]"
   ],
   "metadata": {
    "collapsed": false
   }
  },
  {
   "cell_type": "code",
   "execution_count": null,
   "outputs": [],
   "source": [
    "# Define the objective function to minimize (i.e., 1 - accuracy)\n",
    "@use_named_args(search_space)\n",
    "def objective(**params):\n",
    "    # Create the model\n",
    "    model = create_model(**params)\n",
    "\n",
    "    # Fit the model to the training data\n",
    "    model.fit(X_train.reshape(-1, 28, 28, 1), y_train, epochs=10, verbose=0)\n",
    "\n",
    "    # Predict the labels for the test data\n",
    "    y_pred = model.predict(X_test.reshape(-1, 28, 28, 1))\n",
    "\n",
    "    # Convert the predicted labels to integers\n",
    "    y_pred = np.argmax(y_pred, axis=1)\n",
    "\n",
    "    # Compute the accuracy of the model\n",
    "    accuracy = accuracy_score(np.argmax(y_test, axis=1), y_pred)\n",
    "\n",
    "    # Return 1 - accuracy (to minimize)\n",
    "    return 1.0 - accuracy"
   ],
   "metadata": {
    "collapsed": false
   }
  },
  {
   "cell_type": "code",
   "execution_count": null,
   "outputs": [],
   "source": [
    "# Perform Bayesian optimization\n",
    "result = gp_minimize(objective, search_space, n_calls=20, random_state=123)\n",
    "\n",
    "# Print the best set of hyperparameters and the corresponding accuracy\n",
    "print(f'Best hyperparameters: {result.x}')\n",
    "print(f'Best accuracy: {1.0 - result.fun}')"
   ],
   "metadata": {
    "collapsed": false
   }
  }
 ],
 "metadata": {
  "kernelspec": {
   "display_name": "Python 3",
   "language": "python",
   "name": "python3"
  },
  "language_info": {
   "codemirror_mode": {
    "name": "ipython",
    "version": 2
   },
   "file_extension": ".py",
   "mimetype": "text/x-python",
   "name": "python",
   "nbconvert_exporter": "python",
   "pygments_lexer": "ipython2",
   "version": "2.7.6"
  }
 },
 "nbformat": 4,
 "nbformat_minor": 0
}
