{
 "cells": [
  {
   "cell_type": "code",
   "execution_count": 34,
   "metadata": {
    "collapsed": true
   },
   "outputs": [],
   "source": [
    "#import libraries\n",
    "import numpy as np\n",
    "import pandas as pd\n",
    "import scipy.stats as st\n",
    "import matplotlib.pyplot as plt\n",
    "\n",
    "from sklearn.model_selection import train_test_split\n",
    "from sklearn.metrics import accuracy_score\n",
    "from skopt import gp_minimize\n",
    "from skopt.space import Real\n",
    "from skopt.utils import use_named_args\n",
    "from keras.models import Sequential\n",
    "from keras.layers import Dense, Dropout, Flatten, Conv2D, MaxPooling2D\n",
    "from keras.utils import to_categorical\n",
    "from keras.optimizers import Adam\n",
    "\n",
    "rand_state = 123\n",
    "import random\n",
    "random.seed(rand_state)"
   ]
  },
  {
   "cell_type": "code",
   "execution_count": 35,
   "metadata": {
    "collapsed": false
   },
   "outputs": [],
   "source": [
    "# Load the MNIST Fashion dataset\n",
    "filename = 'fashion-mnist.csv'\n",
    "df = pd.read_csv(filename)\n",
    "\n",
    "X = df.iloc[:, 1:].values\n",
    "y = df.iloc[:, 0].values\n",
    "\n",
    "# Normalize pixel values between [0, 1]\n",
    "X = X / 255\n",
    "\n",
    "# Only use 50% of data\n",
    "rand = random.sample(range(10000), 5000)\n",
    "X = X[rand]\n",
    "y = y[rand]\n",
    "\n",
    "# One-hot encoding\n",
    "y = to_categorical(y)\n",
    "\n",
    "# Split the dataset into training and test data sets\n",
    "X_left, X_gen, y_left, y_gen = train_test_split(X, y, test_size=0.2, random_state=rand_state)\n",
    "X_train, X_test, y_train, y_test = train_test_split(X_left, y_left, test_size=0.25, random_state=rand_state)"
   ]
  },
  {
   "cell_type": "code",
   "execution_count": 36,
   "metadata": {
    "collapsed": false
   },
   "outputs": [],
   "source": [
    "# Define the CNN model\n",
    "def create_model(learning_rate, dropout_rate):\n",
    "    model = Sequential()\n",
    "    model.add(Conv2D(32, (3, 3), activation='relu', input_shape=(28, 28, 1)))\n",
    "    model.add(MaxPooling2D((2, 2)))\n",
    "    model.add(Conv2D(64, (3, 3), activation='relu'))\n",
    "    model.add(Dropout(dropout_rate))\n",
    "    model.add(MaxPooling2D((2, 2)))\n",
    "    model.add(Conv2D(64, (3, 3), activation='relu'))\n",
    "    model.add(Dropout(dropout_rate))\n",
    "    model.add(Flatten())\n",
    "    model.add(Dense(10, activation='softmax'))\n",
    "\n",
    "    # Compile the model\n",
    "    optimizer = Adam(learning_rate = learning_rate)\n",
    "    model.compile(optimizer=optimizer, loss='categorical_crossentropy', metrics=['accuracy'])\n",
    "\n",
    "    return model"
   ]
  },
  {
   "cell_type": "code",
   "execution_count": 37,
   "metadata": {
    "collapsed": false
   },
   "outputs": [],
   "source": [
    "# Define the search space for the hyperparameters\n",
    "lr_min, lr_max = 1e-4, 1e-2\n",
    "dr_min, dr_max = 0.0, 0.5\n",
    "search_space = [Real(lr_min, lr_max, name='learning_rate'),\n",
    "                Real(dr_min, dr_max, name='dropout_rate')]"
   ]
  },
  {
   "cell_type": "code",
   "execution_count": 38,
   "metadata": {
    "collapsed": false
   },
   "outputs": [],
   "source": [
    "# Define the objective function to minimize (i.e., 1 - accuracy)\n",
    "acc_list = []\n",
    "n_epoch = 5\n",
    "\n",
    "@use_named_args(search_space)\n",
    "def objective_f(**params):\n",
    "    # Create the model\n",
    "    model = create_model(**params)\n",
    "\n",
    "    # Fit the model to the training data\n",
    "    model.fit(X_train.reshape(-1, 28, 28, 1), y_train, epochs=n_epoch, verbose=0)\n",
    "\n",
    "    # Predict the labels for the test data\n",
    "    y_pred = model.predict(X_test.reshape(-1, 28, 28, 1))\n",
    "\n",
    "    # Convert the predicted labels to integers\n",
    "    y_pred = np.argmax(y_pred, axis=1)\n",
    "\n",
    "    # Compute the accuracy of the model\n",
    "    accuracy = accuracy_score(np.argmax(y_test, axis=1), y_pred)\n",
    "\n",
    "    acc_list.append(accuracy)\n",
    "\n",
    "    # Return 1 - accuracy (to minimize)\n",
    "    return 1.0 - accuracy\n",
    "\n",
    "# Define the objective function to minimize (i.e., 1 - accuracy) for random sampling with generalization set\n",
    "@use_named_args(search_space)\n",
    "def objective_r(**params):\n",
    "    # Create the model\n",
    "    model = create_model(**params)\n",
    "\n",
    "    # Fit the model to the training data\n",
    "    model.fit(X_train.reshape(-1, 28, 28, 1), y_train, epochs=n_epoch, verbose=0)\n",
    "\n",
    "    # Predict the labels for the test data\n",
    "    y_pred = model.predict(X_gen.reshape(-1, 28, 28, 1))\n",
    "\n",
    "    # Convert the predicted labels to integers\n",
    "    y_pred = np.argmax(y_pred, axis=1)\n",
    "\n",
    "    # Compute the accuracy of the model\n",
    "    accuracy = accuracy_score(np.argmax(y_gen, axis=1), y_pred)\n",
    "\n",
    "    acc_list.append(accuracy)\n",
    "\n",
    "    # Return 1 - accuracy (to minimize)\n",
    "    return 1.0 - accuracy"
   ]
  },
  {
   "cell_type": "code",
   "execution_count": 39,
   "metadata": {},
   "outputs": [
    {
     "name": "stdout",
     "output_type": "stream",
     "text": [
      "32/32 [==============================] - 1s 8ms/step\n",
      "32/32 [==============================] - 1s 7ms/step\n",
      "32/32 [==============================] - 1s 8ms/step\n",
      "32/32 [==============================] - 0s 7ms/step\n",
      "32/32 [==============================] - 1s 7ms/step\n",
      "32/32 [==============================] - 0s 7ms/step\n",
      "32/32 [==============================] - 1s 7ms/step\n",
      "32/32 [==============================] - 0s 6ms/step\n",
      "32/32 [==============================] - 0s 6ms/step\n",
      "32/32 [==============================] - 1s 8ms/step\n",
      "32/32 [==============================] - 0s 8ms/step\n",
      "32/32 [==============================] - 0s 8ms/step\n",
      "32/32 [==============================] - 1s 11ms/step\n",
      "32/32 [==============================] - 0s 8ms/step\n",
      "32/32 [==============================] - 0s 7ms/step\n",
      "32/32 [==============================] - 1s 8ms/step\n",
      "32/32 [==============================] - 0s 8ms/step\n",
      "32/32 [==============================] - 1s 8ms/step\n",
      "32/32 [==============================] - 0s 8ms/step\n",
      "32/32 [==============================] - 1s 7ms/step\n",
      "32/32 [==============================] - 0s 7ms/step\n",
      "32/32 [==============================] - 1s 8ms/step\n",
      "32/32 [==============================] - 0s 8ms/step\n",
      "32/32 [==============================] - 1s 8ms/step\n",
      "32/32 [==============================] - 0s 8ms/step\n",
      "32/32 [==============================] - 0s 7ms/step\n",
      "32/32 [==============================] - 1s 8ms/step\n",
      "32/32 [==============================] - 1s 8ms/step\n",
      "32/32 [==============================] - 0s 7ms/step\n",
      "32/32 [==============================] - 0s 7ms/step\n",
      "[0.824, 0.799, 0.796, 0.814, 0.82, 0.783, 0.789, 0.798, 0.803, 0.8, 0.812, 0.817, 0.82, 0.804, 0.811, 0.744, 0.783, 0.775, 0.803, 0.806, 0.777, 0.827, 0.809, 0.793, 0.838, 0.809, 0.766, 0.814, 0.813, 0.801]\n"
     ]
    }
   ],
   "source": [
    "# Random sampling of hyperparameters\n",
    "n_rand = 30\n",
    "rand_lr = [random.uniform(lr_min, lr_max) for _ in range(n_rand)]\n",
    "rand_dr = [random.uniform(dr_min, dr_max) for _ in range(n_rand)]\n",
    "\n",
    "# Train model with each set of random hyperparameters\n",
    "for rand in zip(rand_lr, rand_dr):\n",
    "    objective_f(rand)\n",
    "\n",
    "# Print accuracy fro these new models\n",
    "acc_list_r = acc_list\n",
    "acc_list = []\n",
    "print(acc_list_r)"
   ]
  },
  {
   "cell_type": "code",
   "execution_count": 40,
   "metadata": {},
   "outputs": [
    {
     "name": "stdout",
     "output_type": "stream",
     "text": [
      " Best acc: 0.838, best LR: 0.0049272845613907304, best dr: 0.04776734032469421\n"
     ]
    }
   ],
   "source": [
    "# Best random sample\n",
    "best_idx = np.argmax(acc_list_r)\n",
    "best_acc = acc_list_r[best_idx]\n",
    "best_lr = rand_lr[best_idx]\n",
    "best_dr = rand_dr[best_idx]\n",
    "print(f\" Best acc: {best_acc}, best LR: {best_lr}, best dr: {best_dr}\")"
   ]
  },
  {
   "cell_type": "code",
   "execution_count": 41,
   "metadata": {
    "collapsed": false
   },
   "outputs": [
    {
     "name": "stdout",
     "output_type": "stream",
     "text": [
      "32/32 [==============================] - 0s 7ms/step\n",
      "32/32 [==============================] - 0s 7ms/step\n",
      "32/32 [==============================] - 0s 7ms/step\n",
      "32/32 [==============================] - 0s 7ms/step\n",
      "32/32 [==============================] - 0s 7ms/step\n",
      "32/32 [==============================] - 0s 7ms/step\n",
      "32/32 [==============================] - 0s 7ms/step\n",
      "32/32 [==============================] - 0s 6ms/step\n",
      "32/32 [==============================] - 0s 7ms/step\n",
      "32/32 [==============================] - 0s 7ms/step\n",
      "32/32 [==============================] - 1s 7ms/step\n",
      "32/32 [==============================] - 0s 2ms/step\n",
      "32/32 [==============================] - 1s 9ms/step\n",
      "32/32 [==============================] - 1s 8ms/step\n",
      "32/32 [==============================] - 1s 8ms/step\n",
      "32/32 [==============================] - 1s 8ms/step\n",
      "32/32 [==============================] - 0s 2ms/step\n",
      "32/32 [==============================] - 0s 4ms/step\n",
      "32/32 [==============================] - 1s 9ms/step\n",
      "32/32 [==============================] - 1s 8ms/step\n",
      "32/32 [==============================] - 0s 4ms/step\n",
      "32/32 [==============================] - 0s 4ms/step\n",
      "32/32 [==============================] - 0s 3ms/step\n",
      "32/32 [==============================] - 0s 3ms/step\n",
      "32/32 [==============================] - 0s 3ms/step\n",
      "32/32 [==============================] - 0s 4ms/step\n",
      "32/32 [==============================] - 0s 3ms/step\n",
      "32/32 [==============================] - 1s 7ms/step\n",
      "32/32 [==============================] - 0s 3ms/step\n",
      "Best hyperparameters [lr, dr]: [0.0022951257350985995, 0.10977760774887575]\n",
      "Best accuracy: 0.842\n",
      "[0.824, 0.787, 0.791, 0.763, 0.812, 0.797, 0.834, 0.806, 0.809, 0.794, 0.812, 0.812, 0.813, 0.764, 0.778, 0.774, 0.804, 0.788, 0.842, 0.825, 0.792, 0.785, 0.809, 0.719, 0.789, 0.799, 0.805, 0.82, 0.803, 0.812]\n"
     ]
    }
   ],
   "source": [
    "# Define the first 10 points that BO should evaluate - gotten from the random sample\n",
    "x_0 = [rand_lr[0], rand_dr[0]]\n",
    "y_0 = acc_list_r[0]\n",
    "\n",
    "# Perform Bayesian optimization\n",
    "n_bo = 29\n",
    "result = gp_minimize(objective_f, search_space, n_calls=n_bo, random_state=rand_state, acq_func=\"gp_hedge\", x0=x_0, y0=y_0)\n",
    "\n",
    "# Print the best set of hyperparameters and the corresponding accuracy\n",
    "print(f'Best hyperparameters [lr, dr]: {result.x}')\n",
    "print(f'Best accuracy: {1.0 - result.fun}')\n",
    "\n",
    "# Print prior test accuracies\n",
    "acc_list_bo = [y_0] + acc_list\n",
    "acc_list = []\n",
    "print(acc_list_bo)"
   ]
  },
  {
   "cell_type": "code",
   "execution_count": 42,
   "metadata": {},
   "outputs": [
    {
     "name": "stdout",
     "output_type": "stream",
     "text": [
      "GaussianProcessRegressor(kernel=1**2 * Matern(length_scale=[1, 1], nu=2.5) + WhiteKernel(noise_level=1),\n",
      "                         n_restarts_optimizer=2, noise='gaussian',\n",
      "                         normalize_y=True, random_state=843828734)\n"
     ]
    }
   ],
   "source": [
    "# Check model used\n",
    "print(result.models[0])\n",
    "# See kernel is Matern 5/2 with a white noise kernel added to it\n",
    "# Default xi = 0.01 for EI and PI and kappa = 1.96 for LCB"
   ]
  },
  {
   "cell_type": "code",
   "execution_count": 43,
   "metadata": {},
   "outputs": [
    {
     "name": "stdout",
     "output_type": "stream",
     "text": [
      "32/32 [==============================] - 1s 7ms/step\n",
      "0.826\n"
     ]
    }
   ],
   "source": [
    "# Define optimal model with found hyperparameters\n",
    "opt_model = create_model(*result.x)\n",
    "\n",
    "# Fit the model to the training data\n",
    "opt_model.fit(X_train.reshape(-1, 28, 28, 1), y_train, epochs=n_epoch, verbose=0)\n",
    "\n",
    "# Predict the labels for the test data\n",
    "y_pred_opt = opt_model.predict(X_gen.reshape(-1, 28, 28, 1))\n",
    "\n",
    "# Convert the predicted labels to integers\n",
    "y_pred_opt = np.argmax(y_pred_opt, axis=1)\n",
    "\n",
    "# Compute the accuracy of the model\n",
    "accuracy_opt = accuracy_score(np.argmax(y_gen, axis=1), y_pred_opt)\n",
    "\n",
    "# Print accuracy for optimal model\n",
    "print(accuracy_opt)"
   ]
  },
  {
   "cell_type": "code",
   "execution_count": 44,
   "metadata": {},
   "outputs": [
    {
     "name": "stdout",
     "output_type": "stream",
     "text": [
      "32/32 [==============================] - 0s 2ms/step\n",
      "32/32 [==============================] - 0s 3ms/step\n",
      "32/32 [==============================] - 0s 3ms/step\n",
      "32/32 [==============================] - 0s 3ms/step\n",
      "32/32 [==============================] - 0s 6ms/step\n",
      "32/32 [==============================] - 1s 8ms/step\n",
      "32/32 [==============================] - 1s 8ms/step\n",
      "32/32 [==============================] - 1s 8ms/step\n",
      "32/32 [==============================] - 1s 7ms/step\n",
      "32/32 [==============================] - 0s 7ms/step\n",
      "32/32 [==============================] - 0s 3ms/step\n",
      "32/32 [==============================] - 0s 4ms/step\n",
      "32/32 [==============================] - 0s 4ms/step\n",
      "32/32 [==============================] - 0s 4ms/step\n",
      "32/32 [==============================] - 0s 3ms/step\n",
      "32/32 [==============================] - 0s 5ms/step\n",
      "32/32 [==============================] - 0s 3ms/step\n",
      "32/32 [==============================] - 0s 4ms/step\n",
      "32/32 [==============================] - 0s 4ms/step\n",
      "32/32 [==============================] - 0s 4ms/step\n",
      "32/32 [==============================] - 0s 4ms/step\n",
      "32/32 [==============================] - 0s 4ms/step\n",
      "32/32 [==============================] - 0s 8ms/step\n",
      "32/32 [==============================] - 1s 8ms/step\n",
      "32/32 [==============================] - 1s 8ms/step\n",
      "32/32 [==============================] - 0s 2ms/step\n",
      "32/32 [==============================] - 0s 4ms/step\n",
      "32/32 [==============================] - 0s 4ms/step\n",
      "32/32 [==============================] - 0s 5ms/step\n",
      "32/32 [==============================] - 0s 4ms/step\n",
      "[0.833, 0.815, 0.816, 0.808, 0.855, 0.827, 0.831, 0.828, 0.836, 0.827, 0.823, 0.799, 0.838, 0.824, 0.826, 0.765, 0.785, 0.794, 0.808, 0.813, 0.836, 0.82, 0.813, 0.841, 0.85, 0.822, 0.791, 0.847, 0.818, 0.809]\n"
     ]
    }
   ],
   "source": [
    "# Train model with each set of random hyperparameters\n",
    "for rand in zip(rand_lr, rand_dr):\n",
    "    objective_r(rand)\n",
    "\n",
    "# Print accuracy fro these new models\n",
    "acc_list_rg = acc_list\n",
    "acc_list = []\n",
    "print(acc_list_rg)"
   ]
  },
  {
   "cell_type": "code",
   "execution_count": 45,
   "metadata": {},
   "outputs": [
    {
     "name": "stdout",
     "output_type": "stream",
     "text": [
      "Confidence interval for accuracy from random sampling on generalization set:  (0.8125273169160165, 0.8273393497506505)\n",
      "Optimal accuracy from BO: 0.826, is it in cf_rg?\n"
     ]
    }
   ],
   "source": [
    "# Statisical test and confidence interval\n",
    "alpha = 0.05\n",
    "\n",
    "# Create 95% confidence interval for random sampling\n",
    "ci_rg = st.t.interval(confidence=1-alpha, df=len(acc_list_rg)-1, loc=np.mean(acc_list_rg), scale=st.sem(acc_list_rg))\n",
    "print(\"Confidence interval for accuracy from random sampling on generalization set: \", ci_rg)\n",
    "\n",
    "# Show optimal accuracy\n",
    "print(f\"Optimal accuracy from BO: {accuracy_opt}, is it in cf_rg?\")"
   ]
  },
  {
   "cell_type": "code",
   "execution_count": 46,
   "metadata": {},
   "outputs": [
    {
     "data": {
      "image/png": "[encoded data removed]",
      "text/plain": [
       "<Figure size 640x480 with 1 Axes>"
      ]
     },
     "metadata": {},
     "output_type": "display_data"
    }
   ],
   "source": [
    "# Plot of accuracies\n",
    "x = np.linspace(1, 30, 30).astype(int)\n",
    "best_bo = [acc_list_bo[0]]\n",
    "best_r = [acc_list_r[0]]\n",
    "\n",
    "# Check if a new accuracy is better\n",
    "for bo, r in zip(acc_list_bo[1:], acc_list_r[1:]):\n",
    "    if bo > best_bo[-1]:\n",
    "        best_bo.append(bo)\n",
    "    else:\n",
    "        best_bo.append(best_bo[-1])\n",
    "    \n",
    "    if r > best_r[-1]:\n",
    "        best_r.append(r)\n",
    "    else:\n",
    "        best_r.append(best_r[-1])\n",
    "\n",
    "# Define plot parts\n",
    "plt.plot(x, acc_list_bo, c='#8587FF', ls='-', marker='o', label = 'Bayesian Optimization')\n",
    "plt.plot(x, acc_list_r, c='#FF6464', ls='-', marker='o', label = 'Random Sampling')\n",
    "plt.plot(x, best_bo, 'ob-', label = 'Best BO')\n",
    "plt.plot(x, best_r, 'or-', label = 'Best RS')\n",
    "plt.xlabel('Iteration')\n",
    "plt.ylabel('Accuracy')\n",
    "plt.title('Accuracy per iteration for both approaches')\n",
    "plt.legend()\n",
    "plt.show()"
   ]
  },
  {
   "cell_type": "code",
   "execution_count": null,
   "metadata": {},
   "outputs": [],
   "source": []
  }
 ],
 "metadata": {
  "kernelspec": {
   "display_name": "active-ml",
   "language": "python",
   "name": "python3"
  },
  "language_info": {
   "codemirror_mode": {
    "name": "ipython",
    "version": 3
   },
   "file_extension": ".py",
   "mimetype": "text/x-python",
   "name": "python",
   "nbconvert_exporter": "python",
   "pygments_lexer": "ipython3",
   "version": "3.9.16"
  },
  "vscode": {
   "interpreter": {
    "hash": "5550561c7e85dace74674ee19323cd385967e1b9da6fedebe9016268a83c5703"
   }
  }
 },
 "nbformat": 4,
 "nbformat_minor": 0
}
