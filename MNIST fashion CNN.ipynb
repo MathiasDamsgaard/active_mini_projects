{
 "cells": [
  {
   "cell_type": "code",
   "execution_count": 45,
   "metadata": {
    "collapsed": true
   },
   "outputs": [],
   "source": [
    "#import libraries\n",
    "import numpy as np\n",
    "from matplotlib import pyplot as plt\n",
    "import pandas as pd\n",
    "\n",
    "from sklearn.model_selection import train_test_split\n",
    "from sklearn.metrics import accuracy_score\n",
    "from skopt import gp_minimize\n",
    "from skopt.space import Real, Integer\n",
    "from skopt.utils import use_named_args\n",
    "from keras.models import Sequential\n",
    "from keras.layers import Dense, Dropout, Flatten, Conv2D, MaxPooling2D\n",
    "from keras.utils import to_categorical\n",
    "from keras.optimizers import Adam\n",
    "\n",
    "import random\n",
    "np.random.seed(32)\n",
    "random.seed(32)"
   ]
  },
  {
   "cell_type": "code",
   "execution_count": 59,
   "metadata": {
    "collapsed": false
   },
   "outputs": [],
   "source": [
    "# Load the MNIST Fashion dataset\n",
    "filename = 'fashion-mnist.csv'\n",
    "df = pd.read_csv(filename)\n",
    "\n",
    "X = df.iloc[:, 1:].values\n",
    "y = df.iloc[:, 0].values\n",
    "\n",
    "# Normalize pixel values between [0, 1]\n",
    "X = X / 255\n",
    "\n",
    "# Only use 50% of data\n",
    "rand = random.sample(range(10000), 5000)\n",
    "X = X[rand]\n",
    "y = y[rand]\n",
    "\n",
    "# One-hot encoding\n",
    "y = to_categorical(y)\n",
    "\n",
    "# Split the dataset into training and test data sets\n",
    "X_left, X_gen, y_left, y_gen = train_test_split(X, y, test_size=0.2, random_state=420)\n",
    "X_train, X_test, y_train, y_test = train_test_split(X_left, y_left, test_size=0.25, random_state=420)"
   ]
  },
  {
   "cell_type": "code",
   "execution_count": 60,
   "metadata": {
    "collapsed": false
   },
   "outputs": [],
   "source": [
    "# Define the CNN model\n",
    "def create_model(learning_rate, dropout_rate):\n",
    "    model = Sequential()\n",
    "    model.add(Conv2D(32, (3, 3), activation='relu', input_shape=(28, 28, 1)))\n",
    "    model.add(MaxPooling2D((2, 2)))\n",
    "    model.add(Conv2D(64, (3, 3), activation='relu'))\n",
    "    model.add(Dropout(dropout_rate))\n",
    "    model.add(MaxPooling2D((2, 2)))\n",
    "    model.add(Conv2D(64, (3, 3), activation='relu'))\n",
    "    model.add(Dropout(dropout_rate))\n",
    "    model.add(Flatten())\n",
    "    model.add(Dense(10, activation='softmax'))\n",
    "\n",
    "    # Compile the model\n",
    "    optimizer = Adam(learning_rate = learning_rate)\n",
    "    model.compile(optimizer=optimizer, loss='categorical_crossentropy', metrics=['accuracy'])\n",
    "\n",
    "    return model"
   ]
  },
  {
   "cell_type": "code",
   "execution_count": 69,
   "metadata": {
    "collapsed": false
   },
   "outputs": [],
   "source": [
    "# Define the search space for the hyperparameters\n",
    "search_space = [Real(1e-4, 1e-2, name='learning_rate'),\n",
    "                Real(0.0, 0.5, name='dropout_rate')]"
   ]
  },
  {
   "cell_type": "code",
   "execution_count": 70,
   "metadata": {
    "collapsed": false
   },
   "outputs": [],
   "source": [
    "# Define the objective function to minimize (i.e., 1 - accuracy)\n",
    "acc_list = []\n",
    "\n",
    "@use_named_args(search_space)\n",
    "def objective(**params):\n",
    "    # Create the model\n",
    "    model = create_model(**params)\n",
    "\n",
    "    # Fit the model to the training data\n",
    "    model.fit(X_train.reshape(-1, 28, 28, 1), y_train, epochs=10, verbose=0)\n",
    "\n",
    "    # Predict the labels for the test data\n",
    "    y_pred = model.predict(X_test.reshape(-1, 28, 28, 1))\n",
    "\n",
    "    # Convert the predicted labels to integers\n",
    "    y_pred = np.argmax(y_pred, axis=1)\n",
    "\n",
    "    # Compute the accuracy of the model\n",
    "    accuracy = accuracy_score(np.argmax(y_test, axis=1), y_pred)\n",
    "\n",
    "    acc_list.append(accuracy)\n",
    "\n",
    "    # Return 1 - accuracy (to minimize)\n",
    "    return 1.0 - accuracy"
   ]
  },
  {
   "cell_type": "code",
   "execution_count": 54,
   "metadata": {
    "collapsed": false
   },
   "outputs": [
    {
     "name": "stdout",
     "output_type": "stream",
     "text": [
      "32/32 [==============================] - 1s 7ms/step\n",
      "32/32 [==============================] - 1s 8ms/step\n",
      "32/32 [==============================] - 0s 7ms/step\n",
      "32/32 [==============================] - 0s 3ms/step\n",
      "32/32 [==============================] - 0s 4ms/step\n",
      "32/32 [==============================] - 0s 3ms/step\n",
      "32/32 [==============================] - 0s 3ms/step\n",
      "32/32 [==============================] - 0s 3ms/step\n",
      "32/32 [==============================] - 0s 4ms/step\n",
      "32/32 [==============================] - 0s 3ms/step\n",
      "Best hyperparameters: [0.005135041012503236, 0.1642231502145]\n",
      "Best accuracy: 0.854\n",
      "[]\n"
     ]
    }
   ],
   "source": [
    "# Perform Bayesian optimization\n",
    "result = gp_minimize(objective, search_space, n_calls=10, random_state=420, acq_func=\"gp_hedge\")\n",
    "\n",
    "# Print the best set of hyperparameters and the corresponding accuracy\n",
    "print(f'Best hyperparameters: {result.x}')\n",
    "print(f'Best accuracy: {1.0 - result.fun}')\n",
    "\n",
    "# Print prior test accuracies\n",
    "print(acc_list)"
   ]
  },
  {
   "cell_type": "code",
   "execution_count": 58,
   "metadata": {},
   "outputs": [
    {
     "name": "stdout",
     "output_type": "stream",
     "text": [
      "32/32 [==============================] - 0s 5ms/step\n",
      "0.845\n",
      "[0.854, 0.816, 0.852, 0.829, 0.849, 0.837, 0.843, 0.836, 0.846, 0.822]\n"
     ]
    }
   ],
   "source": [
    "# Define optimal model with found hyperparameters\n",
    "opt_model = create_model(*result.x)\n",
    "\n",
    "# Fit the model to the training data\n",
    "opt_model.fit(X_train.reshape(-1, 28, 28, 1), y_train, epochs=10, verbose=0)\n",
    "\n",
    "# Predict the labels for the test data\n",
    "y_pred = opt_model.predict(X_gen.reshape(-1, 28, 28, 1))\n",
    "\n",
    "# Convert the predicted labels to integers\n",
    "y_pred = np.argmax(y_pred, axis=1)\n",
    "\n",
    "# Compute the accuracy of the model\n",
    "accuracy = accuracy_score(np.argmax(y_gen, axis=1), y_pred)\n",
    "\n",
    "# Print accuracy for optimal model\n",
    "print(accuracy)"
   ]
  },
  {
   "cell_type": "code",
   "execution_count": 75,
   "metadata": {},
   "outputs": [
    {
     "name": "stdout",
     "output_type": "stream",
     "text": [
      "32/32 [==============================] - 0s 3ms/step\n",
      "32/32 [==============================] - 0s 3ms/step\n",
      "32/32 [==============================] - 0s 4ms/step\n",
      "32/32 [==============================] - 0s 4ms/step\n",
      "32/32 [==============================] - 0s 3ms/step\n",
      "32/32 [==============================] - 0s 3ms/step\n",
      "32/32 [==============================] - 0s 3ms/step\n",
      "32/32 [==============================] - 0s 7ms/step\n",
      "32/32 [==============================] - 1s 7ms/step\n",
      "32/32 [==============================] - 1s 8ms/step\n"
     ]
    },
    {
     "ename": "ValueError",
     "evalue": "attempt to get argmax of an empty sequence",
     "output_type": "error",
     "traceback": [
      "\u001b[1;31m---------------------------------------------------------------------------\u001b[0m",
      "\u001b[1;31mValueError\u001b[0m                                Traceback (most recent call last)",
      "Cell \u001b[1;32mIn[75], line 8\u001b[0m\n\u001b[0;32m      5\u001b[0m \u001b[39mfor\u001b[39;00m rand \u001b[39min\u001b[39;00m \u001b[39mzip\u001b[39m(rand_lr, rand_dr):\n\u001b[0;32m      6\u001b[0m     objective(rand)\n\u001b[1;32m----> 8\u001b[0m best_idx \u001b[39m=\u001b[39m np\u001b[39m.\u001b[39;49margmax(acc_list[\u001b[39m10\u001b[39;49m:\u001b[39m19\u001b[39;49m])\n\u001b[0;32m      9\u001b[0m best_acc \u001b[39m=\u001b[39m acc_list[best_idx]\n\u001b[0;32m     10\u001b[0m best_lr \u001b[39m=\u001b[39m rand_lr[best_idx \u001b[39m-\u001b[39m \u001b[39m10\u001b[39m]\n",
      "File \u001b[1;32m<__array_function__ internals>:180\u001b[0m, in \u001b[0;36margmax\u001b[1;34m(*args, **kwargs)\u001b[0m\n",
      "File \u001b[1;32mc:\\Users\\mathi\\anaconda3\\envs\\active-ml\\lib\\site-packages\\numpy\\core\\fromnumeric.py:1216\u001b[0m, in \u001b[0;36margmax\u001b[1;34m(a, axis, out, keepdims)\u001b[0m\n\u001b[0;32m   1129\u001b[0m \u001b[39m\"\"\"\u001b[39;00m\n\u001b[0;32m   1130\u001b[0m \u001b[39mReturns the indices of the maximum values along an axis.\u001b[39;00m\n\u001b[0;32m   1131\u001b[0m \n\u001b[1;32m   (...)\u001b[0m\n\u001b[0;32m   1213\u001b[0m \u001b[39m(2, 1, 4)\u001b[39;00m\n\u001b[0;32m   1214\u001b[0m \u001b[39m\"\"\"\u001b[39;00m\n\u001b[0;32m   1215\u001b[0m kwds \u001b[39m=\u001b[39m {\u001b[39m'\u001b[39m\u001b[39mkeepdims\u001b[39m\u001b[39m'\u001b[39m: keepdims} \u001b[39mif\u001b[39;00m keepdims \u001b[39mis\u001b[39;00m \u001b[39mnot\u001b[39;00m np\u001b[39m.\u001b[39m_NoValue \u001b[39melse\u001b[39;00m {}\n\u001b[1;32m-> 1216\u001b[0m \u001b[39mreturn\u001b[39;00m _wrapfunc(a, \u001b[39m'\u001b[39m\u001b[39margmax\u001b[39m\u001b[39m'\u001b[39m, axis\u001b[39m=\u001b[39maxis, out\u001b[39m=\u001b[39mout, \u001b[39m*\u001b[39m\u001b[39m*\u001b[39mkwds)\n",
      "File \u001b[1;32mc:\\Users\\mathi\\anaconda3\\envs\\active-ml\\lib\\site-packages\\numpy\\core\\fromnumeric.py:54\u001b[0m, in \u001b[0;36m_wrapfunc\u001b[1;34m(obj, method, *args, **kwds)\u001b[0m\n\u001b[0;32m     52\u001b[0m bound \u001b[39m=\u001b[39m \u001b[39mgetattr\u001b[39m(obj, method, \u001b[39mNone\u001b[39;00m)\n\u001b[0;32m     53\u001b[0m \u001b[39mif\u001b[39;00m bound \u001b[39mis\u001b[39;00m \u001b[39mNone\u001b[39;00m:\n\u001b[1;32m---> 54\u001b[0m     \u001b[39mreturn\u001b[39;00m _wrapit(obj, method, \u001b[39m*\u001b[39margs, \u001b[39m*\u001b[39m\u001b[39m*\u001b[39mkwds)\n\u001b[0;32m     56\u001b[0m \u001b[39mtry\u001b[39;00m:\n\u001b[0;32m     57\u001b[0m     \u001b[39mreturn\u001b[39;00m bound(\u001b[39m*\u001b[39margs, \u001b[39m*\u001b[39m\u001b[39m*\u001b[39mkwds)\n",
      "File \u001b[1;32mc:\\Users\\mathi\\anaconda3\\envs\\active-ml\\lib\\site-packages\\numpy\\core\\fromnumeric.py:43\u001b[0m, in \u001b[0;36m_wrapit\u001b[1;34m(obj, method, *args, **kwds)\u001b[0m\n\u001b[0;32m     41\u001b[0m \u001b[39mexcept\u001b[39;00m \u001b[39mAttributeError\u001b[39;00m:\n\u001b[0;32m     42\u001b[0m     wrap \u001b[39m=\u001b[39m \u001b[39mNone\u001b[39;00m\n\u001b[1;32m---> 43\u001b[0m result \u001b[39m=\u001b[39m \u001b[39mgetattr\u001b[39m(asarray(obj), method)(\u001b[39m*\u001b[39margs, \u001b[39m*\u001b[39m\u001b[39m*\u001b[39mkwds)\n\u001b[0;32m     44\u001b[0m \u001b[39mif\u001b[39;00m wrap:\n\u001b[0;32m     45\u001b[0m     \u001b[39mif\u001b[39;00m \u001b[39mnot\u001b[39;00m \u001b[39misinstance\u001b[39m(result, mu\u001b[39m.\u001b[39mndarray):\n",
      "\u001b[1;31mValueError\u001b[0m: attempt to get argmax of an empty sequence"
     ]
    }
   ],
   "source": [
    "# Random sampling hyperparameters\n",
    "rand_lr = [random.uniform(1e-4, 1e-2) for _ in range(20)]\n",
    "rand_dr = [random.uniform(0.0, 0.5) for _ in range(20)]\n",
    "\n",
    "for rand in zip(rand_lr, rand_dr):\n",
    "    objective(rand)\n",
    "\n",
    "best_idx = np.argmax(acc_list[10:19])\n",
    "best_acc = acc_list[best_idx]\n",
    "best_lr = rand_lr[best_idx - 10]\n",
    "best_dr = rand_dr[best_idx - 10]\n",
    "print(best_acc, best_lr, best_dr)"
   ]
  },
  {
   "cell_type": "code",
   "execution_count": 80,
   "metadata": {},
   "outputs": [
    {
     "name": "stdout",
     "output_type": "stream",
     "text": [
      "[0.859, 0.858, 0.848, 0.817, 0.864, 0.848, 0.84, 0.847, 0.865, 0.846]\n",
      "0.865 0.001739088273958544 0.1193796360022038\n"
     ]
    }
   ],
   "source": [
    "# Statisical test and confidence interval\n"
   ]
  }
 ],
 "metadata": {
  "kernelspec": {
   "display_name": "active-ml",
   "language": "python",
   "name": "python3"
  },
  "language_info": {
   "codemirror_mode": {
    "name": "ipython",
    "version": 3
   },
   "file_extension": ".py",
   "mimetype": "text/x-python",
   "name": "python",
   "nbconvert_exporter": "python",
   "pygments_lexer": "ipython3",
   "version": "3.9.16"
  },
  "vscode": {
   "interpreter": {
    "hash": "5550561c7e85dace74674ee19323cd385967e1b9da6fedebe9016268a83c5703"
   }
  }
 },
 "nbformat": 4,
 "nbformat_minor": 0
}
