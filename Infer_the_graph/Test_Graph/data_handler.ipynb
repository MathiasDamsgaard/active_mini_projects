{
 "cells": [
  {
   "cell_type": "code",
   "execution_count": 142,
   "metadata": {
    "collapsed": true,
    "ExecuteTime": {
     "start_time": "2023-04-20T16:03:57.189776Z",
     "end_time": "2023-04-20T16:03:57.208367Z"
    }
   },
   "outputs": [],
   "source": [
    "import re\n",
    "\n",
    "import pandas as pd\n",
    "import numpy as np\n",
    "import os\n",
    "import re\n",
    "\n",
    "samples_path = 'Samples/'"
   ]
  },
  {
   "cell_type": "code",
   "execution_count": 143,
   "outputs": [],
   "source": [
    "# For each file in the Samples folder, read the file and save the mean, std, and correltaion for each column in a new pandas file:\n",
    "master_df = pd.DataFrame(index=['A', 'B', 'C', 'D'])\n",
    "\n",
    "for file in os.listdir(samples_path):\n",
    "    df = pd.read_csv(samples_path + file)\n",
    "    df = df.dropna()\n",
    "    df = df.drop(columns=['Unnamed: 0'])\n",
    "    data_list = [[],[],[],[]]\n",
    "    for i, col in enumerate(df.columns):\n",
    "        df[col] = df[col].astype(float)\n",
    "        data_list[i] = [df[col].mean(), df[col].std()]\n",
    "    #df2 = df.corr\n",
    "    # Add the new calculated columns to the master dataframe and the data_list and correlation matrix and each column is A, B ,C, D:\n",
    "    master_df[ str(file)[:-4]] = data_list\n",
    "    #master_df[str(file) + ' Correlation'] = df2"
   ],
   "metadata": {
    "collapsed": false,
    "ExecuteTime": {
     "start_time": "2023-04-20T16:03:59.215595Z",
     "end_time": "2023-04-20T16:03:59.260474Z"
    }
   }
  },
  {
   "cell_type": "code",
   "execution_count": 144,
   "outputs": [
    {
     "data": {
      "text/plain": "                                       A-2_0  \\\nA                                [-2.0, 0.0]   \nB  [0.12870968157302273, 0.5545031659037266]   \nC    [0.1759685090859212, 1.094869908319967]   \nD  [-1.5487096815730226, 0.7810793161035431]   \n\n                                        B0_0  \\\nA     [1.165836868386904, 1.925735277506098]   \nB                                 [0.0, 0.0]   \nC  [0.24091212189603556, 1.1569088849327456]   \nD   [1.7708368683869042, 2.0413228669615195]   \n\n                                        C0_0  \\\nA     [1.021513685154047, 1.557800587068807]   \nB  [0.22022366717010786, 0.6312925350284297]   \nC                                 [0.0, 0.0]   \nD   [1.4112900179839392, 1.8817082022745162]   \n\n                                        D0_0  \\\nA   [1.0340032509531263, 2.1314803929404498]   \nB  [0.19180562618549593, 0.6321214201294665]   \nC  [0.19539205314004066, 1.1648769339842944]   \nD                                 [0.0, 0.0]   \n\n                                    data_200  \nA    [1.4333071145900511, 2.035669298671663]  \nB  [0.13245014657243537, 0.5907003984546545]  \nC   [0.25645390792983097, 1.147384328594295]  \nD    [1.8858569680176158, 2.179993117960907]  ",
      "text/html": "<div>\n<style scoped>\n    .dataframe tbody tr th:only-of-type {\n        vertical-align: middle;\n    }\n\n    .dataframe tbody tr th {\n        vertical-align: top;\n    }\n\n    .dataframe thead th {\n        text-align: right;\n    }\n</style>\n<table border=\"1\" class=\"dataframe\">\n  <thead>\n    <tr style=\"text-align: right;\">\n      <th></th>\n      <th>A-2_0</th>\n      <th>B0_0</th>\n      <th>C0_0</th>\n      <th>D0_0</th>\n      <th>data_200</th>\n    </tr>\n  </thead>\n  <tbody>\n    <tr>\n      <th>A</th>\n      <td>[-2.0, 0.0]</td>\n      <td>[1.165836868386904, 1.925735277506098]</td>\n      <td>[1.021513685154047, 1.557800587068807]</td>\n      <td>[1.0340032509531263, 2.1314803929404498]</td>\n      <td>[1.4333071145900511, 2.035669298671663]</td>\n    </tr>\n    <tr>\n      <th>B</th>\n      <td>[0.12870968157302273, 0.5545031659037266]</td>\n      <td>[0.0, 0.0]</td>\n      <td>[0.22022366717010786, 0.6312925350284297]</td>\n      <td>[0.19180562618549593, 0.6321214201294665]</td>\n      <td>[0.13245014657243537, 0.5907003984546545]</td>\n    </tr>\n    <tr>\n      <th>C</th>\n      <td>[0.1759685090859212, 1.094869908319967]</td>\n      <td>[0.24091212189603556, 1.1569088849327456]</td>\n      <td>[0.0, 0.0]</td>\n      <td>[0.19539205314004066, 1.1648769339842944]</td>\n      <td>[0.25645390792983097, 1.147384328594295]</td>\n    </tr>\n    <tr>\n      <th>D</th>\n      <td>[-1.5487096815730226, 0.7810793161035431]</td>\n      <td>[1.7708368683869042, 2.0413228669615195]</td>\n      <td>[1.4112900179839392, 1.8817082022745162]</td>\n      <td>[0.0, 0.0]</td>\n      <td>[1.8858569680176158, 2.179993117960907]</td>\n    </tr>\n  </tbody>\n</table>\n</div>"
     },
     "execution_count": 144,
     "metadata": {},
     "output_type": "execute_result"
    }
   ],
   "source": [
    "master_df"
   ],
   "metadata": {
    "collapsed": false,
    "ExecuteTime": {
     "start_time": "2023-04-20T16:04:02.522094Z",
     "end_time": "2023-04-20T16:04:02.557462Z"
    }
   }
  },
  {
   "cell_type": "code",
   "execution_count": 141,
   "outputs": [
    {
     "data": {
      "text/plain": "[-2.0, 0.0]"
     },
     "execution_count": 141,
     "metadata": {},
     "output_type": "execute_result"
    }
   ],
   "source": [
    "master_df['A-1_0'].loc['A']"
   ],
   "metadata": {
    "collapsed": false,
    "ExecuteTime": {
     "start_time": "2023-04-20T15:53:57.961365Z",
     "end_time": "2023-04-20T15:53:58.009396Z"
    }
   }
  }
 ],
 "metadata": {
  "kernelspec": {
   "display_name": "Python 3",
   "language": "python",
   "name": "python3"
  },
  "language_info": {
   "codemirror_mode": {
    "name": "ipython",
    "version": 2
   },
   "file_extension": ".py",
   "mimetype": "text/x-python",
   "name": "python",
   "nbconvert_exporter": "python",
   "pygments_lexer": "ipython2",
   "version": "2.7.6"
  }
 },
 "nbformat": 4,
 "nbformat_minor": 0
}
