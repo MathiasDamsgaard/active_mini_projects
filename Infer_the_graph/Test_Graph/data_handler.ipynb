{
 "cells": [
  {
   "cell_type": "code",
   "execution_count": 133,
   "metadata": {
    "collapsed": true,
    "ExecuteTime": {
     "start_time": "2023-04-20T15:47:29.089110Z",
     "end_time": "2023-04-20T15:47:29.118034Z"
    }
   },
   "outputs": [],
   "source": [
    "import re\n",
    "\n",
    "import pandas as pd\n",
    "import numpy as np\n",
    "import os\n",
    "import re\n",
    "\n",
    "samples_path = 'Samples/'"
   ]
  },
  {
   "cell_type": "code",
   "execution_count": 138,
   "outputs": [],
   "source": [
    "# For each file in the Samples folder, read the file and save the mean, std, and correltaion for each column in a new pandas file:\n",
    "master_df = pd.DataFrame(index=['A', 'B', 'C', 'D'])\n",
    "\n",
    "for file in os.listdir(samples_path):\n",
    "    df = pd.read_csv(samples_path + file)\n",
    "    df = df.dropna()\n",
    "    df = df.drop(columns=['Unnamed: 0'])\n",
    "    data_list = [[],[],[],[]]\n",
    "    for i, col in enumerate(df.columns):\n",
    "        df[col] = df[col].astype(float)\n",
    "        data_list[i] = [df[col].mean(), df[col].std()]\n",
    "    #df2 = df.corr\n",
    "    # Add the new calculated columns to the master dataframe and the data_list and correlation matrix and each column is A, B ,C, D:\n",
    "    master_df[ str(file)[:-4]] = data_list\n",
    "    #master_df[str(file) + ' Correlation'] = df2"
   ],
   "metadata": {
    "collapsed": false,
    "ExecuteTime": {
     "start_time": "2023-04-20T15:52:31.166843Z",
     "end_time": "2023-04-20T15:52:31.189473Z"
    }
   }
  },
  {
   "cell_type": "code",
   "execution_count": 139,
   "outputs": [
    {
     "data": {
      "text/plain": "                                       A-1_0  \\\nA                                [-2.0, 0.0]   \nB  [0.12870968157302273, 0.5545031659037266]   \nC    [0.1759685090859212, 1.094869908319967]   \nD  [-1.5487096815730226, 0.7810793161035431]   \n\n                                       A-2_0  \nA                                [-2.0, 0.0]  \nB  [0.12870968157302273, 0.5545031659037266]  \nC    [0.1759685090859212, 1.094869908319967]  \nD  [-1.5487096815730226, 0.7810793161035431]  ",
      "text/html": "<div>\n<style scoped>\n    .dataframe tbody tr th:only-of-type {\n        vertical-align: middle;\n    }\n\n    .dataframe tbody tr th {\n        vertical-align: top;\n    }\n\n    .dataframe thead th {\n        text-align: right;\n    }\n</style>\n<table border=\"1\" class=\"dataframe\">\n  <thead>\n    <tr style=\"text-align: right;\">\n      <th></th>\n      <th>A-1_0</th>\n      <th>A-2_0</th>\n    </tr>\n  </thead>\n  <tbody>\n    <tr>\n      <th>A</th>\n      <td>[-2.0, 0.0]</td>\n      <td>[-2.0, 0.0]</td>\n    </tr>\n    <tr>\n      <th>B</th>\n      <td>[0.12870968157302273, 0.5545031659037266]</td>\n      <td>[0.12870968157302273, 0.5545031659037266]</td>\n    </tr>\n    <tr>\n      <th>C</th>\n      <td>[0.1759685090859212, 1.094869908319967]</td>\n      <td>[0.1759685090859212, 1.094869908319967]</td>\n    </tr>\n    <tr>\n      <th>D</th>\n      <td>[-1.5487096815730226, 0.7810793161035431]</td>\n      <td>[-1.5487096815730226, 0.7810793161035431]</td>\n    </tr>\n  </tbody>\n</table>\n</div>"
     },
     "execution_count": 139,
     "metadata": {},
     "output_type": "execute_result"
    }
   ],
   "source": [
    "master_df"
   ],
   "metadata": {
    "collapsed": false,
    "ExecuteTime": {
     "start_time": "2023-04-20T15:52:32.739416Z",
     "end_time": "2023-04-20T15:52:32.780610Z"
    }
   }
  },
  {
   "cell_type": "code",
   "execution_count": 141,
   "outputs": [
    {
     "data": {
      "text/plain": "[-2.0, 0.0]"
     },
     "execution_count": 141,
     "metadata": {},
     "output_type": "execute_result"
    }
   ],
   "source": [
    "master_df['A-1_0'].loc['A']"
   ],
   "metadata": {
    "collapsed": false,
    "ExecuteTime": {
     "start_time": "2023-04-20T15:53:57.961365Z",
     "end_time": "2023-04-20T15:53:58.009396Z"
    }
   }
  }
 ],
 "metadata": {
  "kernelspec": {
   "display_name": "Python 3",
   "language": "python",
   "name": "python3"
  },
  "language_info": {
   "codemirror_mode": {
    "name": "ipython",
    "version": 2
   },
   "file_extension": ".py",
   "mimetype": "text/x-python",
   "name": "python",
   "nbconvert_exporter": "python",
   "pygments_lexer": "ipython2",
   "version": "2.7.6"
  }
 },
 "nbformat": 4,
 "nbformat_minor": 0
}
