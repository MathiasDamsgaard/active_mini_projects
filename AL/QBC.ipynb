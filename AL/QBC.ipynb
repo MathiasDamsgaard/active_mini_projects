{
 "cells": [
  {
   "cell_type": "code",
   "execution_count": 1,
   "metadata": {
    "collapsed": true
   },
   "outputs": [],
   "source": [
    "from keras.models import Sequential\n",
    "from keras.layers import Dense\n",
    "import sklearn\n",
    "import numpy as np"
   ]
  },
  {
   "cell_type": "code",
   "execution_count": null,
   "metadata": {
    "collapsed": false
   },
   "outputs": [],
   "source": [
    "class CommitteeMember:\n",
    "    def __init__(self):\n",
    "        self.model = Sequential()\n",
    "        self.model.add(Dense(128, input_dim=768*2, activation='relu'))\n",
    "        self.model.add(Dense(2, activation='softmax'))\n",
    "\n",
    "        # Compile the model\n",
    "        self.model.compile(loss='binary_crossentropy', optimizer='adam', metrics=['accuracy'])\n",
    "\n",
    "    def train(self, X_train, y_train):\n",
    "        self.model.fit(X_train, y_train, epochs=25, batch_size=64)"
   ]
  },
  {
   "cell_type": "code",
   "execution_count": null,
   "metadata": {
    "collapsed": false
   },
   "outputs": [],
   "source": [
    "neural_net = Sequential()\n",
    "neural_net.add(Dense(256, input_dim=768*2, activation='relu'))\n",
    "neural_net.add(Dense(256, activation='relu'))\n",
    "neural_net.add(Dense(2, activation='softmax'))\n",
    "\n",
    "neural_net.compile(loss='binary_crossentropy', optimizer='adam', metrics=['accuracy'])"
   ]
  },
  {
   "cell_type": "code",
   "execution_count": null,
   "metadata": {
    "collapsed": false
   },
   "outputs": [],
   "source": [
    "#reset training set and pool\n",
    "committee = [CommitteeMember() for _ in range(10)]\n",
    "testacc_qbc=[] #this should hold the final accuracies\n",
    "trainset = None # should be labeled training data\n",
    "Xtrain = trainset['embedding'] # should be the concatinated embeddings for question and context\n",
    "ytrain = trainset['label']\n",
    "Xpool = None # unlabeled data in pool\n",
    "n_samples = 1000 # number of samples to be labeled from pool\n",
    "n_add = 10\n",
    "#poolidx=np.arange(len(Xpool),dtype=np.int64)\n",
    "#poolidx=np.setdiff1d(poolidx,trainset)\n",
    "for i in range(n_samples):\n",
    "    ypool_lab = []\n",
    "    # fit models in committee\n",
    "    for committee_member in committee:\n",
    "        #bootstrapping\n",
    "        Xtr,ytr=sklearn.utils.resample(Xtrain,ytrain,stratify=ytrain)\n",
    "        #fit\n",
    "        committee_member.train(Xtr, ytr)\n",
    "        #predict\n",
    "        ypool_lab.append(committee_member.model.predict(Xpool))\n",
    "    #get probability of label for each class based on voting in the committee\n",
    "    ypool_p = np.mean(np.array(ypool_lab), 0)\n",
    "    #Refit model in all training data\n",
    "    neural_net.fit(Xtrain,ytrain)\n",
    "    testacc_qbc.append((len(Xtrain),neural_net.evaluate(Xtest, ytest)))\n",
    "    #select sample with maximum disagreement (least confident)\n",
    "    ypool_p_sort_idx = np.argsort(-ypool_p.max(1)) #least confident\n",
    "    # make labels for new points\n",
    "    ypool = None\n",
    "    #add to training set\n",
    "    Xtrain = np.concatenate((Xtrain,Xpool[ypool_p_sort_idx[-n_add:]]))\n",
    "    ytrain = np.concatenate((ytrain,ypool[ypool_p_sort_idx[-n_add:]]))\n",
    "    #remove from pool\n",
    "    Xpool = np.delete(Xpool, ypool_p_sort_idx[-n_add:])\n",
    "    #poolidx=np.setdiff1d(poolidx,poolidx[ypool_p_sort_idx[-n_add:]])\n",
    "    print('Model: LR, %i samples (QBC)'%(n_samples+i*n_add))"
   ]
  }
 ],
 "metadata": {
  "kernelspec": {
   "display_name": "Python 3",
   "language": "python",
   "name": "python3"
  },
  "language_info": {
   "codemirror_mode": {
    "name": "ipython",
    "version": 3
   },
   "file_extension": ".py",
   "mimetype": "text/x-python",
   "name": "python",
   "nbconvert_exporter": "python",
   "pygments_lexer": "ipython3",
   "version": "3.9.16"
  }
 },
 "nbformat": 4,
 "nbformat_minor": 0
}
