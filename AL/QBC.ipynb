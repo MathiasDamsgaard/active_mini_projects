{
 "cells": [
  {
   "cell_type": "code",
   "execution_count": null,
   "metadata": {
    "collapsed": true
   },
   "outputs": [],
   "source": [
    "import sklearn\n",
    "import numpy as np\n",
    "import pickle\n",
    "import pandas as pd"
   ]
  },
  {
   "cell_type": "code",
   "execution_count": null,
   "metadata": {},
   "outputs": [],
   "source": [
    "with open(\"./df_pickle/df_pool.pkl\", \"rb\") as fp:\n",
    "    df_pool = pickle.load(fp)"
   ]
  },
  {
   "cell_type": "code",
   "execution_count": null,
   "metadata": {},
   "outputs": [],
   "source": [
    "with open(\"./df_pickle/df_train.pkl\", \"rb\") as fp:\n",
    "    df_train = pickle.load(fp)"
   ]
  },
  {
   "cell_type": "code",
   "execution_count": null,
   "metadata": {},
   "outputs": [],
   "source": [
    "with open(\"./df_pickle/df_test.pkl\", \"rb\") as fp:\n",
    "    df_test = pickle.load(fp)"
   ]
  },
  {
   "cell_type": "code",
   "execution_count": null,
   "metadata": {},
   "outputs": [],
   "source": [
    "with open(\"./df_pickle/df_gen.pkl\", \"rb\") as fp:\n",
    "    df_gen = pickle.load(fp)"
   ]
  },
  {
   "cell_type": "code",
   "execution_count": null,
   "metadata": {},
   "outputs": [],
   "source": [
    "from keras.models import Sequential\n",
    "from keras.layers import Dense"
   ]
  },
  {
   "cell_type": "code",
   "execution_count": null,
   "metadata": {
    "collapsed": false
   },
   "outputs": [],
   "source": [
    "class CommitteeMember:\n",
    "    def __init__(self):\n",
    "        self.model = Sequential()\n",
    "        self.model.add(Dense(128, input_dim=768*2, activation='relu'))\n",
    "        self.model.add(Dense(2, activation='softmax'))\n",
    "\n",
    "        # Compile the model\n",
    "        self.model.compile(loss='binary_crossentropy', optimizer='adam', metrics=['accuracy'])\n",
    "\n",
    "    def train(self, X_train, y_train):\n",
    "        self.model.fit(X_train, y_train, epochs=25, batch_size=64)"
   ]
  },
  {
   "cell_type": "code",
   "execution_count": null,
   "metadata": {
    "collapsed": false
   },
   "outputs": [],
   "source": [
    "neural_net = Sequential()\n",
    "neural_net.add(Dense(256, input_dim=768*2, activation='relu'))\n",
    "neural_net.add(Dense(256, activation='relu'))\n",
    "neural_net.add(Dense(2, activation='softmax'))\n",
    "\n",
    "neural_net.compile(loss='binary_crossentropy', optimizer='adam', metrics=['accuracy'])"
   ]
  },
  {
   "cell_type": "code",
   "execution_count": null,
   "metadata": {},
   "outputs": [],
   "source": [
    "trainset = df_pool[df_pool['label'].notna()]['combined_embedding'].values\n",
    "#pool = df_pool[df_pool['label'].isna()]['combined_embedding']\n",
    "labels = df_pool[df_pool['label'].notna()]['label'].values\n",
    "assert len(trainset) == len(labels)"
   ]
  },
  {
   "cell_type": "code",
   "execution_count": null,
   "metadata": {},
   "outputs": [],
   "source": [
    "df_test['combined_embedding'] = df_test.apply(lambda x: np.concatenate((x['question_embedding'],x['context_embedding'])), axis=1)\n",
    "Xtest = df_test['combined_embedding'].values\n",
    "ytest = df_test['label'].values"
   ]
  },
  {
   "cell_type": "code",
   "execution_count": null,
   "metadata": {},
   "outputs": [
    {
     "data": {
      "text/plain": "                                             question  \\\n3698  What are ensemble methods and how do they work?   \n\n                                                context  \\\n3698   A subspace of a vector space RM is a line, a ...   \n\n                                     question_embedding  \\\n3698  [tensor(0.2155), tensor(0.4005), tensor(-0.070...   \n\n                                      context_embedding  \\\n3698  [tensor(-0.0080), tensor(0.1167), tensor(0.482...   \n\n                                     combined_embedding  \\\n3698  [0.21554105, 0.40045273, -0.070689894, 0.01691...   \n\n                                 combined_embedding_str label  \n3698  [ 0.21554105  0.40045273 -0.07068989 ...  0.02...   NaN  ",
      "text/html": "<div>\n<style scoped>\n    .dataframe tbody tr th:only-of-type {\n        vertical-align: middle;\n    }\n\n    .dataframe tbody tr th {\n        vertical-align: top;\n    }\n\n    .dataframe thead th {\n        text-align: right;\n    }\n</style>\n<table border=\"1\" class=\"dataframe\">\n  <thead>\n    <tr style=\"text-align: right;\">\n      <th></th>\n      <th>question</th>\n      <th>context</th>\n      <th>question_embedding</th>\n      <th>context_embedding</th>\n      <th>combined_embedding</th>\n      <th>combined_embedding_str</th>\n      <th>label</th>\n    </tr>\n  </thead>\n  <tbody>\n    <tr>\n      <th>3698</th>\n      <td>What are ensemble methods and how do they work?</td>\n      <td>A subspace of a vector space RM is a line, a ...</td>\n      <td>[tensor(0.2155), tensor(0.4005), tensor(-0.070...</td>\n      <td>[tensor(-0.0080), tensor(0.1167), tensor(0.482...</td>\n      <td>[0.21554105, 0.40045273, -0.070689894, 0.01691...</td>\n      <td>[ 0.21554105  0.40045273 -0.07068989 ...  0.02...</td>\n      <td>NaN</td>\n    </tr>\n  </tbody>\n</table>\n</div>"
     },
     "execution_count": 11,
     "metadata": {},
     "output_type": "execute_result"
    }
   ],
   "source": [
    "df_pool.loc[df_pool[df_pool['label'].isna()]['combined_embedding'].iloc[0:1].index]"
   ]
  },
  {
   "cell_type": "code",
   "execution_count": 21,
   "metadata": {
    "collapsed": false
   },
   "outputs": [
    {
     "name": "stdout",
     "output_type": "stream",
     "text": [
      "Keras weights file (<HDF5 file \"variables.h5\" (mode r+)>) saving:\n",
      "...layers\\dense\n",
      "......vars\n",
      ".........0\n",
      ".........1\n",
      "...layers\\dense_1\n",
      "......vars\n",
      ".........0\n",
      ".........1\n",
      "...optimizer\n",
      "......vars\n",
      ".........0\n",
      "...vars\n",
      "Keras model archive saving:\n",
      "File Name                                             Modified             Size\n",
      "config.json                                    2023-03-26 14:12:43         1420\n",
      "metadata.json                                  2023-03-26 14:12:43           64\n",
      "variables.h5                                   2023-03-26 14:12:43       797864\n",
      "Keras weights file (<HDF5 file \"variables.h5\" (mode r+)>) saving:\n",
      "...layers\\dense\n",
      "......vars\n",
      ".........0\n",
      ".........1\n",
      "...layers\\dense_1\n",
      "......vars\n",
      ".........0\n",
      ".........1\n",
      "...optimizer\n",
      "......vars\n",
      ".........0\n",
      "...vars\n",
      "Keras model archive saving:\n",
      "File Name                                             Modified             Size\n",
      "config.json                                    2023-03-26 14:12:44         1420\n",
      "metadata.json                                  2023-03-26 14:12:44           64\n",
      "variables.h5                                   2023-03-26 14:12:44       797864\n",
      "Keras weights file (<HDF5 file \"variables.h5\" (mode r+)>) saving:\n",
      "...layers\\dense\n",
      "......vars\n",
      ".........0\n",
      ".........1\n",
      "...layers\\dense_1\n",
      "......vars\n",
      ".........0\n",
      ".........1\n",
      "...optimizer\n",
      "......vars\n",
      ".........0\n",
      "...vars\n",
      "Keras model archive saving:\n",
      "File Name                                             Modified             Size\n",
      "config.json                                    2023-03-26 14:12:45         1420\n",
      "metadata.json                                  2023-03-26 14:12:45           64\n",
      "variables.h5                                   2023-03-26 14:12:45       797864\n",
      "Keras weights file (<HDF5 file \"variables.h5\" (mode r+)>) saving:\n",
      "...layers\\dense\n",
      "......vars\n",
      ".........0\n",
      ".........1\n",
      "...layers\\dense_1\n",
      "......vars\n",
      ".........0\n",
      ".........1\n",
      "...optimizer\n",
      "......vars\n",
      ".........0\n",
      "...vars\n",
      "Keras model archive saving:\n",
      "File Name                                             Modified             Size\n",
      "config.json                                    2023-03-26 14:12:46         1420\n",
      "metadata.json                                  2023-03-26 14:12:46           64\n",
      "variables.h5                                   2023-03-26 14:12:46       797864\n",
      "Keras weights file (<HDF5 file \"variables.h5\" (mode r+)>) saving:\n",
      "...layers\\dense\n",
      "......vars\n",
      ".........0\n",
      ".........1\n",
      "...layers\\dense_1\n",
      "......vars\n",
      ".........0\n",
      ".........1\n",
      "...optimizer\n",
      "......vars\n",
      ".........0\n",
      "...vars\n",
      "Keras model archive saving:\n",
      "File Name                                             Modified             Size\n",
      "config.json                                    2023-03-26 14:12:47         1420\n",
      "metadata.json                                  2023-03-26 14:12:47           64\n",
      "variables.h5                                   2023-03-26 14:12:47       797864\n",
      "Keras weights file (<HDF5 file \"variables.h5\" (mode r+)>) saving:\n",
      "...layers\\dense\n",
      "......vars\n",
      ".........0\n",
      ".........1\n",
      "...layers\\dense_1\n",
      "......vars\n",
      ".........0\n",
      ".........1\n",
      "...optimizer\n",
      "......vars\n",
      ".........0\n",
      "...vars\n",
      "Keras model archive saving:\n",
      "File Name                                             Modified             Size\n",
      "config.json                                    2023-03-26 14:12:48         1420\n",
      "metadata.json                                  2023-03-26 14:12:48           64\n",
      "variables.h5                                   2023-03-26 14:12:48       797864\n",
      "Keras weights file (<HDF5 file \"variables.h5\" (mode r+)>) saving:\n",
      "...layers\\dense\n",
      "......vars\n",
      ".........0\n",
      ".........1\n",
      "...layers\\dense_1\n",
      "......vars\n",
      ".........0\n",
      ".........1\n",
      "...optimizer\n",
      "......vars\n",
      ".........0\n",
      "...vars\n",
      "Keras model archive saving:\n",
      "File Name                                             Modified             Size\n",
      "config.json                                    2023-03-26 14:12:50         1420\n",
      "metadata.json                                  2023-03-26 14:12:50           64\n",
      "variables.h5                                   2023-03-26 14:12:50       797864\n",
      "Keras weights file (<HDF5 file \"variables.h5\" (mode r+)>) saving:\n",
      "...layers\\dense\n",
      "......vars\n",
      ".........0\n",
      ".........1\n",
      "...layers\\dense_1\n",
      "......vars\n",
      ".........0\n",
      ".........1\n",
      "...optimizer\n",
      "......vars\n",
      ".........0\n",
      "...vars\n",
      "Keras model archive saving:\n",
      "File Name                                             Modified             Size\n",
      "config.json                                    2023-03-26 14:12:53         1420\n",
      "metadata.json                                  2023-03-26 14:12:53           64\n",
      "variables.h5                                   2023-03-26 14:12:53       797864\n",
      "Keras weights file (<HDF5 file \"variables.h5\" (mode r+)>) saving:\n",
      "...layers\\dense\n",
      "......vars\n",
      ".........0\n",
      ".........1\n",
      "...layers\\dense_1\n",
      "......vars\n",
      ".........0\n",
      ".........1\n",
      "...optimizer\n",
      "......vars\n",
      ".........0\n",
      "...vars\n",
      "Keras model archive saving:\n",
      "File Name                                             Modified             Size\n",
      "config.json                                    2023-03-26 14:12:55         1420\n",
      "metadata.json                                  2023-03-26 14:12:55           64\n",
      "variables.h5                                   2023-03-26 14:12:55       797864\n",
      "Keras weights file (<HDF5 file \"variables.h5\" (mode r+)>) saving:\n",
      "...layers\\dense\n",
      "......vars\n",
      ".........0\n",
      ".........1\n",
      "...layers\\dense_1\n",
      "......vars\n",
      ".........0\n",
      ".........1\n",
      "...optimizer\n",
      "......vars\n",
      ".........0\n",
      "...vars\n",
      "Keras model archive saving:\n",
      "File Name                                             Modified             Size\n",
      "config.json                                    2023-03-26 14:12:58         1420\n",
      "metadata.json                                  2023-03-26 14:12:58           64\n",
      "variables.h5                                   2023-03-26 14:12:58       797864\n"
     ]
    },
    {
     "ename": "ValueError",
     "evalue": "setting an array element with a sequence.",
     "output_type": "error",
     "traceback": [
      "\u001B[1;31m---------------------------------------------------------------------------\u001B[0m",
      "\u001B[1;31mRemoteTraceback\u001B[0m                           Traceback (most recent call last)",
      "\u001B[1;31mRemoteTraceback\u001B[0m: \n\"\"\"\nTypeError: only size-1 arrays can be converted to Python scalars\n\nThe above exception was the direct cause of the following exception:\n\nTraceback (most recent call last):\n  File \"C:\\Users\\anton\\AppData\\Local\\Programs\\Python\\Python310\\lib\\multiprocessing\\pool.py\", line 125, in worker\n    result = (True, func(*args, **kwds))\n  File \"C:\\Users\\anton\\AppData\\Local\\Programs\\Python\\Python310\\lib\\multiprocessing\\pool.py\", line 48, in mapstar\n    return list(map(*args))\n  File \"C:\\DTU - KID\\4. Semester\\02463 Aktiv Machine learning og agency\\CODE\\Project\\active_mini_projects\\AL\\worker.py\", line 12, in task\n    committee_member.train(torch.from_numpy(Xtr.astype(np.float32)), ytr)\nValueError: setting an array element with a sequence.\n\"\"\"",
      "\nThe above exception was the direct cause of the following exception:\n",
      "\u001B[1;31mValueError\u001B[0m                                Traceback (most recent call last)",
      "Cell \u001B[1;32mIn[21], line 23\u001B[0m\n\u001B[0;32m     20\u001B[0m ypool_lab \u001B[38;5;241m=\u001B[39m []\n\u001B[0;32m     22\u001B[0m p \u001B[38;5;241m=\u001B[39m Pool(processes\u001B[38;5;241m=\u001B[39m\u001B[38;5;241m10\u001B[39m)\n\u001B[1;32m---> 23\u001B[0m \u001B[43mp\u001B[49m\u001B[38;5;241;43m.\u001B[39;49m\u001B[43mmap\u001B[49m\u001B[43m(\u001B[49m\u001B[43mworker\u001B[49m\u001B[38;5;241;43m.\u001B[39;49m\u001B[43mtask\u001B[49m\u001B[43m,\u001B[49m\u001B[43m \u001B[49m\u001B[43m[\u001B[49m\u001B[43m(\u001B[49m\u001B[43mi\u001B[49m\u001B[43m,\u001B[49m\u001B[43m \u001B[49m\u001B[43mXtrain\u001B[49m\u001B[43m,\u001B[49m\u001B[43m \u001B[49m\u001B[43mytrain\u001B[49m\u001B[43m,\u001B[49m\u001B[43m \u001B[49m\u001B[43mXpool\u001B[49m\u001B[43m,\u001B[49m\u001B[43m \u001B[49m\u001B[43mcommittee_member\u001B[49m\u001B[43m,\u001B[49m\u001B[43m \u001B[49m\u001B[43mypool_lab\u001B[49m\u001B[43m)\u001B[49m\u001B[43m \u001B[49m\u001B[38;5;28;43;01mfor\u001B[39;49;00m\u001B[43m \u001B[49m\u001B[43mcommittee_member\u001B[49m\u001B[43m \u001B[49m\u001B[38;5;129;43;01min\u001B[39;49;00m\u001B[43m \u001B[49m\u001B[43mcommittee\u001B[49m\u001B[43m]\u001B[49m\u001B[43m)\u001B[49m\n\u001B[0;32m     24\u001B[0m p\u001B[38;5;241m.\u001B[39mclose()\n\u001B[0;32m     25\u001B[0m p\u001B[38;5;241m.\u001B[39mjoin()\n",
      "File \u001B[1;32m~\\AppData\\Local\\Programs\\Python\\Python310\\lib\\multiprocessing\\pool.py:367\u001B[0m, in \u001B[0;36mPool.map\u001B[1;34m(self, func, iterable, chunksize)\u001B[0m\n\u001B[0;32m    362\u001B[0m \u001B[38;5;28;01mdef\u001B[39;00m \u001B[38;5;21mmap\u001B[39m(\u001B[38;5;28mself\u001B[39m, func, iterable, chunksize\u001B[38;5;241m=\u001B[39m\u001B[38;5;28;01mNone\u001B[39;00m):\n\u001B[0;32m    363\u001B[0m \u001B[38;5;250m    \u001B[39m\u001B[38;5;124;03m'''\u001B[39;00m\n\u001B[0;32m    364\u001B[0m \u001B[38;5;124;03m    Apply `func` to each element in `iterable`, collecting the results\u001B[39;00m\n\u001B[0;32m    365\u001B[0m \u001B[38;5;124;03m    in a list that is returned.\u001B[39;00m\n\u001B[0;32m    366\u001B[0m \u001B[38;5;124;03m    '''\u001B[39;00m\n\u001B[1;32m--> 367\u001B[0m     \u001B[38;5;28;01mreturn\u001B[39;00m \u001B[38;5;28;43mself\u001B[39;49m\u001B[38;5;241;43m.\u001B[39;49m\u001B[43m_map_async\u001B[49m\u001B[43m(\u001B[49m\u001B[43mfunc\u001B[49m\u001B[43m,\u001B[49m\u001B[43m \u001B[49m\u001B[43miterable\u001B[49m\u001B[43m,\u001B[49m\u001B[43m \u001B[49m\u001B[43mmapstar\u001B[49m\u001B[43m,\u001B[49m\u001B[43m \u001B[49m\u001B[43mchunksize\u001B[49m\u001B[43m)\u001B[49m\u001B[38;5;241;43m.\u001B[39;49m\u001B[43mget\u001B[49m\u001B[43m(\u001B[49m\u001B[43m)\u001B[49m\n",
      "File \u001B[1;32m~\\AppData\\Local\\Programs\\Python\\Python310\\lib\\multiprocessing\\pool.py:774\u001B[0m, in \u001B[0;36mApplyResult.get\u001B[1;34m(self, timeout)\u001B[0m\n\u001B[0;32m    772\u001B[0m     \u001B[38;5;28;01mreturn\u001B[39;00m \u001B[38;5;28mself\u001B[39m\u001B[38;5;241m.\u001B[39m_value\n\u001B[0;32m    773\u001B[0m \u001B[38;5;28;01melse\u001B[39;00m:\n\u001B[1;32m--> 774\u001B[0m     \u001B[38;5;28;01mraise\u001B[39;00m \u001B[38;5;28mself\u001B[39m\u001B[38;5;241m.\u001B[39m_value\n",
      "\u001B[1;31mValueError\u001B[0m: setting an array element with a sequence."
     ]
    }
   ],
   "source": [
    "#reset training set and pool\n",
    "from multiprocessing import Pool\n",
    "import worker\n",
    "if __name__ ==  '__main__':\n",
    "\n",
    "\n",
    "    committee = [worker.CommitteeMember() for _ in range(10)]\n",
    "    testacc_qbc=[] #this should hold the final accuracies\n",
    "    #Xtrain = trainset # should be the concatinated embeddings for question and context\n",
    "    #ytrain = labels\n",
    "    #Xpool = pool['combined_embedding'].values # unlabeled data in pool\n",
    "    n_samples = 1000 # number of samples to be labeled from pool\n",
    "    n_add = 10\n",
    "    #poolidx=np.arange(len(Xpool),dtype=np.int64)\n",
    "    #poolidx=np.setdiff1d(poolidx,trainset)\n",
    "    for i in range(n_samples):\n",
    "        Xtrain = df_pool[df_pool['label'].notna()]['combined_embedding'].values\n",
    "        ytrain = df_pool[df_pool['label'].notna()]['label'].values\n",
    "        Xpool = df_pool[df_pool['label'].isna()]['combined_embedding']\n",
    "        ypool_lab = []\n",
    "\n",
    "        p = Pool(processes=n_add)\n",
    "        p.map(worker.task, [(i, Xtrain, ytrain, Xpool, committee_member, ypool_lab) for committee_member in committee])\n",
    "        p.close()\n",
    "        p.join()\n",
    "\n",
    "\n",
    "        #get probability of label for each class based on voting in the committee\n",
    "        ypool_p = np.mean(np.array(ypool_lab), 0)\n",
    "        #Refit model in all training data\n",
    "        neural_net.fit(Xtrain,ytrain)\n",
    "        testacc_qbc.append((len(Xtrain),neural_net.evaluate(Xtest, ytest)))\n",
    "        #select sample with maximum disagreement (least confident)\n",
    "        ypool_p_sort_idx = np.argsort(-ypool_p.max(1)) #least confident\n",
    "        # make labels for new points\n",
    "        #ypool = ['y']*10 #None\n",
    "        df_pool.loc[Xpool[ypool_p_sort_idx[-n_add:]].index]['label'] = 'y'\n",
    "        #add to training set\n",
    "        #Xtrain = np.concatenate((Xtrain,Xpool[ypool_p_sort_idx[-n_add:]]))\n",
    "        #ytrain = np.concatenate((ytrain,ypool[ypool_p_sort_idx[-n_add:]]))\n",
    "        #remove from pool\n",
    "        #Xpool = np.delete(Xpool, ypool_p_sort_idx[-n_add:])\n",
    "        #poolidx=np.setdiff1d(poolidx,poolidx[ypool_p_sort_idx[-n_add:]])\n",
    "        print('Model: LR, %i samples (QBC)'%(n_samples+i*n_add))"
   ]
  }
 ],
 "metadata": {
  "kernelspec": {
   "display_name": "Python 3",
   "language": "python",
   "name": "python3"
  },
  "language_info": {
   "codemirror_mode": {
    "name": "ipython",
    "version": 3
   },
   "file_extension": ".py",
   "mimetype": "text/x-python",
   "name": "python",
   "nbconvert_exporter": "python",
   "pygments_lexer": "ipython3",
   "version": "3.10.4"
  }
 },
 "nbformat": 4,
 "nbformat_minor": 0
}
