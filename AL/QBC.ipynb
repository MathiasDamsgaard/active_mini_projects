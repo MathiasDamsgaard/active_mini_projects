{
 "cells": [
  {
   "cell_type": "code",
   "execution_count": 1,
   "metadata": {
    "collapsed": true
   },
   "outputs": [],
   "source": [
    "import sklearn\n",
    "import numpy as np\n",
    "import pickle\n",
    "import pandas as pd"
   ]
  },
  {
   "cell_type": "code",
   "execution_count": 11,
   "metadata": {},
   "outputs": [],
   "source": [
    "with open(\"./df_pickle/df_pool.pkl\", \"rb\") as fp:\n",
    "    df_pool = pickle.load(fp)"
   ]
  },
  {
   "cell_type": "code",
   "execution_count": null,
   "metadata": {},
   "outputs": [],
   "source": [
    "with open(\"./df_pickle/df_train.pkl\", \"rb\") as fp:\n",
    "    df_train = pickle.load(fp)"
   ]
  },
  {
   "cell_type": "code",
   "execution_count": 3,
   "metadata": {},
   "outputs": [],
   "source": [
    "with open(\"./df_pickle/df_test.pkl\", \"rb\") as fp:\n",
    "    df_test = pickle.load(fp)"
   ]
  },
  {
   "cell_type": "code",
   "execution_count": 4,
   "metadata": {},
   "outputs": [],
   "source": [
    "with open(\"./df_pickle/df_gen.pkl\", \"rb\") as fp:\n",
    "    df_gen = pickle.load(fp)"
   ]
  },
  {
   "cell_type": "code",
   "execution_count": 6,
   "metadata": {},
   "outputs": [],
   "source": [
    "from keras.models import Sequential\n",
    "from keras.layers import Dense"
   ]
  },
  {
   "cell_type": "code",
   "execution_count": 7,
   "metadata": {
    "collapsed": false
   },
   "outputs": [],
   "source": [
    "class CommitteeMember:\n",
    "    def __init__(self):\n",
    "        self.model = Sequential()\n",
    "        self.model.add(Dense(128, input_dim=768*2, activation='relu'))\n",
    "        self.model.add(Dense(2, activation='softmax'))\n",
    "\n",
    "        # Compile the model\n",
    "        self.model.compile(loss='binary_crossentropy', optimizer='adam', metrics=['accuracy'])\n",
    "\n",
    "    def train(self, X_train, y_train):\n",
    "        self.model.fit(X_train, y_train, epochs=25, batch_size=64)"
   ]
  },
  {
   "cell_type": "code",
   "execution_count": 8,
   "metadata": {
    "collapsed": false
   },
   "outputs": [],
   "source": [
    "neural_net = Sequential()\n",
    "neural_net.add(Dense(256, input_dim=768*2, activation='relu'))\n",
    "neural_net.add(Dense(256, activation='relu'))\n",
    "neural_net.add(Dense(2, activation='softmax'))\n",
    "\n",
    "neural_net.compile(loss='binary_crossentropy', optimizer='adam', metrics=['accuracy'])"
   ]
  },
  {
   "cell_type": "code",
   "execution_count": 9,
   "metadata": {},
   "outputs": [],
   "source": [
    "trainset = df_pool[df_pool['label'].notna()]['combined_embedding'].values\n",
    "#pool = df_pool[df_pool['label'].isna()]['combined_embedding']\n",
    "labels = df_pool[df_pool['label'].notna()]['label'].values\n",
    "assert len(trainset) == len(labels)"
   ]
  },
  {
   "cell_type": "code",
   "execution_count": 21,
   "metadata": {},
   "outputs": [],
   "source": [
    "#df_test['combined_embedding'] = df_test.apply(lambda x: np.concatenate((x['question_embedding'],x['context_embedding'])), axis=1)\n",
    "Xtest = df_test['combined_embedding'].values\n",
    "ytest = df_test['label'].values"
   ]
  },
  {
   "cell_type": "code",
   "execution_count": 34,
   "metadata": {},
   "outputs": [
    {
     "data": {
      "text/html": [
       "<div>\n",
       "<style scoped>\n",
       "    .dataframe tbody tr th:only-of-type {\n",
       "        vertical-align: middle;\n",
       "    }\n",
       "\n",
       "    .dataframe tbody tr th {\n",
       "        vertical-align: top;\n",
       "    }\n",
       "\n",
       "    .dataframe thead th {\n",
       "        text-align: right;\n",
       "    }\n",
       "</style>\n",
       "<table border=\"1\" class=\"dataframe\">\n",
       "  <thead>\n",
       "    <tr style=\"text-align: right;\">\n",
       "      <th></th>\n",
       "      <th>question</th>\n",
       "      <th>context</th>\n",
       "      <th>question_embedding</th>\n",
       "      <th>context_embedding</th>\n",
       "      <th>combined_embedding</th>\n",
       "      <th>combined_embedding_str</th>\n",
       "      <th>label</th>\n",
       "    </tr>\n",
       "  </thead>\n",
       "  <tbody>\n",
       "    <tr>\n",
       "      <th>3698</th>\n",
       "      <td>What are ensemble methods and how do they work?</td>\n",
       "      <td>A subspace of a vector space RM is a line, a ...</td>\n",
       "      <td>[tensor(0.2155), tensor(0.4005), tensor(-0.070...</td>\n",
       "      <td>[tensor(-0.0080), tensor(0.1167), tensor(0.482...</td>\n",
       "      <td>[0.21554105, 0.40045273, -0.070689894, 0.01691...</td>\n",
       "      <td>[ 0.21554105  0.40045273 -0.07068989 ...  0.02...</td>\n",
       "      <td>NaN</td>\n",
       "    </tr>\n",
       "  </tbody>\n",
       "</table>\n",
       "</div>"
      ],
      "text/plain": [
       "                                             question  \\\n",
       "3698  What are ensemble methods and how do they work?   \n",
       "\n",
       "                                                context  \\\n",
       "3698   A subspace of a vector space RM is a line, a ...   \n",
       "\n",
       "                                     question_embedding  \\\n",
       "3698  [tensor(0.2155), tensor(0.4005), tensor(-0.070...   \n",
       "\n",
       "                                      context_embedding  \\\n",
       "3698  [tensor(-0.0080), tensor(0.1167), tensor(0.482...   \n",
       "\n",
       "                                     combined_embedding  \\\n",
       "3698  [0.21554105, 0.40045273, -0.070689894, 0.01691...   \n",
       "\n",
       "                                 combined_embedding_str label  \n",
       "3698  [ 0.21554105  0.40045273 -0.07068989 ...  0.02...   NaN  "
      ]
     },
     "execution_count": 34,
     "metadata": {},
     "output_type": "execute_result"
    }
   ],
   "source": [
    "df_pool.loc[df_pool[df_pool['label'].isna()]['combined_embedding'].iloc[0:1].index]"
   ]
  },
  {
   "cell_type": "code",
   "execution_count": 32,
   "metadata": {},
   "outputs": [
    {
     "data": {
      "text/plain": [
       "pandas.core.series.Series"
      ]
     },
     "execution_count": 32,
     "metadata": {},
     "output_type": "execute_result"
    }
   ],
   "source": [
    "df_pool[df_pool['label'].isna()]['combined_embedding']."
   ]
  },
  {
   "cell_type": "code",
   "execution_count": 36,
   "metadata": {
    "collapsed": false
   },
   "outputs": [],
   "source": [
    "#reset training set and pool\n",
    "committee = [CommitteeMember() for _ in range(10)]\n",
    "testacc_qbc=[] #this should hold the final accuracies\n",
    "#Xtrain = trainset # should be the concatinated embeddings for question and context\n",
    "#ytrain = labels\n",
    "#Xpool = pool['combined_embedding'].values # unlabeled data in pool\n",
    "n_samples = 1000 # number of samples to be labeled from pool\n",
    "n_add = 10\n",
    "#poolidx=np.arange(len(Xpool),dtype=np.int64)\n",
    "#poolidx=np.setdiff1d(poolidx,trainset)\n",
    "for i in range(n_samples):\n",
    "    Xtrain = df_pool[df_pool['label'].notna()]['combined_embedding'].values\n",
    "    ytrain = df_pool[df_pool['label'].notna()]['label'].values\n",
    "    Xpool = df_pool[df_pool['label'].isna()]['combined_embedding']\n",
    "    ypool_lab = []\n",
    "    # fit models in committee\n",
    "    for committee_member in committee:\n",
    "        #bootstrapping\n",
    "        Xtr,ytr=sklearn.utils.resample(Xtrain,ytrain,stratify=ytrain)\n",
    "        #fit\n",
    "        committee_member.train(Xtr.astype('float32'), ytr)\n",
    "        #predict\n",
    "        ypool_lab.append(committee_member.model.predict(Xpool.values))\n",
    "    #get probability of label for each class based on voting in the committee\n",
    "    ypool_p = np.mean(np.array(ypool_lab), 0)\n",
    "    #Refit model in all training data\n",
    "    neural_net.fit(Xtrain,ytrain)\n",
    "    testacc_qbc.append((len(Xtrain),neural_net.evaluate(Xtest, ytest)))\n",
    "    #select sample with maximum disagreement (least confident)\n",
    "    ypool_p_sort_idx = np.argsort(-ypool_p.max(1)) #least confident\n",
    "    # make labels for new points\n",
    "    #ypool = ['y']*10 #None\n",
    "    df_pool.loc[Xpool[ypool_p_sort_idx[-n_add:]].index]['label'] = 'y'\n",
    "    #add to training set\n",
    "    #Xtrain = np.concatenate((Xtrain,Xpool[ypool_p_sort_idx[-n_add:]]))\n",
    "    #ytrain = np.concatenate((ytrain,ypool[ypool_p_sort_idx[-n_add:]]))\n",
    "    #remove from pool\n",
    "    #Xpool = np.delete(Xpool, ypool_p_sort_idx[-n_add:])\n",
    "    #poolidx=np.setdiff1d(poolidx,poolidx[ypool_p_sort_idx[-n_add:]])\n",
    "    print('Model: LR, %i samples (QBC)'%(n_samples+i*n_add))"
   ]
  }
 ],
 "metadata": {
  "kernelspec": {
   "display_name": "Python 3",
   "language": "python",
   "name": "python3"
  },
  "language_info": {
   "codemirror_mode": {
    "name": "ipython",
    "version": 3
   },
   "file_extension": ".py",
   "mimetype": "text/x-python",
   "name": "python",
   "nbconvert_exporter": "python",
   "pygments_lexer": "ipython3",
   "version": "3.10.4"
  }
 },
 "nbformat": 4,
 "nbformat_minor": 0
}
