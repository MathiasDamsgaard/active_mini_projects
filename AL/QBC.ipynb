{
 "cells": [
  {
   "cell_type": "code",
   "execution_count": 1,
   "metadata": {
    "collapsed": true
   },
   "outputs": [],
   "source": [
    "import sklearn\n",
    "import numpy as np\n",
    "import pickle\n",
    "import pandas as pd"
   ]
  },
  {
   "cell_type": "code",
   "execution_count": 2,
   "metadata": {},
   "outputs": [],
   "source": [
    "with open(\"./df_pickle/df_pool.pkl\", \"rb\") as fp:\n",
    "    df_pool = pickle.load(fp)"
   ]
  },
  {
   "cell_type": "code",
   "execution_count": 3,
   "metadata": {},
   "outputs": [],
   "source": [
    "with open(\"./df_pickle/df_train.pkl\", \"rb\") as fp:\n",
    "    df_train = pickle.load(fp)"
   ]
  },
  {
   "cell_type": "code",
   "execution_count": 4,
   "metadata": {},
   "outputs": [],
   "source": [
    "with open(\"./df_pickle/df_test.pkl\", \"rb\") as fp:\n",
    "    df_test = pickle.load(fp)"
   ]
  },
  {
   "cell_type": "code",
   "execution_count": 5,
   "metadata": {},
   "outputs": [],
   "source": [
    "with open(\"./df_pickle/df_gen.pkl\", \"rb\") as fp:\n",
    "    df_gen = pickle.load(fp)"
   ]
  },
  {
   "cell_type": "code",
   "execution_count": 6,
   "metadata": {},
   "outputs": [],
   "source": [
    "from keras.models import Sequential\n",
    "from keras.layers import Dense\n",
    "import openai\n",
    "import time\n",
    "import os\n",
    "import re\n",
    "\n",
    "from dotenv import load_dotenv\n",
    "load_dotenv()\n",
    "openai.api_key = os.getenv('OPENAI_API_KEY')"
   ]
  },
  {
   "cell_type": "code",
   "execution_count": 7,
   "metadata": {
    "collapsed": false
   },
   "outputs": [],
   "source": [
    "class CommitteeMember:\n",
    "    def __init__(self):\n",
    "        self.model = Sequential()\n",
    "        self.model.add(Dense(128, input_dim=768*2, activation='relu'))\n",
    "        self.model.add(Dense(2, activation='softmax'))\n",
    "\n",
    "        # Compile the model\n",
    "        self.model.compile(loss='binary_crossentropy', optimizer='adam', metrics=['accuracy'])\n",
    "\n",
    "    def train(self, X_train, y_train):\n",
    "        self.model.fit(X_train, y_train, epochs=25, batch_size=64)"
   ]
  },
  {
   "cell_type": "code",
   "execution_count": 8,
   "metadata": {
    "collapsed": false
   },
   "outputs": [],
   "source": [
    "neural_net = Sequential()\n",
    "neural_net.add(Dense(256, input_dim=768*2, activation='relu'))\n",
    "neural_net.add(Dense(256, activation='relu'))\n",
    "neural_net.add(Dense(2, activation='softmax'))\n",
    "\n",
    "neural_net.compile(loss='binary_crossentropy', optimizer='adam', metrics=['accuracy'])"
   ]
  },
  {
   "cell_type": "code",
   "execution_count": 9,
   "metadata": {},
   "outputs": [],
   "source": [
    "trainset = df_pool[df_pool['label'].notna()]['combined_embedding'].values\n",
    "#pool = df_pool[df_pool['label'].isna()]['combined_embedding']\n",
    "labels = df_pool[df_pool['label'].notna()]['label'].values\n",
    "assert len(trainset) == len(labels)"
   ]
  },
  {
   "cell_type": "code",
   "execution_count": 10,
   "metadata": {},
   "outputs": [],
   "source": [
    "df_test['combined_embedding'] = df_test.apply(lambda x: np.concatenate((x['question_embedding'],x['context_embedding'])), axis=1)\n",
    "Xtest = df_test['combined_embedding'].values\n",
    "ytest = df_test['label'].values"
   ]
  },
  {
   "cell_type": "code",
   "execution_count": 11,
   "metadata": {},
   "outputs": [
    {
     "data": {
      "text/html": [
       "<div>\n",
       "<style scoped>\n",
       "    .dataframe tbody tr th:only-of-type {\n",
       "        vertical-align: middle;\n",
       "    }\n",
       "\n",
       "    .dataframe tbody tr th {\n",
       "        vertical-align: top;\n",
       "    }\n",
       "\n",
       "    .dataframe thead th {\n",
       "        text-align: right;\n",
       "    }\n",
       "</style>\n",
       "<table border=\"1\" class=\"dataframe\">\n",
       "  <thead>\n",
       "    <tr style=\"text-align: right;\">\n",
       "      <th></th>\n",
       "      <th>question</th>\n",
       "      <th>context</th>\n",
       "      <th>question_embedding</th>\n",
       "      <th>context_embedding</th>\n",
       "      <th>combined_embedding</th>\n",
       "      <th>combined_embedding_str</th>\n",
       "      <th>label</th>\n",
       "    </tr>\n",
       "  </thead>\n",
       "  <tbody>\n",
       "    <tr>\n",
       "      <th>3698</th>\n",
       "      <td>What are ensemble methods and how do they work?</td>\n",
       "      <td>A subspace of a vector space RM is a line, a ...</td>\n",
       "      <td>[tensor(0.2155), tensor(0.4005), tensor(-0.070...</td>\n",
       "      <td>[tensor(-0.0080), tensor(0.1167), tensor(0.482...</td>\n",
       "      <td>[0.21554105, 0.40045273, -0.070689894, 0.01691...</td>\n",
       "      <td>[ 0.21554105  0.40045273 -0.07068989 ...  0.02...</td>\n",
       "      <td>NaN</td>\n",
       "    </tr>\n",
       "  </tbody>\n",
       "</table>\n",
       "</div>"
      ],
      "text/plain": [
       "                                             question  \\\n",
       "3698  What are ensemble methods and how do they work?   \n",
       "\n",
       "                                                context  \\\n",
       "3698   A subspace of a vector space RM is a line, a ...   \n",
       "\n",
       "                                     question_embedding  \\\n",
       "3698  [tensor(0.2155), tensor(0.4005), tensor(-0.070...   \n",
       "\n",
       "                                      context_embedding  \\\n",
       "3698  [tensor(-0.0080), tensor(0.1167), tensor(0.482...   \n",
       "\n",
       "                                     combined_embedding  \\\n",
       "3698  [0.21554105, 0.40045273, -0.070689894, 0.01691...   \n",
       "\n",
       "                                 combined_embedding_str label  \n",
       "3698  [ 0.21554105  0.40045273 -0.07068989 ...  0.02...   NaN  "
      ]
     },
     "execution_count": 11,
     "metadata": {},
     "output_type": "execute_result"
    }
   ],
   "source": [
    "df_pool.loc[df_pool[df_pool['label'].isna()]['combined_embedding'].iloc[0:1].index]"
   ]
  },
  {
   "cell_type": "code",
   "execution_count": 12,
   "metadata": {},
   "outputs": [],
   "source": [
    "def oracle(idxs, df_pool):\n",
    "    new_labels = []\n",
    "    for i, idx in enumerate(idxs):\n",
    "        ctx = df_pool.loc[idx]['context']\n",
    "        q = df_pool.loc[idx]['question']\n",
    "\n",
    "        #Check rate limit\n",
    "        req_per_min += 1\n",
    "        while req_per_min>=19:\n",
    "            time_stamp = time.time()\n",
    "            if int(time.time()-last_time_stamp) > 60:\n",
    "                last_time_stamp = time_stamp\n",
    "                req_per_min = 0\n",
    "            else:\n",
    "                time.sleep(10)\n",
    "        \n",
    "        #Ask the oracle for label for the context and two questions\n",
    "        try:\n",
    "            completion = openai.ChatCompletion.create(\n",
    "            model=\"gpt-3.5-turbo\",\n",
    "            temperature=0,\n",
    "            messages=[\n",
    "                {\"role\":\"system\", \"content\":\"You are a system designed to label if a list of provided questions can be answered using ANY part of a provided context. You will always only reply in the following format for each question: `label: LABEL. LABEL should be 'y' if a question can be answered using the context and else 'n'\"},\n",
    "                {\"role\":\"user\", \"content\": \"CONTEXT: ```The man in the house has a boy named Bob and a red car. He loves ice cream``` QUESTION: ```Is the boy named Jim?``` QUESTION: ```Does the man have a red book?```\"},\n",
    "                {\"role\":\"assistant\", \"content\":\"label: y\\nlabel: n\"},\n",
    "                {\"role\": \"user\", \"content\": f'CONTEXT: ```{ctx}``` QUESTION: ```{q[\"question\"]}```'}\n",
    "            ]\n",
    "            )\n",
    "        except Exception as e:\n",
    "            print(\"OPENAI_ERROR:\",str(e))\n",
    "            continue\n",
    "        \n",
    "        #Parse the response to get labels\n",
    "        res = completion.choices[0].message.content\n",
    "        labels = re.findall(r'label: ([yn])', res)\n",
    "        \n",
    "        #If two labels are not found, assume something went wrong and skip this iteration\n",
    "        if len(labels) != 1:\n",
    "            print('[Error] labels not found in response:', res)\n",
    "            continue\n",
    "        \n",
    "        new_labels.append(labels)\n",
    "\n",
    "    return new_labels"
   ]
  },
  {
   "cell_type": "code",
   "execution_count": 13,
   "metadata": {
    "collapsed": false
   },
   "outputs": [
    {
     "name": "stdout",
     "output_type": "stream",
     "text": [
      "INFO:tensorflow:Assets written to: ram://24518fa5-846a-410e-b6d6-bec7dd323500/assets\n",
      "INFO:tensorflow:Assets written to: ram://e8e1f1ec-b268-40e7-828c-1e380ad5c76c/assets\n",
      "INFO:tensorflow:Assets written to: ram://cdef18f2-f0bb-4f77-86c6-210dec3378cc/assets\n",
      "INFO:tensorflow:Assets written to: ram://0f8579c5-c234-4a40-81f6-5e973d4a6224/assets\n",
      "INFO:tensorflow:Assets written to: ram://d0d58bf5-7670-4f97-a998-60f10af5faa9/assets\n",
      "INFO:tensorflow:Assets written to: ram://b122e3e5-a1e3-4869-bb4f-1964880d0270/assets\n",
      "INFO:tensorflow:Assets written to: ram://5c5c3202-266c-4c9e-aed2-7226037346e2/assets\n",
      "INFO:tensorflow:Assets written to: ram://913bfd03-9d77-4eda-9e41-9f039172e58a/assets\n",
      "INFO:tensorflow:Assets written to: ram://4881ee33-33e7-4d06-bd4e-d59f80302584/assets\n",
      "INFO:tensorflow:Assets written to: ram://587e5328-4d1a-4823-a38f-f485b53b5dc1/assets\n"
     ]
    }
   ],
   "source": [
    "#reset training set and pool\n",
    "from multiprocessing import Pool\n",
    "import worker\n",
    "if __name__ ==  '__main__':\n",
    "    committee = [worker.CommitteeMember() for _ in range(10)]\n",
    "    testacc_qbc=[] #this should hold the final accuracies\n",
    "    #Xtrain = trainset # should be the concatinated embeddings for question and context\n",
    "    #ytrain = labels\n",
    "    #Xpool = pool['combined_embedding'].values # unlabeled data in pool\n",
    "    n_samples = 50 # number of samples to be labeled from pool\n",
    "    n_add = 10\n",
    "    #poolidx=np.arange(len(Xpool),dtype=np.int64)\n",
    "    #poolidx=np.setdiff1d(poolidx,trainset)\n",
    "    for i in range(n_samples):\n",
    "        Xtrain = df_pool[df_pool['label'].notna()]['combined_embedding'].values\n",
    "        ytrain = df_pool[df_pool['label'].notna()]['label'].values\n",
    "        Xpool = df_pool[df_pool['label'].isna()]['combined_embedding']\n",
    "        ypool_lab = []\n",
    "\n",
    "        p = Pool(processes=n_add)\n",
    "        p.map(worker.task, [(i, Xtrain, ytrain, Xpool, committee_member, ypool_lab) for committee_member in committee])\n",
    "        p.close()\n",
    "        p.join()\n",
    "\n",
    "        #get probability of label for each class based on voting in the committee\n",
    "        ypool_p = np.mean(np.array(ypool_lab), 0)\n",
    "        #Refit model in all training data\n",
    "        neural_net.fit(Xtrain,ytrain)\n",
    "        testacc_qbc.append((len(Xtrain),neural_net.evaluate(Xtest, ytest)))\n",
    "        #select sample with maximum disagreement (least confident)\n",
    "        ypool_p_sort_idx = np.argsort(-ypool_p.max(1))[-n_add:] #least confident\n",
    "        # make labels for new points\n",
    "        #ypool = ['y']*10 #None\n",
    "        new_labels = oracle(ypool_p_sort_idx, df_pool)\n",
    "        df_pool.loc[Xpool[ypool_p_sort_idx].index]['label'] = new_labels\n",
    "        #add to training set\n",
    "        #Xtrain = np.concatenate((Xtrain,Xpool[ypool_p_sort_idx[-n_add:]]))\n",
    "        #ytrain = np.concatenate((ytrain,ypool[ypool_p_sort_idx[-n_add:]]))\n",
    "        #remove from pool\n",
    "        #Xpool = np.delete(Xpool, ypool_p_sort_idx[-n_add:])\n",
    "        #poolidx=np.setdiff1d(poolidx,poolidx[ypool_p_sort_idx[-n_add:]])\n",
    "        print('Model: LR, %i samples (QBC)'%(n_samples+i*n_add))"
   ]
  },
  {
   "cell_type": "code",
   "execution_count": null,
   "metadata": {},
   "outputs": [],
   "source": []
  }
 ],
 "metadata": {
  "kernelspec": {
   "display_name": "Python 3",
   "language": "python",
   "name": "python3"
  },
  "language_info": {
   "codemirror_mode": {
    "name": "ipython",
    "version": 3
   },
   "file_extension": ".py",
   "mimetype": "text/x-python",
   "name": "python",
   "nbconvert_exporter": "python",
   "pygments_lexer": "ipython3",
   "version": "3.9.16"
  }
 },
 "nbformat": 4,
 "nbformat_minor": 0
}
