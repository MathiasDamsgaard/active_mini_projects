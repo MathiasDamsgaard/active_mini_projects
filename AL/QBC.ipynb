{
 "cells": [
  {
   "cell_type": "code",
   "execution_count": 1,
   "metadata": {
    "collapsed": true
   },
   "outputs": [],
   "source": [
    "import sklearn\n",
    "import numpy as np\n",
    "import pickle\n",
    "import pandas as pd"
   ]
  },
  {
   "cell_type": "code",
   "execution_count": 2,
   "metadata": {},
   "outputs": [],
   "source": [
    "with open(\"./df_pickle/df_pool.pkl\", \"rb\") as fp:\n",
    "    df_pool = pickle.load(fp)\n",
    "# Change 'y' and 'n' to 1 and 0 in the pandas dataframe:\n",
    "df_pool['label'] = df_pool['label'].map({'y': 1, 'n': 0})"
   ]
  },
  {
   "cell_type": "code",
   "execution_count": 3,
   "metadata": {},
   "outputs": [],
   "source": [
    "with open(\"./df_pickle/df_train.pkl\", \"rb\") as fp:\n",
    "    df_train = pickle.load(fp)\n",
    "\n",
    "# Change 'y' and 'n' to 1 and 0 in the pandas dataframe:\n",
    "df_train['label'] = df_train['label'].map({'y': 1, 'n': 0})"
   ]
  },
  {
   "cell_type": "code",
   "execution_count": 4,
   "metadata": {},
   "outputs": [],
   "source": [
    "with open(\"./df_pickle/df_test.pkl\", \"rb\") as fp:\n",
    "    df_test = pickle.load(fp)\n",
    "\n",
    "# Change 'y' and 'n' to 1 and 0 in the pandas dataframe:\n",
    "df_test['label'] = df_test['label'].map({'y': 1, 'n': 0})"
   ]
  },
  {
   "cell_type": "code",
   "execution_count": 5,
   "metadata": {},
   "outputs": [],
   "source": [
    "with open(\"./df_pickle/df_gen.pkl\", \"rb\") as fp:\n",
    "    df_gen = pickle.load(fp)\n",
    "\n",
    "# Change 'y' and 'n' to 1 and 0 in the pandas dataframe:\n",
    "df_gen['label'] = df_gen['label'].map({'y': 1, 'n': 0})"
   ]
  },
  {
   "cell_type": "code",
   "execution_count": 6,
   "metadata": {},
   "outputs": [],
   "source": [
    "from keras.models import Sequential\n",
    "from keras.layers import Dense\n",
    "import openai\n",
    "import time\n",
    "import os\n",
    "import re\n",
    "\n",
    "from dotenv import load_dotenv\n",
    "load_dotenv()\n",
    "openai.api_key = os.getenv('OPENAI_API_KEY')"
   ]
  },
  {
   "cell_type": "code",
   "execution_count": 7,
   "metadata": {
    "collapsed": false
   },
   "outputs": [],
   "source": [
    "neural_net = Sequential()\n",
    "neural_net.add(Dense(256, input_dim=768*2, activation='relu'))\n",
    "neural_net.add(Dense(256, activation='relu'))\n",
    "neural_net.add(Dense(1, activation='sigmoid'))\n",
    "\n",
    "neural_net.compile(loss='binary_crossentropy', optimizer='adam', metrics=['accuracy'])"
   ]
  },
  {
   "cell_type": "code",
   "execution_count": 8,
   "metadata": {},
   "outputs": [],
   "source": [
    "trainset = df_pool[df_pool['label'].notna()]['combined_embedding'].values\n",
    "#pool = df_pool[df_pool['label'].isna()]['combined_embedding']\n",
    "labels = df_pool[df_pool['label'].notna()]['label'].values\n",
    "assert len(trainset) == len(labels)"
   ]
  },
  {
   "cell_type": "code",
   "execution_count": 9,
   "metadata": {},
   "outputs": [],
   "source": [
    "df_test['combined_embedding'] = df_test.apply(lambda x: np.concatenate((x['question_embedding'],x['context_embedding'])), axis=1)\n",
    "Xtest = df_test['combined_embedding'].values\n",
    "ytest = df_test['label'].values"
   ]
  },
  {
   "cell_type": "code",
   "execution_count": 10,
   "metadata": {},
   "outputs": [],
   "source": [
    "def oracle(idxs, df_pool):\n",
    "    new_labels = []\n",
    "    req_per_min = 0\n",
    "    for i, idx in enumerate(idxs):\n",
    "        ctx = df_pool.loc[idx]['context']\n",
    "        q = df_pool.loc[idx]['question']\n",
    "\n",
    "        #Check rate limit\n",
    "        req_per_min += 1\n",
    "        while req_per_min>=19:\n",
    "            time_stamp = time.time()\n",
    "            if int(time.time()-last_time_stamp) > 60:\n",
    "                last_time_stamp = time_stamp\n",
    "                req_per_min = 0\n",
    "            else:\n",
    "                time.sleep(10)\n",
    "        \n",
    "        #Ask the oracle for label for the context and two questions\n",
    "        try:\n",
    "            completion = openai.ChatCompletion.create(\n",
    "            model=\"gpt-3.5-turbo\",\n",
    "            temperature=0,\n",
    "            messages=[\n",
    "                {\"role\":\"system\", \"content\":\"You are a system designed to label if a list of provided questions can be answered using ANY part of a provided context. You will always only reply in the following format for each question: `label: LABEL. LABEL should be 'y' if a question can be answered using the context and else 'n'\"},\n",
    "                {\"role\":\"user\", \"content\": \"CONTEXT: ```The man in the house has a boy named Bob and a red car. He loves ice cream``` QUESTION: ```Is the boy named Jim?```\"},\n",
    "                {\"role\":\"assistant\", \"content\":\"label: y\"},\n",
    "                {\"role\": \"user\", \"content\": f'CONTEXT: ```{ctx}``` QUESTION: ```{q}```'}\n",
    "            ]\n",
    "            )\n",
    "        except Exception as e:\n",
    "            print(\"OPENAI_ERROR:\",str(e))\n",
    "            continue\n",
    "        \n",
    "        #Parse the response to get labels\n",
    "        res = completion.choices[0].message.content\n",
    "        labels = re.findall(r'label: ([yn])', res)\n",
    "        \n",
    "        #If the label is not found, assume something went wrong and pad output\n",
    "        if len(labels) != 1:\n",
    "            new_labels.append(None)\n",
    "        elif labels[0] == 'n':\n",
    "            new_labels.append(0)\n",
    "        elif labels[0] == 'y':\n",
    "            new_labels.append(1)\n",
    "\n",
    "    return new_labels"
   ]
  },
  {
   "cell_type": "code",
   "execution_count": 14,
   "metadata": {
    "collapsed": false
   },
   "outputs": [],
   "source": [
    "#reset training set and pool\n",
    "from multiprocessing import Pool\n",
    "import worker\n",
    "if __name__ ==  '__main__':\n",
    "    #committee = [worker.CommitteeMember() for _ in range(10)]\n",
    "    testacc_qbc=[] #this should hold the final accuracies\n",
    "    #Xtrain = trainset # should be the concatinated embeddings for question and context\n",
    "    #ytrain = labels\n",
    "    #Xpool = pool['combined_embedding'].values # unlabeled data in pool\n",
    "    n_samples = 50 # number of samples to be labeled from pool\n",
    "    n_add = 10\n",
    "    n_committee = 10\n",
    "    #poolidx=np.arange(len(Xpool),dtype=np.int64)\n",
    "    #poolidx=np.setdiff1d(poolidx,trainset)\n",
    "    for i in range(n_samples):\n",
    "        Xtrain = df_pool[df_pool['label'].notna()]['combined_embedding'].values\n",
    "        ytrain = df_pool[df_pool['label'].notna()]['label'].values\n",
    "        Xpool = df_pool[df_pool['label'].isna()]['combined_embedding']\n",
    "        ypool_lab = []\n",
    "\n",
    "        p = Pool(processes = n_add)\n",
    "        # print([(i, Xtrain, ytrain, Xpool, committee_member) for committee_member in committee])\n",
    "        ypool_lab = p.map(worker.task, [(id, Xtrain, ytrain, Xpool) for id in range(n_committee)])\n",
    "        p.close()\n",
    "        p.join()\n",
    "\n",
    "        #get probability of label for each class based on voting in the committee\n",
    "        ypool_p = np.mean(np.array(ypool_lab), 0).flatten()\n",
    "        #select sample with maximum disagreement (least confident)\n",
    "        ypool_p_sort_idx = np.argsort(abs(0.5-ypool_p))[:n_add] #least confident\n",
    "        #Refit model in all training data\n",
    "        neural_net.fit(np.asarray(list(Xtrain)).astype('float32'), np.array([np.array(xi) for xi in ytrain]), epochs=25, batch_size=64)\n",
    "        testacc_qbc.append((len(Xtrain),neural_net.evaluate(np.asarray(list(Xtest)).astype('float32'), np.array([np.array(xi) for xi in ytest]))))\n",
    "        # make labels for new points\n",
    "        #ypool = ['y']*10 #None\n",
    "        new_labels = oracle(ypool_p_sort_idx, df_pool)\n",
    "        df_pool.loc[Xpool.iloc[ypool_p_sort_idx].index]['label'] = new_labels\n",
    "        #add to training set\n",
    "        #Xtrain = np.concatenate((Xtrain,Xpool[ypool_p_sort_idx[-n_add:]]))\n",
    "        #ytrain = np.concatenate((ytrain,ypool[ypool_p_sort_idx[-n_add:]]))\n",
    "        #remove from pool\n",
    "        #Xpool = np.delete(Xpool, ypool_p_sort_idx[-n_add:])\n",
    "        #poolidx=np.setdiff1d(poolidx,poolidx[ypool_p_sort_idx[-n_add:]])\n",
    "        print('Model: LR, %i samples (QBC)'%(n_samples+i*n_add))"
   ]
  },
  {
   "cell_type": "code",
   "execution_count": 13,
   "metadata": {},
   "outputs": [],
   "source": []
  }
 ],
 "metadata": {
  "kernelspec": {
   "display_name": "Python 3",
   "language": "python",
   "name": "python3"
  },
  "language_info": {
   "codemirror_mode": {
    "name": "ipython",
    "version": 3
   },
   "file_extension": ".py",
   "mimetype": "text/x-python",
   "name": "python",
   "nbconvert_exporter": "python",
   "pygments_lexer": "ipython3",
   "version": "3.9.16"
  }
 },
 "nbformat": 4,
 "nbformat_minor": 0
}
