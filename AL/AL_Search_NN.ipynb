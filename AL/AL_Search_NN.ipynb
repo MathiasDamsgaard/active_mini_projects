{
 "cells": [
  {
   "cell_type": "code",
   "execution_count": 60,
   "metadata": {},
   "outputs": [],
   "source": [
    "import pandas as pd\n",
    "import numpy as np\n",
    "import pickle\n",
    "import openai\n",
    "import time\n",
    "import os\n",
    "import re\n",
    "\n",
    "from dotenv import load_dotenv\n",
    "load_dotenv()\n",
    "openai.api_key = os.getenv('OPENAI_API_KEY')"
   ]
  },
  {
   "cell_type": "code",
   "execution_count": 61,
   "metadata": {},
   "outputs": [],
   "source": [
    "np.random.seed(69)"
   ]
  },
  {
   "cell_type": "code",
   "execution_count": 62,
   "metadata": {},
   "outputs": [],
   "source": [
    "with open(\"./df_pickle/df_context.pkl\", \"rb\") as fp:\n",
    "    df_context = pickle.load(fp)"
   ]
  },
  {
   "cell_type": "code",
   "execution_count": 63,
   "metadata": {},
   "outputs": [],
   "source": [
    "with open(\"./df_pickle/df_questions.pkl\", \"rb\") as fp:\n",
    "    pool_question = pickle.load(fp)"
   ]
  },
  {
   "cell_type": "code",
   "execution_count": 64,
   "metadata": {},
   "outputs": [],
   "source": [
    "test_questions = pool_question.sample(n=6)\n",
    "pool_question.drop(test_questions.index, inplace=True)\n",
    "gen_questions = pool_question.sample(n=6)\n",
    "pool_question.drop(gen_questions.index, inplace=True)"
   ]
  },
  {
   "cell_type": "code",
   "execution_count": 65,
   "metadata": {},
   "outputs": [],
   "source": [
    "print('Mean context length (chars):', df_context['context'].apply(lambda x: len(x)).values.mean())"
   ]
  },
  {
   "cell_type": "code",
   "execution_count": 66,
   "metadata": {},
   "outputs": [
    {
     "data": {
      "text/plain": "                                              question  \\\n0    ﻿What is the difference between regression and...   \n1    How is the decision tree algorithm modified to...   \n2    What is the stop criterion used in Hunt's algo...   \n3    How is the impurity measure used in regression...   \n4    How does recursive binary splitting work in re...   \n..                                                 ...   \n173  How can we use the inverse cumulative density ...   \n174  What are the two main steps when applying prob...   \n175  What is anomaly detection and how is it relate...   \n176  What are the limitations of the Gaussian mixtu...   \n177  What is the average relative density (ARD) and...   \n\n                                             embedding  \n0    [tensor(0.0604), tensor(-0.1970), tensor(-0.42...  \n1    [tensor(-0.2524), tensor(-0.3376), tensor(-0.0...  \n2    [tensor(-0.1747), tensor(-0.4756), tensor(-0.1...  \n3    [tensor(-0.2113), tensor(-0.2685), tensor(-0.1...  \n4    [tensor(-0.1295), tensor(-0.2529), tensor(-0.3...  \n..                                                 ...  \n173  [tensor(0.1509), tensor(-0.2756), tensor(-0.13...  \n174  [tensor(0.0231), tensor(0.0890), tensor(-0.143...  \n175  [tensor(-0.0699), tensor(-0.0518), tensor(-0.0...  \n176  [tensor(-0.1945), tensor(-0.1045), tensor(0.02...  \n177  [tensor(0.0143), tensor(-0.2677), tensor(0.148...  \n\n[178 rows x 2 columns]",
      "text/html": "<div>\n<style scoped>\n    .dataframe tbody tr th:only-of-type {\n        vertical-align: middle;\n    }\n\n    .dataframe tbody tr th {\n        vertical-align: top;\n    }\n\n    .dataframe thead th {\n        text-align: right;\n    }\n</style>\n<table border=\"1\" class=\"dataframe\">\n  <thead>\n    <tr style=\"text-align: right;\">\n      <th></th>\n      <th>question</th>\n      <th>embedding</th>\n    </tr>\n  </thead>\n  <tbody>\n    <tr>\n      <th>0</th>\n      <td>﻿What is the difference between regression and...</td>\n      <td>[tensor(0.0604), tensor(-0.1970), tensor(-0.42...</td>\n    </tr>\n    <tr>\n      <th>1</th>\n      <td>How is the decision tree algorithm modified to...</td>\n      <td>[tensor(-0.2524), tensor(-0.3376), tensor(-0.0...</td>\n    </tr>\n    <tr>\n      <th>2</th>\n      <td>What is the stop criterion used in Hunt's algo...</td>\n      <td>[tensor(-0.1747), tensor(-0.4756), tensor(-0.1...</td>\n    </tr>\n    <tr>\n      <th>3</th>\n      <td>How is the impurity measure used in regression...</td>\n      <td>[tensor(-0.2113), tensor(-0.2685), tensor(-0.1...</td>\n    </tr>\n    <tr>\n      <th>4</th>\n      <td>How does recursive binary splitting work in re...</td>\n      <td>[tensor(-0.1295), tensor(-0.2529), tensor(-0.3...</td>\n    </tr>\n    <tr>\n      <th>...</th>\n      <td>...</td>\n      <td>...</td>\n    </tr>\n    <tr>\n      <th>173</th>\n      <td>How can we use the inverse cumulative density ...</td>\n      <td>[tensor(0.1509), tensor(-0.2756), tensor(-0.13...</td>\n    </tr>\n    <tr>\n      <th>174</th>\n      <td>What are the two main steps when applying prob...</td>\n      <td>[tensor(0.0231), tensor(0.0890), tensor(-0.143...</td>\n    </tr>\n    <tr>\n      <th>175</th>\n      <td>What is anomaly detection and how is it relate...</td>\n      <td>[tensor(-0.0699), tensor(-0.0518), tensor(-0.0...</td>\n    </tr>\n    <tr>\n      <th>176</th>\n      <td>What are the limitations of the Gaussian mixtu...</td>\n      <td>[tensor(-0.1945), tensor(-0.1045), tensor(0.02...</td>\n    </tr>\n    <tr>\n      <th>177</th>\n      <td>What is the average relative density (ARD) and...</td>\n      <td>[tensor(0.0143), tensor(-0.2677), tensor(0.148...</td>\n    </tr>\n  </tbody>\n</table>\n<p>178 rows × 2 columns</p>\n</div>"
     },
     "execution_count": 66,
     "metadata": {},
     "output_type": "execute_result"
    }
   ],
   "source": [
    "fred_ct = 'A Bayesian network also called a belief network or Bayesian belief network is not as such adding a new method to our toolbox, but it provides a convenient and often-used notation for presenting existing probabilities. Consider the following example adapted from Pearl [2014], MacKay [2003] Fred lives in Los Angeles and commutes 60 miles to work. Whilst at work, he receives a phone-call from his neighbour saying that Fred’s burglar alarm is ringing. What is the probability that there was a burglar in his house today? While driving home to investigate, Fred hears on the radio that there was a small earthquake that day near his home. ‘Oh’, he says, feeling relieved, ‘it was probably the earthquake that set off the alarm’. What is the probability that there was a burglar in his house? To analyse this story we first introduce the variables: a : The alarm is ringing. b : A burglar was in Fred’s house. c : Fred received a phone-call reporting the alarm. e : A small earthquake took place today near Fred’s house. r : The radio report of the earthquake is heard by Fred. In a case like this, we know (from our experience) that some of these events must be independent. That there is a burglar or a minor earthquake is presumable unrelated events, so p(b, e) = p(b)p(e). In general, the probability of these variables will factorize as follows:232 13 Bayesian methods Earthquake Burglar Radio Alarm Phonecall Fig. 13.3. Bayesian network of the burglar example. Each vertex corresponds to a variable, and incident edges corresponds to conditional dependence. p(a, b, c, e, r) = p(b)p(e)p(a|b, e)p(c|a)p(r|e). (13.14) This factorization of the probability has important consequences. Firstly, as for the na¨ıve-Bayes assumption, it makes the probability density much less costly to store on a computer and reliable to estimate as there are fewer parameters than the full (un-factorized) joint distribution. Secondly, it allows faster computation by exploiting the factorization structure and finally it allows us easier to see what quantities are independent of each other. It is common to represent the factorization as a network where the vertices correspond to the variables and the edges correspond to statistical dependence, see fig. 13.3 for an illustration. So for instance, if there is an edge from B to A, that means that in the joint distribution, then A must be conditional on B and possible other variables connected to A. To solve the Burglar problem, assume the probability of there being a burglar is p(b = 1) = 0.1%, earthquake p(e = 1) = 0.1% (corresponding to roughly one burglar and earthquake every four years) and that the alarm is triggered either by (1) false alarms (very low probability), (2) if an earthquake takes place (low probability) and finally if a burglar enters the home (high probability). In our example these probabilities are:1 1 For instance, suppose we let f = 0.1% denote the chance a false alarm triggers a, αe = 1% the chance an earthquake triggers a and finally αb = 99% the chance a burglar triggers a. The probabilities can then be obtained as: p(a = 1|b = 0, e = 0) = f, p(a = 1|b = 0, e = 1) = 1−(1−f)(1−αe), p(a = 1|b = 1, e = 0) = 1−(1−f)(1−αb), p(a = 1|b = 1, e = 1) = 1−(1−f)(1−αb)(1−αe).13.3 Bayesian networksF 233 p(a = 1|b = 0, e = 0) = 0.1%, p(a = 1|b = 0, e = 1) = 1.099%, p(a = 1|b = 1, e = 0) = 99.001%, p(a = 1|b = 1, e = 1) = 99.011%. Finally assume the neighbour would never phone if the alarm is not ringing (p(c = 1|a = 0) = 0) and that the radio reported is also trustworthy (p(r = 1|e = 0) = 0) and let’s return to the problem: Suppose first the phone calls c = 1; then we know the alarm is ringing a = 1 and so the posterior probability of b, e (burglary and earthquake) becomes: p(b, e|a = 1) = p(a = 1|b, e)p(b, e) p(a = 1) . We can use the Bayes network to compute these probabilities. For instance when computing p(a = 1), we must compute this by summing over all other variables than a: p(a = 1) = X b∈{0,1} X c∈{0,1} X e∈{0,1} X r∈{0,1} p(a = 1, b, c, e, r), (13.15) However, if we plug in the expression of the likelihood (13.14) we see that variables c and r can trivially be summed out (i.e., marginalized): p(a = 1) = X b∈{0,1} X c∈{0,1} X e∈{0,1} X r∈{0,1} p(b)p(e)p(a = 1|b, e)p(c|a = 1)p(r|e) = X b∈{0,1} X e∈{0,1} \\uf8ee \\uf8f0p(b)p(e)p(a = 1|b, e) \\uf8eb \\uf8ed X c∈{0,1} p(c|a = 1) X r∈{0,1} p(r|e) \\uf8f6 \\uf8f8 \\uf8f9 \\uf8fb = X b∈{0,1} X e∈{0,1} p(b)p(e)p(a = 1|b, e) (13.16) Comparing to the Bayesian network in fig. 13.3 we see that to determine what variables remain in the sum when computing p(a), we look at all other vertices in a network where we can move to a by going in the direction of the edges. See fig. 13.4 where we have illustrated the two nodes that remain, e, b, with red. Using the above numbers we obtain: p(a = 1|b = 0, e = 0)p(b = 0)p(e = 0) = 0.000998, p(a = 1|b = 1, e = 0)p(b = 1)p(e = 0) = 0.0000989, p(a = 1|b = 0, e = 1)p(b = 0)p(e = 1) = 0.000010979, p(a = 1|b = 1, e = 1)p(b = 1)p(e = 1) = 9.9 × 10−7 . By inserting these four numbers into eq. (13.16) and summing we obtain p(a = 1) = 0.002 and so from eq. (13.15) p(b = 0, e = 0|a = 1) = 0.4993, (13.17) p(b = 1, e = 0|a = 1) = 0.4947, (13.18) p(b = 0, e = 1|a = 1) = 0.0055, (13.19) p(b = 1, e = 1|a = 1) = 0.0005. (13.20)234 13 Bayesian methods Earthquake Burglar Radio Alarm Phonecall Fig. 13.4. To determine what variables must be summed out when computing the marginal of a variable such as a, we look at all variables such that one can move in the direction of the arrows from those variables to a. This gives p(a, e, b) So returning to the initial question, when we determine if there was a burglar at the house we must compute p(b = 1|a = 1) which can be accomplished by marginalizing over the burglar-variable: p(b = 0|a = 1) = p(b = 0, e = 0|a = 1) + p(b = 0, e = 1|a = 1) = 0.505 p(b = 1|a = 1) = p(b = 1, e = 0|a = 1) + p(b = 1, e = 1|a = 1) = 0.494 so after receiving the call, we believe there to be a 50% chance there was a burglar in the house. An important point to take away from this example is that b and e, which were initially independent: p(e, b) = p(e)p(b), are made dependent by the information a. Now consider the final part of the example. Suppose we also learn that e = 1 (i.e. there was an earthquake). The probability there was a burglar can now be computed as: p(b|e, a) = p(b, e|a) p(e|a) = p(b, e|a) p(e, b = 0|a) + p(e, b = 1|a) . If we plug in numbers we obtain p(e = 1|a = 1) = 0.006 and so p(b = 0|e = 1, a = 1) = p(b = 0, e = 1|a = 1) p(e = 1|a = 1) = 0.92 p(b = 1|e = 1, a = 1) = p(b = 1, e = 1|a = 1) p(e = 1|a = 1) = 0.08 So after learning the alarm was triggered, this lowers our probability there was a burglar in the house from about 50% to about 8%. This is in according to everyday intuition: when we learn about the earthquake, we consider that to be the more plausible explanation of the alarm.'"
   ]
  },
  {
   "cell_type": "code",
   "execution_count": 43,
   "metadata": {},
   "outputs": [],
   "source": [
    "a = time.time()"
   ]
  },
  {
   "cell_type": "code",
   "execution_count": 44,
   "metadata": {},
   "outputs": [
    {
     "data": {
      "text/plain": "5"
     },
     "execution_count": 44,
     "metadata": {},
     "output_type": "execute_result"
    }
   ],
   "source": [
    "int(time.time() - a)"
   ]
  },
  {
   "attachments": {},
   "cell_type": "markdown",
   "metadata": {},
   "source": [
    "# Oracle - Getting label from ChatGPT"
   ]
  },
  {
   "cell_type": "code",
   "execution_count": 45,
   "metadata": {},
   "outputs": [
    {
     "name": "stdout",
     "output_type": "stream",
     "text": [
      "0\n",
      "100\n"
     ]
    },
    {
     "ename": "KeyboardInterrupt",
     "evalue": "",
     "output_type": "error",
     "traceback": [
      "\u001B[1;31m---------------------------------------------------------------------------\u001B[0m",
      "\u001B[1;31mKeyboardInterrupt\u001B[0m                         Traceback (most recent call last)",
      "Cell \u001B[1;32mIn[45], line 23\u001B[0m\n\u001B[0;32m     21\u001B[0m \u001B[38;5;66;03m#Ask the oracle for label for the context and two questions\u001B[39;00m\n\u001B[0;32m     22\u001B[0m \u001B[38;5;28;01mtry\u001B[39;00m:\n\u001B[1;32m---> 23\u001B[0m     completion \u001B[38;5;241m=\u001B[39m \u001B[43mopenai\u001B[49m\u001B[38;5;241;43m.\u001B[39;49m\u001B[43mChatCompletion\u001B[49m\u001B[38;5;241;43m.\u001B[39;49m\u001B[43mcreate\u001B[49m\u001B[43m(\u001B[49m\n\u001B[0;32m     24\u001B[0m \u001B[43m    \u001B[49m\u001B[43mmodel\u001B[49m\u001B[38;5;241;43m=\u001B[39;49m\u001B[38;5;124;43m\"\u001B[39;49m\u001B[38;5;124;43mgpt-3.5-turbo\u001B[39;49m\u001B[38;5;124;43m\"\u001B[39;49m\u001B[43m,\u001B[49m\n\u001B[0;32m     25\u001B[0m \u001B[43m    \u001B[49m\u001B[43mtemperature\u001B[49m\u001B[38;5;241;43m=\u001B[39;49m\u001B[38;5;241;43m0\u001B[39;49m\u001B[43m,\u001B[49m\n\u001B[0;32m     26\u001B[0m \u001B[43m    \u001B[49m\u001B[43mmessages\u001B[49m\u001B[38;5;241;43m=\u001B[39;49m\u001B[43m[\u001B[49m\n\u001B[0;32m     27\u001B[0m \u001B[43m        \u001B[49m\u001B[43m{\u001B[49m\u001B[38;5;124;43m\"\u001B[39;49m\u001B[38;5;124;43mrole\u001B[39;49m\u001B[38;5;124;43m\"\u001B[39;49m\u001B[43m:\u001B[49m\u001B[38;5;124;43m\"\u001B[39;49m\u001B[38;5;124;43msystem\u001B[39;49m\u001B[38;5;124;43m\"\u001B[39;49m\u001B[43m,\u001B[49m\u001B[43m \u001B[49m\u001B[38;5;124;43m\"\u001B[39;49m\u001B[38;5;124;43mcontent\u001B[39;49m\u001B[38;5;124;43m\"\u001B[39;49m\u001B[43m:\u001B[49m\u001B[38;5;124;43m\"\u001B[39;49m\u001B[38;5;124;43mYou are a system designed to label if a list of provided questions can be answered using ANY part of a provided context. You will always only reply in the following format for each question: `label: LABEL. LABEL should be \u001B[39;49m\u001B[38;5;124;43m'\u001B[39;49m\u001B[38;5;124;43my\u001B[39;49m\u001B[38;5;124;43m'\u001B[39;49m\u001B[38;5;124;43m if a question can be answered using the context and else \u001B[39;49m\u001B[38;5;124;43m'\u001B[39;49m\u001B[38;5;124;43mn\u001B[39;49m\u001B[38;5;124;43m'\u001B[39;49m\u001B[38;5;124;43m\"\u001B[39;49m\u001B[43m}\u001B[49m\u001B[43m,\u001B[49m\n\u001B[0;32m     28\u001B[0m \u001B[43m        \u001B[49m\u001B[43m{\u001B[49m\u001B[38;5;124;43m\"\u001B[39;49m\u001B[38;5;124;43mrole\u001B[39;49m\u001B[38;5;124;43m\"\u001B[39;49m\u001B[43m:\u001B[49m\u001B[38;5;124;43m\"\u001B[39;49m\u001B[38;5;124;43muser\u001B[39;49m\u001B[38;5;124;43m\"\u001B[39;49m\u001B[43m,\u001B[49m\u001B[43m \u001B[49m\u001B[38;5;124;43m\"\u001B[39;49m\u001B[38;5;124;43mcontent\u001B[39;49m\u001B[38;5;124;43m\"\u001B[39;49m\u001B[43m:\u001B[49m\u001B[43m \u001B[49m\u001B[38;5;124;43m\"\u001B[39;49m\u001B[38;5;124;43mCONTEXT: ```The man in the house has a boy named Bob and a red car. He loves ice cream``` QUESTION: ```Is the boy named Jim?``` QUESTION: ```Does the man have a red book?```\u001B[39;49m\u001B[38;5;124;43m\"\u001B[39;49m\u001B[43m}\u001B[49m\u001B[43m,\u001B[49m\n\u001B[0;32m     29\u001B[0m \u001B[43m        \u001B[49m\u001B[43m{\u001B[49m\u001B[38;5;124;43m\"\u001B[39;49m\u001B[38;5;124;43mrole\u001B[39;49m\u001B[38;5;124;43m\"\u001B[39;49m\u001B[43m:\u001B[49m\u001B[38;5;124;43m\"\u001B[39;49m\u001B[38;5;124;43massistant\u001B[39;49m\u001B[38;5;124;43m\"\u001B[39;49m\u001B[43m,\u001B[49m\u001B[43m \u001B[49m\u001B[38;5;124;43m\"\u001B[39;49m\u001B[38;5;124;43mcontent\u001B[39;49m\u001B[38;5;124;43m\"\u001B[39;49m\u001B[43m:\u001B[49m\u001B[38;5;124;43m\"\u001B[39;49m\u001B[38;5;124;43mlabel: y\u001B[39;49m\u001B[38;5;130;43;01m\\n\u001B[39;49;00m\u001B[38;5;124;43mlabel: n\u001B[39;49m\u001B[38;5;124;43m\"\u001B[39;49m\u001B[43m}\u001B[49m\u001B[43m,\u001B[49m\n\u001B[0;32m     30\u001B[0m \u001B[43m        \u001B[49m\u001B[43m{\u001B[49m\u001B[38;5;124;43m\"\u001B[39;49m\u001B[38;5;124;43mrole\u001B[39;49m\u001B[38;5;124;43m\"\u001B[39;49m\u001B[43m:\u001B[49m\u001B[43m \u001B[49m\u001B[38;5;124;43m\"\u001B[39;49m\u001B[38;5;124;43muser\u001B[39;49m\u001B[38;5;124;43m\"\u001B[39;49m\u001B[43m,\u001B[49m\u001B[43m \u001B[49m\u001B[38;5;124;43m\"\u001B[39;49m\u001B[38;5;124;43mcontent\u001B[39;49m\u001B[38;5;124;43m\"\u001B[39;49m\u001B[43m:\u001B[49m\u001B[43m \u001B[49m\u001B[38;5;124;43mf\u001B[39;49m\u001B[38;5;124;43m'\u001B[39;49m\u001B[38;5;124;43mCONTEXT: ```\u001B[39;49m\u001B[38;5;132;43;01m{\u001B[39;49;00m\u001B[43mctx\u001B[49m\u001B[38;5;132;43;01m}\u001B[39;49;00m\u001B[38;5;124;43m``` QUESTION: ```\u001B[39;49m\u001B[38;5;132;43;01m{\u001B[39;49;00m\u001B[43mq1\u001B[49m\u001B[43m[\u001B[49m\u001B[38;5;124;43m\"\u001B[39;49m\u001B[38;5;124;43mquestion\u001B[39;49m\u001B[38;5;124;43m\"\u001B[39;49m\u001B[43m]\u001B[49m\u001B[38;5;132;43;01m}\u001B[39;49;00m\u001B[38;5;124;43m``` QUESTION: ```\u001B[39;49m\u001B[38;5;132;43;01m{\u001B[39;49;00m\u001B[43mq2\u001B[49m\u001B[43m[\u001B[49m\u001B[38;5;124;43m\"\u001B[39;49m\u001B[38;5;124;43mquestion\u001B[39;49m\u001B[38;5;124;43m\"\u001B[39;49m\u001B[43m]\u001B[49m\u001B[38;5;132;43;01m}\u001B[39;49;00m\u001B[38;5;124;43m```\u001B[39;49m\u001B[38;5;124;43m'\u001B[39;49m\u001B[43m}\u001B[49m\n\u001B[0;32m     31\u001B[0m \u001B[43m    \u001B[49m\u001B[43m]\u001B[49m\n\u001B[0;32m     32\u001B[0m \u001B[43m    \u001B[49m\u001B[43m)\u001B[49m\n\u001B[0;32m     33\u001B[0m \u001B[38;5;28;01mexcept\u001B[39;00m \u001B[38;5;167;01mException\u001B[39;00m \u001B[38;5;28;01mas\u001B[39;00m e:\n\u001B[0;32m     34\u001B[0m     \u001B[38;5;28mprint\u001B[39m(\u001B[38;5;124m\"\u001B[39m\u001B[38;5;124mOPENAI_ERROR:\u001B[39m\u001B[38;5;124m\"\u001B[39m,\u001B[38;5;28mstr\u001B[39m(e))\n",
      "File \u001B[1;32mC:\\DTU - KID\\4. Semester\\02463 Aktiv Machine learning og agency\\CODE\\venv\\lib\\site-packages\\openai\\api_resources\\chat_completion.py:25\u001B[0m, in \u001B[0;36mChatCompletion.create\u001B[1;34m(cls, *args, **kwargs)\u001B[0m\n\u001B[0;32m     23\u001B[0m \u001B[38;5;28;01mwhile\u001B[39;00m \u001B[38;5;28;01mTrue\u001B[39;00m:\n\u001B[0;32m     24\u001B[0m     \u001B[38;5;28;01mtry\u001B[39;00m:\n\u001B[1;32m---> 25\u001B[0m         \u001B[38;5;28;01mreturn\u001B[39;00m \u001B[38;5;28msuper\u001B[39m()\u001B[38;5;241m.\u001B[39mcreate(\u001B[38;5;241m*\u001B[39margs, \u001B[38;5;241m*\u001B[39m\u001B[38;5;241m*\u001B[39mkwargs)\n\u001B[0;32m     26\u001B[0m     \u001B[38;5;28;01mexcept\u001B[39;00m TryAgain \u001B[38;5;28;01mas\u001B[39;00m e:\n\u001B[0;32m     27\u001B[0m         \u001B[38;5;28;01mif\u001B[39;00m timeout \u001B[38;5;129;01mis\u001B[39;00m \u001B[38;5;129;01mnot\u001B[39;00m \u001B[38;5;28;01mNone\u001B[39;00m \u001B[38;5;129;01mand\u001B[39;00m time\u001B[38;5;241m.\u001B[39mtime() \u001B[38;5;241m>\u001B[39m start \u001B[38;5;241m+\u001B[39m timeout:\n",
      "File \u001B[1;32mC:\\DTU - KID\\4. Semester\\02463 Aktiv Machine learning og agency\\CODE\\venv\\lib\\site-packages\\openai\\api_resources\\abstract\\engine_api_resource.py:153\u001B[0m, in \u001B[0;36mEngineAPIResource.create\u001B[1;34m(cls, api_key, api_base, api_type, request_id, api_version, organization, **params)\u001B[0m\n\u001B[0;32m    127\u001B[0m \u001B[38;5;129m@classmethod\u001B[39m\n\u001B[0;32m    128\u001B[0m \u001B[38;5;28;01mdef\u001B[39;00m \u001B[38;5;21mcreate\u001B[39m(\n\u001B[0;32m    129\u001B[0m     \u001B[38;5;28mcls\u001B[39m,\n\u001B[1;32m   (...)\u001B[0m\n\u001B[0;32m    136\u001B[0m     \u001B[38;5;241m*\u001B[39m\u001B[38;5;241m*\u001B[39mparams,\n\u001B[0;32m    137\u001B[0m ):\n\u001B[0;32m    138\u001B[0m     (\n\u001B[0;32m    139\u001B[0m         deployment_id,\n\u001B[0;32m    140\u001B[0m         engine,\n\u001B[1;32m   (...)\u001B[0m\n\u001B[0;32m    150\u001B[0m         api_key, api_base, api_type, api_version, organization, \u001B[38;5;241m*\u001B[39m\u001B[38;5;241m*\u001B[39mparams\n\u001B[0;32m    151\u001B[0m     )\n\u001B[1;32m--> 153\u001B[0m     response, _, api_key \u001B[38;5;241m=\u001B[39m \u001B[43mrequestor\u001B[49m\u001B[38;5;241;43m.\u001B[39;49m\u001B[43mrequest\u001B[49m\u001B[43m(\u001B[49m\n\u001B[0;32m    154\u001B[0m \u001B[43m        \u001B[49m\u001B[38;5;124;43m\"\u001B[39;49m\u001B[38;5;124;43mpost\u001B[39;49m\u001B[38;5;124;43m\"\u001B[39;49m\u001B[43m,\u001B[49m\n\u001B[0;32m    155\u001B[0m \u001B[43m        \u001B[49m\u001B[43murl\u001B[49m\u001B[43m,\u001B[49m\n\u001B[0;32m    156\u001B[0m \u001B[43m        \u001B[49m\u001B[43mparams\u001B[49m\u001B[38;5;241;43m=\u001B[39;49m\u001B[43mparams\u001B[49m\u001B[43m,\u001B[49m\n\u001B[0;32m    157\u001B[0m \u001B[43m        \u001B[49m\u001B[43mheaders\u001B[49m\u001B[38;5;241;43m=\u001B[39;49m\u001B[43mheaders\u001B[49m\u001B[43m,\u001B[49m\n\u001B[0;32m    158\u001B[0m \u001B[43m        \u001B[49m\u001B[43mstream\u001B[49m\u001B[38;5;241;43m=\u001B[39;49m\u001B[43mstream\u001B[49m\u001B[43m,\u001B[49m\n\u001B[0;32m    159\u001B[0m \u001B[43m        \u001B[49m\u001B[43mrequest_id\u001B[49m\u001B[38;5;241;43m=\u001B[39;49m\u001B[43mrequest_id\u001B[49m\u001B[43m,\u001B[49m\n\u001B[0;32m    160\u001B[0m \u001B[43m        \u001B[49m\u001B[43mrequest_timeout\u001B[49m\u001B[38;5;241;43m=\u001B[39;49m\u001B[43mrequest_timeout\u001B[49m\u001B[43m,\u001B[49m\n\u001B[0;32m    161\u001B[0m \u001B[43m    \u001B[49m\u001B[43m)\u001B[49m\n\u001B[0;32m    163\u001B[0m     \u001B[38;5;28;01mif\u001B[39;00m stream:\n\u001B[0;32m    164\u001B[0m         \u001B[38;5;66;03m# must be an iterator\u001B[39;00m\n\u001B[0;32m    165\u001B[0m         \u001B[38;5;28;01massert\u001B[39;00m \u001B[38;5;129;01mnot\u001B[39;00m \u001B[38;5;28misinstance\u001B[39m(response, OpenAIResponse)\n",
      "File \u001B[1;32mC:\\DTU - KID\\4. Semester\\02463 Aktiv Machine learning og agency\\CODE\\venv\\lib\\site-packages\\openai\\api_requestor.py:216\u001B[0m, in \u001B[0;36mAPIRequestor.request\u001B[1;34m(self, method, url, params, headers, files, stream, request_id, request_timeout)\u001B[0m\n\u001B[0;32m    205\u001B[0m \u001B[38;5;28;01mdef\u001B[39;00m \u001B[38;5;21mrequest\u001B[39m(\n\u001B[0;32m    206\u001B[0m     \u001B[38;5;28mself\u001B[39m,\n\u001B[0;32m    207\u001B[0m     method,\n\u001B[1;32m   (...)\u001B[0m\n\u001B[0;32m    214\u001B[0m     request_timeout: Optional[Union[\u001B[38;5;28mfloat\u001B[39m, Tuple[\u001B[38;5;28mfloat\u001B[39m, \u001B[38;5;28mfloat\u001B[39m]]] \u001B[38;5;241m=\u001B[39m \u001B[38;5;28;01mNone\u001B[39;00m,\n\u001B[0;32m    215\u001B[0m ) \u001B[38;5;241m-\u001B[39m\u001B[38;5;241m>\u001B[39m Tuple[Union[OpenAIResponse, Iterator[OpenAIResponse]], \u001B[38;5;28mbool\u001B[39m, \u001B[38;5;28mstr\u001B[39m]:\n\u001B[1;32m--> 216\u001B[0m     result \u001B[38;5;241m=\u001B[39m \u001B[38;5;28;43mself\u001B[39;49m\u001B[38;5;241;43m.\u001B[39;49m\u001B[43mrequest_raw\u001B[49m\u001B[43m(\u001B[49m\n\u001B[0;32m    217\u001B[0m \u001B[43m        \u001B[49m\u001B[43mmethod\u001B[49m\u001B[38;5;241;43m.\u001B[39;49m\u001B[43mlower\u001B[49m\u001B[43m(\u001B[49m\u001B[43m)\u001B[49m\u001B[43m,\u001B[49m\n\u001B[0;32m    218\u001B[0m \u001B[43m        \u001B[49m\u001B[43murl\u001B[49m\u001B[43m,\u001B[49m\n\u001B[0;32m    219\u001B[0m \u001B[43m        \u001B[49m\u001B[43mparams\u001B[49m\u001B[38;5;241;43m=\u001B[39;49m\u001B[43mparams\u001B[49m\u001B[43m,\u001B[49m\n\u001B[0;32m    220\u001B[0m \u001B[43m        \u001B[49m\u001B[43msupplied_headers\u001B[49m\u001B[38;5;241;43m=\u001B[39;49m\u001B[43mheaders\u001B[49m\u001B[43m,\u001B[49m\n\u001B[0;32m    221\u001B[0m \u001B[43m        \u001B[49m\u001B[43mfiles\u001B[49m\u001B[38;5;241;43m=\u001B[39;49m\u001B[43mfiles\u001B[49m\u001B[43m,\u001B[49m\n\u001B[0;32m    222\u001B[0m \u001B[43m        \u001B[49m\u001B[43mstream\u001B[49m\u001B[38;5;241;43m=\u001B[39;49m\u001B[43mstream\u001B[49m\u001B[43m,\u001B[49m\n\u001B[0;32m    223\u001B[0m \u001B[43m        \u001B[49m\u001B[43mrequest_id\u001B[49m\u001B[38;5;241;43m=\u001B[39;49m\u001B[43mrequest_id\u001B[49m\u001B[43m,\u001B[49m\n\u001B[0;32m    224\u001B[0m \u001B[43m        \u001B[49m\u001B[43mrequest_timeout\u001B[49m\u001B[38;5;241;43m=\u001B[39;49m\u001B[43mrequest_timeout\u001B[49m\u001B[43m,\u001B[49m\n\u001B[0;32m    225\u001B[0m \u001B[43m    \u001B[49m\u001B[43m)\u001B[49m\n\u001B[0;32m    226\u001B[0m     resp, got_stream \u001B[38;5;241m=\u001B[39m \u001B[38;5;28mself\u001B[39m\u001B[38;5;241m.\u001B[39m_interpret_response(result, stream)\n\u001B[0;32m    227\u001B[0m     \u001B[38;5;28;01mreturn\u001B[39;00m resp, got_stream, \u001B[38;5;28mself\u001B[39m\u001B[38;5;241m.\u001B[39mapi_key\n",
      "File \u001B[1;32mC:\\DTU - KID\\4. Semester\\02463 Aktiv Machine learning og agency\\CODE\\venv\\lib\\site-packages\\openai\\api_requestor.py:516\u001B[0m, in \u001B[0;36mAPIRequestor.request_raw\u001B[1;34m(self, method, url, params, supplied_headers, files, stream, request_id, request_timeout)\u001B[0m\n\u001B[0;32m    514\u001B[0m     _thread_context\u001B[38;5;241m.\u001B[39msession \u001B[38;5;241m=\u001B[39m _make_session()\n\u001B[0;32m    515\u001B[0m \u001B[38;5;28;01mtry\u001B[39;00m:\n\u001B[1;32m--> 516\u001B[0m     result \u001B[38;5;241m=\u001B[39m \u001B[43m_thread_context\u001B[49m\u001B[38;5;241;43m.\u001B[39;49m\u001B[43msession\u001B[49m\u001B[38;5;241;43m.\u001B[39;49m\u001B[43mrequest\u001B[49m\u001B[43m(\u001B[49m\n\u001B[0;32m    517\u001B[0m \u001B[43m        \u001B[49m\u001B[43mmethod\u001B[49m\u001B[43m,\u001B[49m\n\u001B[0;32m    518\u001B[0m \u001B[43m        \u001B[49m\u001B[43mabs_url\u001B[49m\u001B[43m,\u001B[49m\n\u001B[0;32m    519\u001B[0m \u001B[43m        \u001B[49m\u001B[43mheaders\u001B[49m\u001B[38;5;241;43m=\u001B[39;49m\u001B[43mheaders\u001B[49m\u001B[43m,\u001B[49m\n\u001B[0;32m    520\u001B[0m \u001B[43m        \u001B[49m\u001B[43mdata\u001B[49m\u001B[38;5;241;43m=\u001B[39;49m\u001B[43mdata\u001B[49m\u001B[43m,\u001B[49m\n\u001B[0;32m    521\u001B[0m \u001B[43m        \u001B[49m\u001B[43mfiles\u001B[49m\u001B[38;5;241;43m=\u001B[39;49m\u001B[43mfiles\u001B[49m\u001B[43m,\u001B[49m\n\u001B[0;32m    522\u001B[0m \u001B[43m        \u001B[49m\u001B[43mstream\u001B[49m\u001B[38;5;241;43m=\u001B[39;49m\u001B[43mstream\u001B[49m\u001B[43m,\u001B[49m\n\u001B[0;32m    523\u001B[0m \u001B[43m        \u001B[49m\u001B[43mtimeout\u001B[49m\u001B[38;5;241;43m=\u001B[39;49m\u001B[43mrequest_timeout\u001B[49m\u001B[43m \u001B[49m\u001B[38;5;28;43;01mif\u001B[39;49;00m\u001B[43m \u001B[49m\u001B[43mrequest_timeout\u001B[49m\u001B[43m \u001B[49m\u001B[38;5;28;43;01melse\u001B[39;49;00m\u001B[43m \u001B[49m\u001B[43mTIMEOUT_SECS\u001B[49m\u001B[43m,\u001B[49m\n\u001B[0;32m    524\u001B[0m \u001B[43m    \u001B[49m\u001B[43m)\u001B[49m\n\u001B[0;32m    525\u001B[0m \u001B[38;5;28;01mexcept\u001B[39;00m requests\u001B[38;5;241m.\u001B[39mexceptions\u001B[38;5;241m.\u001B[39mTimeout \u001B[38;5;28;01mas\u001B[39;00m e:\n\u001B[0;32m    526\u001B[0m     \u001B[38;5;28;01mraise\u001B[39;00m error\u001B[38;5;241m.\u001B[39mTimeout(\u001B[38;5;124m\"\u001B[39m\u001B[38;5;124mRequest timed out: \u001B[39m\u001B[38;5;132;01m{}\u001B[39;00m\u001B[38;5;124m\"\u001B[39m\u001B[38;5;241m.\u001B[39mformat(e)) \u001B[38;5;28;01mfrom\u001B[39;00m \u001B[38;5;21;01me\u001B[39;00m\n",
      "File \u001B[1;32mC:\\DTU - KID\\4. Semester\\02463 Aktiv Machine learning og agency\\CODE\\venv\\lib\\site-packages\\requests\\sessions.py:587\u001B[0m, in \u001B[0;36mSession.request\u001B[1;34m(self, method, url, params, data, headers, cookies, files, auth, timeout, allow_redirects, proxies, hooks, stream, verify, cert, json)\u001B[0m\n\u001B[0;32m    582\u001B[0m send_kwargs \u001B[38;5;241m=\u001B[39m {\n\u001B[0;32m    583\u001B[0m     \u001B[38;5;124m\"\u001B[39m\u001B[38;5;124mtimeout\u001B[39m\u001B[38;5;124m\"\u001B[39m: timeout,\n\u001B[0;32m    584\u001B[0m     \u001B[38;5;124m\"\u001B[39m\u001B[38;5;124mallow_redirects\u001B[39m\u001B[38;5;124m\"\u001B[39m: allow_redirects,\n\u001B[0;32m    585\u001B[0m }\n\u001B[0;32m    586\u001B[0m send_kwargs\u001B[38;5;241m.\u001B[39mupdate(settings)\n\u001B[1;32m--> 587\u001B[0m resp \u001B[38;5;241m=\u001B[39m \u001B[38;5;28mself\u001B[39m\u001B[38;5;241m.\u001B[39msend(prep, \u001B[38;5;241m*\u001B[39m\u001B[38;5;241m*\u001B[39msend_kwargs)\n\u001B[0;32m    589\u001B[0m \u001B[38;5;28;01mreturn\u001B[39;00m resp\n",
      "File \u001B[1;32mC:\\DTU - KID\\4. Semester\\02463 Aktiv Machine learning og agency\\CODE\\venv\\lib\\site-packages\\requests\\sessions.py:701\u001B[0m, in \u001B[0;36mSession.send\u001B[1;34m(self, request, **kwargs)\u001B[0m\n\u001B[0;32m    698\u001B[0m start \u001B[38;5;241m=\u001B[39m preferred_clock()\n\u001B[0;32m    700\u001B[0m \u001B[38;5;66;03m# Send the request\u001B[39;00m\n\u001B[1;32m--> 701\u001B[0m r \u001B[38;5;241m=\u001B[39m adapter\u001B[38;5;241m.\u001B[39msend(request, \u001B[38;5;241m*\u001B[39m\u001B[38;5;241m*\u001B[39mkwargs)\n\u001B[0;32m    703\u001B[0m \u001B[38;5;66;03m# Total elapsed time of the request (approximately)\u001B[39;00m\n\u001B[0;32m    704\u001B[0m elapsed \u001B[38;5;241m=\u001B[39m preferred_clock() \u001B[38;5;241m-\u001B[39m start\n",
      "File \u001B[1;32mC:\\DTU - KID\\4. Semester\\02463 Aktiv Machine learning og agency\\CODE\\venv\\lib\\site-packages\\requests\\adapters.py:489\u001B[0m, in \u001B[0;36mHTTPAdapter.send\u001B[1;34m(self, request, stream, timeout, verify, cert, proxies)\u001B[0m\n\u001B[0;32m    487\u001B[0m \u001B[38;5;28;01mtry\u001B[39;00m:\n\u001B[0;32m    488\u001B[0m     \u001B[38;5;28;01mif\u001B[39;00m \u001B[38;5;129;01mnot\u001B[39;00m chunked:\n\u001B[1;32m--> 489\u001B[0m         resp \u001B[38;5;241m=\u001B[39m \u001B[43mconn\u001B[49m\u001B[38;5;241;43m.\u001B[39;49m\u001B[43murlopen\u001B[49m\u001B[43m(\u001B[49m\n\u001B[0;32m    490\u001B[0m \u001B[43m            \u001B[49m\u001B[43mmethod\u001B[49m\u001B[38;5;241;43m=\u001B[39;49m\u001B[43mrequest\u001B[49m\u001B[38;5;241;43m.\u001B[39;49m\u001B[43mmethod\u001B[49m\u001B[43m,\u001B[49m\n\u001B[0;32m    491\u001B[0m \u001B[43m            \u001B[49m\u001B[43murl\u001B[49m\u001B[38;5;241;43m=\u001B[39;49m\u001B[43murl\u001B[49m\u001B[43m,\u001B[49m\n\u001B[0;32m    492\u001B[0m \u001B[43m            \u001B[49m\u001B[43mbody\u001B[49m\u001B[38;5;241;43m=\u001B[39;49m\u001B[43mrequest\u001B[49m\u001B[38;5;241;43m.\u001B[39;49m\u001B[43mbody\u001B[49m\u001B[43m,\u001B[49m\n\u001B[0;32m    493\u001B[0m \u001B[43m            \u001B[49m\u001B[43mheaders\u001B[49m\u001B[38;5;241;43m=\u001B[39;49m\u001B[43mrequest\u001B[49m\u001B[38;5;241;43m.\u001B[39;49m\u001B[43mheaders\u001B[49m\u001B[43m,\u001B[49m\n\u001B[0;32m    494\u001B[0m \u001B[43m            \u001B[49m\u001B[43mredirect\u001B[49m\u001B[38;5;241;43m=\u001B[39;49m\u001B[38;5;28;43;01mFalse\u001B[39;49;00m\u001B[43m,\u001B[49m\n\u001B[0;32m    495\u001B[0m \u001B[43m            \u001B[49m\u001B[43massert_same_host\u001B[49m\u001B[38;5;241;43m=\u001B[39;49m\u001B[38;5;28;43;01mFalse\u001B[39;49;00m\u001B[43m,\u001B[49m\n\u001B[0;32m    496\u001B[0m \u001B[43m            \u001B[49m\u001B[43mpreload_content\u001B[49m\u001B[38;5;241;43m=\u001B[39;49m\u001B[38;5;28;43;01mFalse\u001B[39;49;00m\u001B[43m,\u001B[49m\n\u001B[0;32m    497\u001B[0m \u001B[43m            \u001B[49m\u001B[43mdecode_content\u001B[49m\u001B[38;5;241;43m=\u001B[39;49m\u001B[38;5;28;43;01mFalse\u001B[39;49;00m\u001B[43m,\u001B[49m\n\u001B[0;32m    498\u001B[0m \u001B[43m            \u001B[49m\u001B[43mretries\u001B[49m\u001B[38;5;241;43m=\u001B[39;49m\u001B[38;5;28;43mself\u001B[39;49m\u001B[38;5;241;43m.\u001B[39;49m\u001B[43mmax_retries\u001B[49m\u001B[43m,\u001B[49m\n\u001B[0;32m    499\u001B[0m \u001B[43m            \u001B[49m\u001B[43mtimeout\u001B[49m\u001B[38;5;241;43m=\u001B[39;49m\u001B[43mtimeout\u001B[49m\u001B[43m,\u001B[49m\n\u001B[0;32m    500\u001B[0m \u001B[43m        \u001B[49m\u001B[43m)\u001B[49m\n\u001B[0;32m    502\u001B[0m     \u001B[38;5;66;03m# Send the request.\u001B[39;00m\n\u001B[0;32m    503\u001B[0m     \u001B[38;5;28;01melse\u001B[39;00m:\n\u001B[0;32m    504\u001B[0m         \u001B[38;5;28;01mif\u001B[39;00m \u001B[38;5;28mhasattr\u001B[39m(conn, \u001B[38;5;124m\"\u001B[39m\u001B[38;5;124mproxy_pool\u001B[39m\u001B[38;5;124m\"\u001B[39m):\n",
      "File \u001B[1;32mC:\\DTU - KID\\4. Semester\\02463 Aktiv Machine learning og agency\\CODE\\venv\\lib\\site-packages\\urllib3\\connectionpool.py:703\u001B[0m, in \u001B[0;36mHTTPConnectionPool.urlopen\u001B[1;34m(self, method, url, body, headers, retries, redirect, assert_same_host, timeout, pool_timeout, release_conn, chunked, body_pos, **response_kw)\u001B[0m\n\u001B[0;32m    700\u001B[0m     \u001B[38;5;28mself\u001B[39m\u001B[38;5;241m.\u001B[39m_prepare_proxy(conn)\n\u001B[0;32m    702\u001B[0m \u001B[38;5;66;03m# Make the request on the httplib connection object.\u001B[39;00m\n\u001B[1;32m--> 703\u001B[0m httplib_response \u001B[38;5;241m=\u001B[39m \u001B[38;5;28;43mself\u001B[39;49m\u001B[38;5;241;43m.\u001B[39;49m\u001B[43m_make_request\u001B[49m\u001B[43m(\u001B[49m\n\u001B[0;32m    704\u001B[0m \u001B[43m    \u001B[49m\u001B[43mconn\u001B[49m\u001B[43m,\u001B[49m\n\u001B[0;32m    705\u001B[0m \u001B[43m    \u001B[49m\u001B[43mmethod\u001B[49m\u001B[43m,\u001B[49m\n\u001B[0;32m    706\u001B[0m \u001B[43m    \u001B[49m\u001B[43murl\u001B[49m\u001B[43m,\u001B[49m\n\u001B[0;32m    707\u001B[0m \u001B[43m    \u001B[49m\u001B[43mtimeout\u001B[49m\u001B[38;5;241;43m=\u001B[39;49m\u001B[43mtimeout_obj\u001B[49m\u001B[43m,\u001B[49m\n\u001B[0;32m    708\u001B[0m \u001B[43m    \u001B[49m\u001B[43mbody\u001B[49m\u001B[38;5;241;43m=\u001B[39;49m\u001B[43mbody\u001B[49m\u001B[43m,\u001B[49m\n\u001B[0;32m    709\u001B[0m \u001B[43m    \u001B[49m\u001B[43mheaders\u001B[49m\u001B[38;5;241;43m=\u001B[39;49m\u001B[43mheaders\u001B[49m\u001B[43m,\u001B[49m\n\u001B[0;32m    710\u001B[0m \u001B[43m    \u001B[49m\u001B[43mchunked\u001B[49m\u001B[38;5;241;43m=\u001B[39;49m\u001B[43mchunked\u001B[49m\u001B[43m,\u001B[49m\n\u001B[0;32m    711\u001B[0m \u001B[43m\u001B[49m\u001B[43m)\u001B[49m\n\u001B[0;32m    713\u001B[0m \u001B[38;5;66;03m# If we're going to release the connection in ``finally:``, then\u001B[39;00m\n\u001B[0;32m    714\u001B[0m \u001B[38;5;66;03m# the response doesn't need to know about the connection. Otherwise\u001B[39;00m\n\u001B[0;32m    715\u001B[0m \u001B[38;5;66;03m# it will also try to release it and we'll have a double-release\u001B[39;00m\n\u001B[0;32m    716\u001B[0m \u001B[38;5;66;03m# mess.\u001B[39;00m\n\u001B[0;32m    717\u001B[0m response_conn \u001B[38;5;241m=\u001B[39m conn \u001B[38;5;28;01mif\u001B[39;00m \u001B[38;5;129;01mnot\u001B[39;00m release_conn \u001B[38;5;28;01melse\u001B[39;00m \u001B[38;5;28;01mNone\u001B[39;00m\n",
      "File \u001B[1;32mC:\\DTU - KID\\4. Semester\\02463 Aktiv Machine learning og agency\\CODE\\venv\\lib\\site-packages\\urllib3\\connectionpool.py:449\u001B[0m, in \u001B[0;36mHTTPConnectionPool._make_request\u001B[1;34m(self, conn, method, url, timeout, chunked, **httplib_request_kw)\u001B[0m\n\u001B[0;32m    444\u001B[0m             httplib_response \u001B[38;5;241m=\u001B[39m conn\u001B[38;5;241m.\u001B[39mgetresponse()\n\u001B[0;32m    445\u001B[0m         \u001B[38;5;28;01mexcept\u001B[39;00m \u001B[38;5;167;01mBaseException\u001B[39;00m \u001B[38;5;28;01mas\u001B[39;00m e:\n\u001B[0;32m    446\u001B[0m             \u001B[38;5;66;03m# Remove the TypeError from the exception chain in\u001B[39;00m\n\u001B[0;32m    447\u001B[0m             \u001B[38;5;66;03m# Python 3 (including for exceptions like SystemExit).\u001B[39;00m\n\u001B[0;32m    448\u001B[0m             \u001B[38;5;66;03m# Otherwise it looks like a bug in the code.\u001B[39;00m\n\u001B[1;32m--> 449\u001B[0m             \u001B[43msix\u001B[49m\u001B[38;5;241;43m.\u001B[39;49m\u001B[43mraise_from\u001B[49m\u001B[43m(\u001B[49m\u001B[43me\u001B[49m\u001B[43m,\u001B[49m\u001B[43m \u001B[49m\u001B[38;5;28;43;01mNone\u001B[39;49;00m\u001B[43m)\u001B[49m\n\u001B[0;32m    450\u001B[0m \u001B[38;5;28;01mexcept\u001B[39;00m (SocketTimeout, BaseSSLError, SocketError) \u001B[38;5;28;01mas\u001B[39;00m e:\n\u001B[0;32m    451\u001B[0m     \u001B[38;5;28mself\u001B[39m\u001B[38;5;241m.\u001B[39m_raise_timeout(err\u001B[38;5;241m=\u001B[39me, url\u001B[38;5;241m=\u001B[39murl, timeout_value\u001B[38;5;241m=\u001B[39mread_timeout)\n",
      "File \u001B[1;32m<string>:3\u001B[0m, in \u001B[0;36mraise_from\u001B[1;34m(value, from_value)\u001B[0m\n",
      "File \u001B[1;32mC:\\DTU - KID\\4. Semester\\02463 Aktiv Machine learning og agency\\CODE\\venv\\lib\\site-packages\\urllib3\\connectionpool.py:444\u001B[0m, in \u001B[0;36mHTTPConnectionPool._make_request\u001B[1;34m(self, conn, method, url, timeout, chunked, **httplib_request_kw)\u001B[0m\n\u001B[0;32m    441\u001B[0m \u001B[38;5;28;01mexcept\u001B[39;00m \u001B[38;5;167;01mTypeError\u001B[39;00m:\n\u001B[0;32m    442\u001B[0m     \u001B[38;5;66;03m# Python 3\u001B[39;00m\n\u001B[0;32m    443\u001B[0m     \u001B[38;5;28;01mtry\u001B[39;00m:\n\u001B[1;32m--> 444\u001B[0m         httplib_response \u001B[38;5;241m=\u001B[39m \u001B[43mconn\u001B[49m\u001B[38;5;241;43m.\u001B[39;49m\u001B[43mgetresponse\u001B[49m\u001B[43m(\u001B[49m\u001B[43m)\u001B[49m\n\u001B[0;32m    445\u001B[0m     \u001B[38;5;28;01mexcept\u001B[39;00m \u001B[38;5;167;01mBaseException\u001B[39;00m \u001B[38;5;28;01mas\u001B[39;00m e:\n\u001B[0;32m    446\u001B[0m         \u001B[38;5;66;03m# Remove the TypeError from the exception chain in\u001B[39;00m\n\u001B[0;32m    447\u001B[0m         \u001B[38;5;66;03m# Python 3 (including for exceptions like SystemExit).\u001B[39;00m\n\u001B[0;32m    448\u001B[0m         \u001B[38;5;66;03m# Otherwise it looks like a bug in the code.\u001B[39;00m\n\u001B[0;32m    449\u001B[0m         six\u001B[38;5;241m.\u001B[39mraise_from(e, \u001B[38;5;28;01mNone\u001B[39;00m)\n",
      "File \u001B[1;32m~\\AppData\\Local\\Programs\\Python\\Python310\\lib\\http\\client.py:1374\u001B[0m, in \u001B[0;36mHTTPConnection.getresponse\u001B[1;34m(self)\u001B[0m\n\u001B[0;32m   1372\u001B[0m \u001B[38;5;28;01mtry\u001B[39;00m:\n\u001B[0;32m   1373\u001B[0m     \u001B[38;5;28;01mtry\u001B[39;00m:\n\u001B[1;32m-> 1374\u001B[0m         \u001B[43mresponse\u001B[49m\u001B[38;5;241;43m.\u001B[39;49m\u001B[43mbegin\u001B[49m\u001B[43m(\u001B[49m\u001B[43m)\u001B[49m\n\u001B[0;32m   1375\u001B[0m     \u001B[38;5;28;01mexcept\u001B[39;00m \u001B[38;5;167;01mConnectionError\u001B[39;00m:\n\u001B[0;32m   1376\u001B[0m         \u001B[38;5;28mself\u001B[39m\u001B[38;5;241m.\u001B[39mclose()\n",
      "File \u001B[1;32m~\\AppData\\Local\\Programs\\Python\\Python310\\lib\\http\\client.py:318\u001B[0m, in \u001B[0;36mHTTPResponse.begin\u001B[1;34m(self)\u001B[0m\n\u001B[0;32m    316\u001B[0m \u001B[38;5;66;03m# read until we get a non-100 response\u001B[39;00m\n\u001B[0;32m    317\u001B[0m \u001B[38;5;28;01mwhile\u001B[39;00m \u001B[38;5;28;01mTrue\u001B[39;00m:\n\u001B[1;32m--> 318\u001B[0m     version, status, reason \u001B[38;5;241m=\u001B[39m \u001B[38;5;28;43mself\u001B[39;49m\u001B[38;5;241;43m.\u001B[39;49m\u001B[43m_read_status\u001B[49m\u001B[43m(\u001B[49m\u001B[43m)\u001B[49m\n\u001B[0;32m    319\u001B[0m     \u001B[38;5;28;01mif\u001B[39;00m status \u001B[38;5;241m!=\u001B[39m CONTINUE:\n\u001B[0;32m    320\u001B[0m         \u001B[38;5;28;01mbreak\u001B[39;00m\n",
      "File \u001B[1;32m~\\AppData\\Local\\Programs\\Python\\Python310\\lib\\http\\client.py:279\u001B[0m, in \u001B[0;36mHTTPResponse._read_status\u001B[1;34m(self)\u001B[0m\n\u001B[0;32m    278\u001B[0m \u001B[38;5;28;01mdef\u001B[39;00m \u001B[38;5;21m_read_status\u001B[39m(\u001B[38;5;28mself\u001B[39m):\n\u001B[1;32m--> 279\u001B[0m     line \u001B[38;5;241m=\u001B[39m \u001B[38;5;28mstr\u001B[39m(\u001B[38;5;28;43mself\u001B[39;49m\u001B[38;5;241;43m.\u001B[39;49m\u001B[43mfp\u001B[49m\u001B[38;5;241;43m.\u001B[39;49m\u001B[43mreadline\u001B[49m\u001B[43m(\u001B[49m\u001B[43m_MAXLINE\u001B[49m\u001B[43m \u001B[49m\u001B[38;5;241;43m+\u001B[39;49m\u001B[43m \u001B[49m\u001B[38;5;241;43m1\u001B[39;49m\u001B[43m)\u001B[49m, \u001B[38;5;124m\"\u001B[39m\u001B[38;5;124miso-8859-1\u001B[39m\u001B[38;5;124m\"\u001B[39m)\n\u001B[0;32m    280\u001B[0m     \u001B[38;5;28;01mif\u001B[39;00m \u001B[38;5;28mlen\u001B[39m(line) \u001B[38;5;241m>\u001B[39m _MAXLINE:\n\u001B[0;32m    281\u001B[0m         \u001B[38;5;28;01mraise\u001B[39;00m LineTooLong(\u001B[38;5;124m\"\u001B[39m\u001B[38;5;124mstatus line\u001B[39m\u001B[38;5;124m\"\u001B[39m)\n",
      "File \u001B[1;32m~\\AppData\\Local\\Programs\\Python\\Python310\\lib\\socket.py:705\u001B[0m, in \u001B[0;36mSocketIO.readinto\u001B[1;34m(self, b)\u001B[0m\n\u001B[0;32m    703\u001B[0m \u001B[38;5;28;01mwhile\u001B[39;00m \u001B[38;5;28;01mTrue\u001B[39;00m:\n\u001B[0;32m    704\u001B[0m     \u001B[38;5;28;01mtry\u001B[39;00m:\n\u001B[1;32m--> 705\u001B[0m         \u001B[38;5;28;01mreturn\u001B[39;00m \u001B[38;5;28;43mself\u001B[39;49m\u001B[38;5;241;43m.\u001B[39;49m\u001B[43m_sock\u001B[49m\u001B[38;5;241;43m.\u001B[39;49m\u001B[43mrecv_into\u001B[49m\u001B[43m(\u001B[49m\u001B[43mb\u001B[49m\u001B[43m)\u001B[49m\n\u001B[0;32m    706\u001B[0m     \u001B[38;5;28;01mexcept\u001B[39;00m timeout:\n\u001B[0;32m    707\u001B[0m         \u001B[38;5;28mself\u001B[39m\u001B[38;5;241m.\u001B[39m_timeout_occurred \u001B[38;5;241m=\u001B[39m \u001B[38;5;28;01mTrue\u001B[39;00m\n",
      "File \u001B[1;32m~\\AppData\\Local\\Programs\\Python\\Python310\\lib\\ssl.py:1274\u001B[0m, in \u001B[0;36mSSLSocket.recv_into\u001B[1;34m(self, buffer, nbytes, flags)\u001B[0m\n\u001B[0;32m   1270\u001B[0m     \u001B[38;5;28;01mif\u001B[39;00m flags \u001B[38;5;241m!=\u001B[39m \u001B[38;5;241m0\u001B[39m:\n\u001B[0;32m   1271\u001B[0m         \u001B[38;5;28;01mraise\u001B[39;00m \u001B[38;5;167;01mValueError\u001B[39;00m(\n\u001B[0;32m   1272\u001B[0m           \u001B[38;5;124m\"\u001B[39m\u001B[38;5;124mnon-zero flags not allowed in calls to recv_into() on \u001B[39m\u001B[38;5;132;01m%s\u001B[39;00m\u001B[38;5;124m\"\u001B[39m \u001B[38;5;241m%\u001B[39m\n\u001B[0;32m   1273\u001B[0m           \u001B[38;5;28mself\u001B[39m\u001B[38;5;241m.\u001B[39m\u001B[38;5;18m__class__\u001B[39m)\n\u001B[1;32m-> 1274\u001B[0m     \u001B[38;5;28;01mreturn\u001B[39;00m \u001B[38;5;28;43mself\u001B[39;49m\u001B[38;5;241;43m.\u001B[39;49m\u001B[43mread\u001B[49m\u001B[43m(\u001B[49m\u001B[43mnbytes\u001B[49m\u001B[43m,\u001B[49m\u001B[43m \u001B[49m\u001B[43mbuffer\u001B[49m\u001B[43m)\u001B[49m\n\u001B[0;32m   1275\u001B[0m \u001B[38;5;28;01melse\u001B[39;00m:\n\u001B[0;32m   1276\u001B[0m     \u001B[38;5;28;01mreturn\u001B[39;00m \u001B[38;5;28msuper\u001B[39m()\u001B[38;5;241m.\u001B[39mrecv_into(buffer, nbytes, flags)\n",
      "File \u001B[1;32m~\\AppData\\Local\\Programs\\Python\\Python310\\lib\\ssl.py:1130\u001B[0m, in \u001B[0;36mSSLSocket.read\u001B[1;34m(self, len, buffer)\u001B[0m\n\u001B[0;32m   1128\u001B[0m \u001B[38;5;28;01mtry\u001B[39;00m:\n\u001B[0;32m   1129\u001B[0m     \u001B[38;5;28;01mif\u001B[39;00m buffer \u001B[38;5;129;01mis\u001B[39;00m \u001B[38;5;129;01mnot\u001B[39;00m \u001B[38;5;28;01mNone\u001B[39;00m:\n\u001B[1;32m-> 1130\u001B[0m         \u001B[38;5;28;01mreturn\u001B[39;00m \u001B[38;5;28;43mself\u001B[39;49m\u001B[38;5;241;43m.\u001B[39;49m\u001B[43m_sslobj\u001B[49m\u001B[38;5;241;43m.\u001B[39;49m\u001B[43mread\u001B[49m\u001B[43m(\u001B[49m\u001B[38;5;28;43mlen\u001B[39;49m\u001B[43m,\u001B[49m\u001B[43m \u001B[49m\u001B[43mbuffer\u001B[49m\u001B[43m)\u001B[49m\n\u001B[0;32m   1131\u001B[0m     \u001B[38;5;28;01melse\u001B[39;00m:\n\u001B[0;32m   1132\u001B[0m         \u001B[38;5;28;01mreturn\u001B[39;00m \u001B[38;5;28mself\u001B[39m\u001B[38;5;241m.\u001B[39m_sslobj\u001B[38;5;241m.\u001B[39mread(\u001B[38;5;28mlen\u001B[39m)\n",
      "\u001B[1;31mKeyboardInterrupt\u001B[0m: "
     ]
    }
   ],
   "source": [
    "test_data = []\n",
    "req_per_min = 0\n",
    "last_time_stamp = time.time()\n",
    "#For each pair of questions\n",
    "for qi in range(0,len(test_questions),2):\n",
    "    q1 = test_questions.iloc[qi]\n",
    "    q2 = test_questions.iloc[qi+1]\n",
    "    \n",
    "    #For each context\n",
    "    for ci,ctx in enumerate(df_context['context']):    \n",
    "        #Check rate limit\n",
    "        req_per_min += 1\n",
    "        while req_per_min>=20:\n",
    "            time_stamp = time.time()\n",
    "            if int(time.time()-last_time_stamp) > 60:\n",
    "                last_time_stamp = time_stamp\n",
    "                req_per_min = 0\n",
    "            else:\n",
    "                time.sleep(10)\n",
    "        \n",
    "        #Ask the oracle for label for the context and two questions\n",
    "        try:\n",
    "            completion = openai.ChatCompletion.create(\n",
    "            model=\"gpt-3.5-turbo\",\n",
    "            temperature=0,\n",
    "            messages=[\n",
    "                {\"role\":\"system\", \"content\":\"You are a system designed to label if a list of provided questions can be answered using ANY part of a provided context. You will always only reply in the following format for each question: `label: LABEL. LABEL should be 'y' if a question can be answered using the context and else 'n'\"},\n",
    "                {\"role\":\"user\", \"content\": \"CONTEXT: ```The man in the house has a boy named Bob and a red car. He loves ice cream``` QUESTION: ```Is the boy named Jim?``` QUESTION: ```Does the man have a red book?```\"},\n",
    "                {\"role\":\"assistant\", \"content\":\"label: y\\nlabel: n\"},\n",
    "                {\"role\": \"user\", \"content\": f'CONTEXT: ```{ctx}``` QUESTION: ```{q1[\"question\"]}``` QUESTION: ```{q2[\"question\"]}```'}\n",
    "            ]\n",
    "            )\n",
    "        except Exception as e:\n",
    "            print(\"OPENAI_ERROR:\",str(e))\n",
    "            continue\n",
    "\n",
    "        \n",
    "        \n",
    "        #Parse the response to get labels\n",
    "        res = completion.choices[0].message.content\n",
    "        labels = re.findall(r'label: ([yn])', res)\n",
    "        \n",
    "        #If two labels are not found, assume something went wrong and skip this iteration\n",
    "        if len(labels) != 2:\n",
    "            print('[Error] labels not found in response:', res)\n",
    "            continue\n",
    "        \n",
    "        #Add the two questions, context and labels to the training data\n",
    "        test_data.append({'question': q1[\"question\"], 'context': ctx, 'question_embedding': q1[\"embedding\"], 'label': labels[0]})\n",
    "        test_data.append({'question': q2[\"question\"], 'context': ctx, 'question_embedding': q2[\"embedding\"], 'label': labels[1]})\n",
    "        \n",
    "        #If count is divisible by 100, save a backup\n",
    "        cnt = qi*len(df_context)+ci\n",
    "        if cnt % 100 == 0:\n",
    "            print(cnt)\n",
    "            with open(f'./oracle_bu/test/{cnt}.pkl', 'wb') as fp:\n",
    "                pickle.dump(test_data, fp)"
   ]
  },
  {
   "cell_type": "code",
   "execution_count": null,
   "metadata": {},
   "outputs": [],
   "source": [
    "df_test = pd.DataFrame(data=test_data, columns=['question','context','question_embedding','context_embedding','label'])"
   ]
  },
  {
   "cell_type": "code",
   "execution_count": 402,
   "metadata": {},
   "outputs": [
    {
     "name": "stdout",
     "output_type": "stream",
     "text": [
      "0\n"
     ]
    },
    {
     "ename": "RateLimitError",
     "evalue": "Rate limit reached for default-gpt-3.5-turbo in organization org-NZKUkTwLnTKkgBPZHMiVh2Hl on requests per min. Limit: 20 / min. Please try again in 3s. Contact support@openai.com if you continue to have issues. Please add a payment method to your account to increase your rate limit. Visit https://platform.openai.com/account/billing to add a payment method.",
     "output_type": "error",
     "traceback": [
      "\u001B[1;31m---------------------------------------------------------------------------\u001B[0m",
      "\u001B[1;31mRateLimitError\u001B[0m                            Traceback (most recent call last)",
      "\u001B[1;32mc:\\Users\\Lauritz\\Documents\\DTU\\4-semester\\active_ml\\active_mini_projects\\AL\\AL_Search_NN.ipynb Cell 11\u001B[0m in \u001B[0;36m<cell line: 3>\u001B[1;34m()\u001B[0m\n\u001B[0;32m      <a href='vscode-notebook-cell:/c%3A/Users/Lauritz/Documents/DTU/4-semester/active_ml/active_mini_projects/AL/AL_Search_NN.ipynb#X63sZmlsZQ%3D%3D?line=6'>7</a>\u001B[0m \u001B[39m#For each context\u001B[39;00m\n\u001B[0;32m      <a href='vscode-notebook-cell:/c%3A/Users/Lauritz/Documents/DTU/4-semester/active_ml/active_mini_projects/AL/AL_Search_NN.ipynb#X63sZmlsZQ%3D%3D?line=7'>8</a>\u001B[0m \u001B[39mfor\u001B[39;00m ci,ctx \u001B[39min\u001B[39;00m \u001B[39menumerate\u001B[39m(df_context[\u001B[39m'\u001B[39m\u001B[39mcontext\u001B[39m\u001B[39m'\u001B[39m]):\n\u001B[0;32m      <a href='vscode-notebook-cell:/c%3A/Users/Lauritz/Documents/DTU/4-semester/active_ml/active_mini_projects/AL/AL_Search_NN.ipynb#X63sZmlsZQ%3D%3D?line=8'>9</a>\u001B[0m \n\u001B[0;32m     <a href='vscode-notebook-cell:/c%3A/Users/Lauritz/Documents/DTU/4-semester/active_ml/active_mini_projects/AL/AL_Search_NN.ipynb#X63sZmlsZQ%3D%3D?line=9'>10</a>\u001B[0m     \u001B[39m#Ask the oracle for label for the context and two questions\u001B[39;00m\n\u001B[1;32m---> <a href='vscode-notebook-cell:/c%3A/Users/Lauritz/Documents/DTU/4-semester/active_ml/active_mini_projects/AL/AL_Search_NN.ipynb#X63sZmlsZQ%3D%3D?line=10'>11</a>\u001B[0m     completion \u001B[39m=\u001B[39m openai\u001B[39m.\u001B[39;49mChatCompletion\u001B[39m.\u001B[39;49mcreate(\n\u001B[0;32m     <a href='vscode-notebook-cell:/c%3A/Users/Lauritz/Documents/DTU/4-semester/active_ml/active_mini_projects/AL/AL_Search_NN.ipynb#X63sZmlsZQ%3D%3D?line=11'>12</a>\u001B[0m     model\u001B[39m=\u001B[39;49m\u001B[39m\"\u001B[39;49m\u001B[39mgpt-3.5-turbo\u001B[39;49m\u001B[39m\"\u001B[39;49m,\n\u001B[0;32m     <a href='vscode-notebook-cell:/c%3A/Users/Lauritz/Documents/DTU/4-semester/active_ml/active_mini_projects/AL/AL_Search_NN.ipynb#X63sZmlsZQ%3D%3D?line=12'>13</a>\u001B[0m     temperature\u001B[39m=\u001B[39;49m\u001B[39m0\u001B[39;49m,\n\u001B[0;32m     <a href='vscode-notebook-cell:/c%3A/Users/Lauritz/Documents/DTU/4-semester/active_ml/active_mini_projects/AL/AL_Search_NN.ipynb#X63sZmlsZQ%3D%3D?line=13'>14</a>\u001B[0m     messages\u001B[39m=\u001B[39;49m[\n\u001B[0;32m     <a href='vscode-notebook-cell:/c%3A/Users/Lauritz/Documents/DTU/4-semester/active_ml/active_mini_projects/AL/AL_Search_NN.ipynb#X63sZmlsZQ%3D%3D?line=14'>15</a>\u001B[0m         {\u001B[39m\"\u001B[39;49m\u001B[39mrole\u001B[39;49m\u001B[39m\"\u001B[39;49m:\u001B[39m\"\u001B[39;49m\u001B[39msystem\u001B[39;49m\u001B[39m\"\u001B[39;49m, \u001B[39m\"\u001B[39;49m\u001B[39mcontent\u001B[39;49m\u001B[39m\"\u001B[39;49m:\u001B[39m\"\u001B[39;49m\u001B[39mYou are a system designed to label if a list of provided questions can be answered using ANY part of a provided context. You will always only reply in the following format for each question: `label: LABEL. LABEL should be \u001B[39;49m\u001B[39m'\u001B[39;49m\u001B[39my\u001B[39;49m\u001B[39m'\u001B[39;49m\u001B[39m if a question can be answered using the context and else \u001B[39;49m\u001B[39m'\u001B[39;49m\u001B[39mn\u001B[39;49m\u001B[39m'\u001B[39;49m\u001B[39m\"\u001B[39;49m},\n\u001B[0;32m     <a href='vscode-notebook-cell:/c%3A/Users/Lauritz/Documents/DTU/4-semester/active_ml/active_mini_projects/AL/AL_Search_NN.ipynb#X63sZmlsZQ%3D%3D?line=15'>16</a>\u001B[0m         {\u001B[39m\"\u001B[39;49m\u001B[39mrole\u001B[39;49m\u001B[39m\"\u001B[39;49m:\u001B[39m\"\u001B[39;49m\u001B[39muser\u001B[39;49m\u001B[39m\"\u001B[39;49m, \u001B[39m\"\u001B[39;49m\u001B[39mcontent\u001B[39;49m\u001B[39m\"\u001B[39;49m: \u001B[39m\"\u001B[39;49m\u001B[39mCONTEXT: ```The man in the house has a boy named Bob and a red car. He loves ice cream``` QUESTION: ```Is the boy named Jim?``` QUESTION: ```Does the man have a red book?```\u001B[39;49m\u001B[39m\"\u001B[39;49m},\n\u001B[0;32m     <a href='vscode-notebook-cell:/c%3A/Users/Lauritz/Documents/DTU/4-semester/active_ml/active_mini_projects/AL/AL_Search_NN.ipynb#X63sZmlsZQ%3D%3D?line=16'>17</a>\u001B[0m         {\u001B[39m\"\u001B[39;49m\u001B[39mrole\u001B[39;49m\u001B[39m\"\u001B[39;49m:\u001B[39m\"\u001B[39;49m\u001B[39massistant\u001B[39;49m\u001B[39m\"\u001B[39;49m, \u001B[39m\"\u001B[39;49m\u001B[39mcontent\u001B[39;49m\u001B[39m\"\u001B[39;49m:\u001B[39m\"\u001B[39;49m\u001B[39mlabel: y\u001B[39;49m\u001B[39m\\n\u001B[39;49;00m\u001B[39mlabel: n\u001B[39;49m\u001B[39m\"\u001B[39;49m},\n\u001B[0;32m     <a href='vscode-notebook-cell:/c%3A/Users/Lauritz/Documents/DTU/4-semester/active_ml/active_mini_projects/AL/AL_Search_NN.ipynb#X63sZmlsZQ%3D%3D?line=17'>18</a>\u001B[0m         {\u001B[39m\"\u001B[39;49m\u001B[39mrole\u001B[39;49m\u001B[39m\"\u001B[39;49m: \u001B[39m\"\u001B[39;49m\u001B[39muser\u001B[39;49m\u001B[39m\"\u001B[39;49m, \u001B[39m\"\u001B[39;49m\u001B[39mcontent\u001B[39;49m\u001B[39m\"\u001B[39;49m: \u001B[39mf\u001B[39;49m\u001B[39m'\u001B[39;49m\u001B[39mCONTEXT: ```\u001B[39;49m\u001B[39m{\u001B[39;49;00mctx\u001B[39m}\u001B[39;49;00m\u001B[39m``` QUESTION: ```\u001B[39;49m\u001B[39m{\u001B[39;49;00mq1[\u001B[39m\"\u001B[39;49m\u001B[39mquestion\u001B[39;49m\u001B[39m\"\u001B[39;49m]\u001B[39m}\u001B[39;49;00m\u001B[39m``` QUESTION: ```\u001B[39;49m\u001B[39m{\u001B[39;49;00mq2[\u001B[39m\"\u001B[39;49m\u001B[39mquestion\u001B[39;49m\u001B[39m\"\u001B[39;49m]\u001B[39m}\u001B[39;49;00m\u001B[39m```\u001B[39;49m\u001B[39m'\u001B[39;49m}\n\u001B[0;32m     <a href='vscode-notebook-cell:/c%3A/Users/Lauritz/Documents/DTU/4-semester/active_ml/active_mini_projects/AL/AL_Search_NN.ipynb#X63sZmlsZQ%3D%3D?line=18'>19</a>\u001B[0m     ]\n\u001B[0;32m     <a href='vscode-notebook-cell:/c%3A/Users/Lauritz/Documents/DTU/4-semester/active_ml/active_mini_projects/AL/AL_Search_NN.ipynb#X63sZmlsZQ%3D%3D?line=19'>20</a>\u001B[0m     )\n\u001B[0;32m     <a href='vscode-notebook-cell:/c%3A/Users/Lauritz/Documents/DTU/4-semester/active_ml/active_mini_projects/AL/AL_Search_NN.ipynb#X63sZmlsZQ%3D%3D?line=21'>22</a>\u001B[0m     \u001B[39m#Parse the response to get labels\u001B[39;00m\n\u001B[0;32m     <a href='vscode-notebook-cell:/c%3A/Users/Lauritz/Documents/DTU/4-semester/active_ml/active_mini_projects/AL/AL_Search_NN.ipynb#X63sZmlsZQ%3D%3D?line=22'>23</a>\u001B[0m     res \u001B[39m=\u001B[39m completion\u001B[39m.\u001B[39mchoices[\u001B[39m0\u001B[39m]\u001B[39m.\u001B[39mmessage\u001B[39m.\u001B[39mcontent\n",
      "File \u001B[1;32mc:\\Users\\Lauritz\\AppData\\Local\\Programs\\Python\\Python310\\lib\\site-packages\\openai\\api_resources\\chat_completion.py:25\u001B[0m, in \u001B[0;36mChatCompletion.create\u001B[1;34m(cls, *args, **kwargs)\u001B[0m\n\u001B[0;32m     23\u001B[0m \u001B[39mwhile\u001B[39;00m \u001B[39mTrue\u001B[39;00m:\n\u001B[0;32m     24\u001B[0m     \u001B[39mtry\u001B[39;00m:\n\u001B[1;32m---> 25\u001B[0m         \u001B[39mreturn\u001B[39;00m \u001B[39msuper\u001B[39m()\u001B[39m.\u001B[39mcreate(\u001B[39m*\u001B[39margs, \u001B[39m*\u001B[39m\u001B[39m*\u001B[39mkwargs)\n\u001B[0;32m     26\u001B[0m     \u001B[39mexcept\u001B[39;00m TryAgain \u001B[39mas\u001B[39;00m e:\n\u001B[0;32m     27\u001B[0m         \u001B[39mif\u001B[39;00m timeout \u001B[39mis\u001B[39;00m \u001B[39mnot\u001B[39;00m \u001B[39mNone\u001B[39;00m \u001B[39mand\u001B[39;00m time\u001B[39m.\u001B[39mtime() \u001B[39m>\u001B[39m start \u001B[39m+\u001B[39m timeout:\n",
      "File \u001B[1;32mc:\\Users\\Lauritz\\AppData\\Local\\Programs\\Python\\Python310\\lib\\site-packages\\openai\\api_resources\\abstract\\engine_api_resource.py:153\u001B[0m, in \u001B[0;36mEngineAPIResource.create\u001B[1;34m(cls, api_key, api_base, api_type, request_id, api_version, organization, **params)\u001B[0m\n\u001B[0;32m    127\u001B[0m \u001B[39m@classmethod\u001B[39m\n\u001B[0;32m    128\u001B[0m \u001B[39mdef\u001B[39;00m \u001B[39mcreate\u001B[39m(\n\u001B[0;32m    129\u001B[0m     \u001B[39mcls\u001B[39m,\n\u001B[1;32m   (...)\u001B[0m\n\u001B[0;32m    136\u001B[0m     \u001B[39m*\u001B[39m\u001B[39m*\u001B[39mparams,\n\u001B[0;32m    137\u001B[0m ):\n\u001B[0;32m    138\u001B[0m     (\n\u001B[0;32m    139\u001B[0m         deployment_id,\n\u001B[0;32m    140\u001B[0m         engine,\n\u001B[1;32m   (...)\u001B[0m\n\u001B[0;32m    150\u001B[0m         api_key, api_base, api_type, api_version, organization, \u001B[39m*\u001B[39m\u001B[39m*\u001B[39mparams\n\u001B[0;32m    151\u001B[0m     )\n\u001B[1;32m--> 153\u001B[0m     response, _, api_key \u001B[39m=\u001B[39m requestor\u001B[39m.\u001B[39;49mrequest(\n\u001B[0;32m    154\u001B[0m         \u001B[39m\"\u001B[39;49m\u001B[39mpost\u001B[39;49m\u001B[39m\"\u001B[39;49m,\n\u001B[0;32m    155\u001B[0m         url,\n\u001B[0;32m    156\u001B[0m         params\u001B[39m=\u001B[39;49mparams,\n\u001B[0;32m    157\u001B[0m         headers\u001B[39m=\u001B[39;49mheaders,\n\u001B[0;32m    158\u001B[0m         stream\u001B[39m=\u001B[39;49mstream,\n\u001B[0;32m    159\u001B[0m         request_id\u001B[39m=\u001B[39;49mrequest_id,\n\u001B[0;32m    160\u001B[0m         request_timeout\u001B[39m=\u001B[39;49mrequest_timeout,\n\u001B[0;32m    161\u001B[0m     )\n\u001B[0;32m    163\u001B[0m     \u001B[39mif\u001B[39;00m stream:\n\u001B[0;32m    164\u001B[0m         \u001B[39m# must be an iterator\u001B[39;00m\n\u001B[0;32m    165\u001B[0m         \u001B[39massert\u001B[39;00m \u001B[39mnot\u001B[39;00m \u001B[39misinstance\u001B[39m(response, OpenAIResponse)\n",
      "File \u001B[1;32mc:\\Users\\Lauritz\\AppData\\Local\\Programs\\Python\\Python310\\lib\\site-packages\\openai\\api_requestor.py:226\u001B[0m, in \u001B[0;36mAPIRequestor.request\u001B[1;34m(self, method, url, params, headers, files, stream, request_id, request_timeout)\u001B[0m\n\u001B[0;32m    205\u001B[0m \u001B[39mdef\u001B[39;00m \u001B[39mrequest\u001B[39m(\n\u001B[0;32m    206\u001B[0m     \u001B[39mself\u001B[39m,\n\u001B[0;32m    207\u001B[0m     method,\n\u001B[1;32m   (...)\u001B[0m\n\u001B[0;32m    214\u001B[0m     request_timeout: Optional[Union[\u001B[39mfloat\u001B[39m, Tuple[\u001B[39mfloat\u001B[39m, \u001B[39mfloat\u001B[39m]]] \u001B[39m=\u001B[39m \u001B[39mNone\u001B[39;00m,\n\u001B[0;32m    215\u001B[0m ) \u001B[39m-\u001B[39m\u001B[39m>\u001B[39m Tuple[Union[OpenAIResponse, Iterator[OpenAIResponse]], \u001B[39mbool\u001B[39m, \u001B[39mstr\u001B[39m]:\n\u001B[0;32m    216\u001B[0m     result \u001B[39m=\u001B[39m \u001B[39mself\u001B[39m\u001B[39m.\u001B[39mrequest_raw(\n\u001B[0;32m    217\u001B[0m         method\u001B[39m.\u001B[39mlower(),\n\u001B[0;32m    218\u001B[0m         url,\n\u001B[1;32m   (...)\u001B[0m\n\u001B[0;32m    224\u001B[0m         request_timeout\u001B[39m=\u001B[39mrequest_timeout,\n\u001B[0;32m    225\u001B[0m     )\n\u001B[1;32m--> 226\u001B[0m     resp, got_stream \u001B[39m=\u001B[39m \u001B[39mself\u001B[39;49m\u001B[39m.\u001B[39;49m_interpret_response(result, stream)\n\u001B[0;32m    227\u001B[0m     \u001B[39mreturn\u001B[39;00m resp, got_stream, \u001B[39mself\u001B[39m\u001B[39m.\u001B[39mapi_key\n",
      "File \u001B[1;32mc:\\Users\\Lauritz\\AppData\\Local\\Programs\\Python\\Python310\\lib\\site-packages\\openai\\api_requestor.py:619\u001B[0m, in \u001B[0;36mAPIRequestor._interpret_response\u001B[1;34m(self, result, stream)\u001B[0m\n\u001B[0;32m    611\u001B[0m     \u001B[39mreturn\u001B[39;00m (\n\u001B[0;32m    612\u001B[0m         \u001B[39mself\u001B[39m\u001B[39m.\u001B[39m_interpret_response_line(\n\u001B[0;32m    613\u001B[0m             line, result\u001B[39m.\u001B[39mstatus_code, result\u001B[39m.\u001B[39mheaders, stream\u001B[39m=\u001B[39m\u001B[39mTrue\u001B[39;00m\n\u001B[0;32m    614\u001B[0m         )\n\u001B[0;32m    615\u001B[0m         \u001B[39mfor\u001B[39;00m line \u001B[39min\u001B[39;00m parse_stream(result\u001B[39m.\u001B[39miter_lines())\n\u001B[0;32m    616\u001B[0m     ), \u001B[39mTrue\u001B[39;00m\n\u001B[0;32m    617\u001B[0m \u001B[39melse\u001B[39;00m:\n\u001B[0;32m    618\u001B[0m     \u001B[39mreturn\u001B[39;00m (\n\u001B[1;32m--> 619\u001B[0m         \u001B[39mself\u001B[39;49m\u001B[39m.\u001B[39;49m_interpret_response_line(\n\u001B[0;32m    620\u001B[0m             result\u001B[39m.\u001B[39;49mcontent\u001B[39m.\u001B[39;49mdecode(\u001B[39m\"\u001B[39;49m\u001B[39mutf-8\u001B[39;49m\u001B[39m\"\u001B[39;49m),\n\u001B[0;32m    621\u001B[0m             result\u001B[39m.\u001B[39;49mstatus_code,\n\u001B[0;32m    622\u001B[0m             result\u001B[39m.\u001B[39;49mheaders,\n\u001B[0;32m    623\u001B[0m             stream\u001B[39m=\u001B[39;49m\u001B[39mFalse\u001B[39;49;00m,\n\u001B[0;32m    624\u001B[0m         ),\n\u001B[0;32m    625\u001B[0m         \u001B[39mFalse\u001B[39;00m,\n\u001B[0;32m    626\u001B[0m     )\n",
      "File \u001B[1;32mc:\\Users\\Lauritz\\AppData\\Local\\Programs\\Python\\Python310\\lib\\site-packages\\openai\\api_requestor.py:679\u001B[0m, in \u001B[0;36mAPIRequestor._interpret_response_line\u001B[1;34m(self, rbody, rcode, rheaders, stream)\u001B[0m\n\u001B[0;32m    677\u001B[0m stream_error \u001B[39m=\u001B[39m stream \u001B[39mand\u001B[39;00m \u001B[39m\"\u001B[39m\u001B[39merror\u001B[39m\u001B[39m\"\u001B[39m \u001B[39min\u001B[39;00m resp\u001B[39m.\u001B[39mdata\n\u001B[0;32m    678\u001B[0m \u001B[39mif\u001B[39;00m stream_error \u001B[39mor\u001B[39;00m \u001B[39mnot\u001B[39;00m \u001B[39m200\u001B[39m \u001B[39m<\u001B[39m\u001B[39m=\u001B[39m rcode \u001B[39m<\u001B[39m \u001B[39m300\u001B[39m:\n\u001B[1;32m--> 679\u001B[0m     \u001B[39mraise\u001B[39;00m \u001B[39mself\u001B[39m\u001B[39m.\u001B[39mhandle_error_response(\n\u001B[0;32m    680\u001B[0m         rbody, rcode, resp\u001B[39m.\u001B[39mdata, rheaders, stream_error\u001B[39m=\u001B[39mstream_error\n\u001B[0;32m    681\u001B[0m     )\n\u001B[0;32m    682\u001B[0m \u001B[39mreturn\u001B[39;00m resp\n",
      "\u001B[1;31mRateLimitError\u001B[0m: Rate limit reached for default-gpt-3.5-turbo in organization org-NZKUkTwLnTKkgBPZHMiVh2Hl on requests per min. Limit: 20 / min. Please try again in 3s. Contact support@openai.com if you continue to have issues. Please add a payment method to your account to increase your rate limit. Visit https://platform.openai.com/account/billing to add a payment method."
     ]
    }
   ],
   "source": [
    "gen_data = []\n",
    "req_per_min = 0\n",
    "last_time_stamp = time.time()\n",
    "#For each pair of questions\n",
    "for qi in range(0,len(gen_questions),2):\n",
    "    q1 = gen_questions.iloc[qi]\n",
    "    q2 = gen_questions.iloc[qi+1]\n",
    "    \n",
    "    #For each context\n",
    "    for ci,ctx in enumerate(df_context['context']):\n",
    "        #Check rate limit\n",
    "        req_per_min += 1\n",
    "        while req_per_min>=20:\n",
    "            time_stamp = time.time()\n",
    "            if int(time.time()-last_time_stamp) > 60:\n",
    "                last_time_stamp = time_stamp\n",
    "                req_per_min = 0\n",
    "            else:\n",
    "                time.sleep(10)\n",
    "        \n",
    "        #Ask the oracle for label for the context and two questions\n",
    "        try:\n",
    "            completion = openai.ChatCompletion.create(\n",
    "            model=\"gpt-3.5-turbo\",\n",
    "            temperature=0,\n",
    "            messages=[\n",
    "                {\"role\":\"system\", \"content\":\"You are a system designed to label if a list of provided questions can be answered using ANY part of a provided context. You will always only reply in the following format for each question: `label: LABEL. LABEL should be 'y' if a question can be answered using the context and else 'n'\"},\n",
    "                {\"role\":\"user\", \"content\": \"CONTEXT: ```The man in the house has a boy named Bob and a red car. He loves ice cream``` QUESTION: ```Is the boy named Jim?``` QUESTION: ```Does the man have a red book?```\"},\n",
    "                {\"role\":\"assistant\", \"content\":\"label: y\\nlabel: n\"},\n",
    "                {\"role\": \"user\", \"content\": f'CONTEXT: ```{ctx}``` QUESTION: ```{q1[\"question\"]}``` QUESTION: ```{q2[\"question\"]}```'}\n",
    "            ]\n",
    "            )\n",
    "        except Exception as e:\n",
    "            print(\"OPENAI_ERROR:\",str(e))\n",
    "            continue\n",
    "        \n",
    "        #Parse the response to get labels\n",
    "        res = completion.choices[0].message.content\n",
    "        labels = re.findall(r'label: ([yn])', res)\n",
    "        \n",
    "        #If two labels are not found, assume something went wrong and skip this iteration\n",
    "        if len(labels) != 2:\n",
    "            print('[Error] labels not found in response:', res)\n",
    "            continue\n",
    "        \n",
    "        #Add the two questions, context and labels to the training data\n",
    "        gen_data.append({'question': q1[\"question\"], 'context': ctx, 'question_embedding': q1[\"embedding\"], 'label': labels[0]})\n",
    "        gen_data.append({'question': q2[\"question\"], 'context': ctx, 'question_embedding': q2[\"embedding\"], 'label': labels[1]})\n",
    "        \n",
    "        #If count is divisible by 100, save a backup\n",
    "        cnt = qi*len(df_context)+ci\n",
    "        if cnt % 100 == 0:\n",
    "            print(cnt)\n",
    "            with open(f'./{cnt}.pkl', 'wb') as fp:\n",
    "                pickle.dump(gen_data, fp)"
   ]
  },
  {
   "cell_type": "code",
   "execution_count": null,
   "metadata": {},
   "outputs": [],
   "source": [
    "df_gen = pd.DataFrame(data=gen_data, columns=['question','context','question_embedding','context_embedding','label'])"
   ]
  },
  {
   "cell_type": "code",
   "execution_count": 357,
   "metadata": {},
   "outputs": [],
   "source": [
    "#shuffled list of dicts of two question indicies and context indices\n",
    "cq_idx = []\n",
    "for ci in df_context.index:\n",
    "     for q1,q2 in zip(pool_question.index[::2], pool_question.index[1::2]):\n",
    "        cq_idx.append({'q1i':q1, 'q2i':q2, 'ci':ci})\n",
    "np.random.shuffle(cq_idx)"
   ]
  },
  {
   "cell_type": "code",
   "execution_count": 37,
   "metadata": {},
   "outputs": [
    {
     "name": "stdout",
     "output_type": "stream",
     "text": [
      "score: 95%\n",
      "score: 0%\n"
     ]
    }
   ],
   "source": [
    "train_data = []\n",
    "n_train = 2000\n",
    "\n",
    "req_per_min = 0\n",
    "last_time_stamp = time.time()\n",
    "\n",
    "#For num train points\n",
    "for i, idx in enumerate(cq_idx[:n_train]):\n",
    "    ctx = df_context.iloc[idx['ci']]['context']\n",
    "    q1 = pool_question.iloc[idx['q1i']]\n",
    "    q2 = pool_question.iloc[idx['q2i']]\n",
    "\n",
    "    #Check rate limit\n",
    "    req_per_min += 1\n",
    "    while req_per_min>=20:\n",
    "        time_stamp = time.time()\n",
    "        if int(time.time()-last_time_stamp) > 60:\n",
    "            last_time_stamp = time_stamp\n",
    "            req_per_min = 0\n",
    "        else:\n",
    "            time.sleep(10)\n",
    "    \n",
    "    #Ask the oracle for label for the context and two questions\n",
    "    try:\n",
    "        completion = openai.ChatCompletion.create(\n",
    "        model=\"gpt-3.5-turbo\",\n",
    "        temperature=0,\n",
    "        messages=[\n",
    "            {\"role\":\"system\", \"content\":\"You are a system designed to label if a list of provided questions can be answered using ANY part of a provided context. You will always only reply in the following format for each question: `label: LABEL. LABEL should be 'y' if a question can be answered using the context and else 'n'\"},\n",
    "            {\"role\":\"user\", \"content\": \"CONTEXT: ```The man in the house has a boy named Bob and a red car. He loves ice cream``` QUESTION: ```Is the boy named Jim?``` QUESTION: ```Does the man have a red book?```\"},\n",
    "            {\"role\":\"assistant\", \"content\":\"label: y\\nlabel: n\"},\n",
    "            {\"role\": \"user\", \"content\": f'CONTEXT: ```{ctx}``` QUESTION: ```{q1[\"question\"]}``` QUESTION: ```{q2[\"question\"]}```'}\n",
    "        ]\n",
    "        )\n",
    "    except Exception as e:\n",
    "        print(\"OPENAI_ERROR:\",str(e))\n",
    "        continue\n",
    "    \n",
    "    #Parse the response to get labels\n",
    "    res = completion.choices[0].message.content\n",
    "    labels = re.findall(r'label: ([yn])', res)\n",
    "    \n",
    "    #If two labels are not found, assume something went wrong and skip this iteration\n",
    "    if len(labels) != 2:\n",
    "        print('[Error] labels not found in response:', res)\n",
    "        continue\n",
    "    \n",
    "    #Add the two questions, context and labels to the training data\n",
    "    train_data.append({'question': q1[\"question\"], 'context': ctx, 'question_embedding': q1[\"embedding\"], 'label': labels[0]})\n",
    "    train_data.append({'question': q2[\"question\"], 'context': ctx, 'question_embedding': q2[\"embedding\"], 'label': labels[1]})\n",
    "    \n",
    "    #If iteration num is divisible by 100, save a backup\n",
    "    if i % 100 == 0:\n",
    "        print(i)\n",
    "        with open(f'./oracle_bu/train/{i}.pkl', 'wb') as fp:\n",
    "            pickle.dump(train_data, fp)"
   ]
  },
  {
   "cell_type": "code",
   "execution_count": null,
   "metadata": {},
   "outputs": [],
   "source": [
    "df_train = pd.DataFrame(data=train_data, columns=['question','context','question_embedding','context_embedding','label'])"
   ]
  }
 ],
 "metadata": {
  "kernelspec": {
   "display_name": "active-ml",
   "language": "python",
   "name": "python3"
  },
  "language_info": {
   "codemirror_mode": {
    "name": "ipython",
    "version": 3
   },
   "file_extension": ".py",
   "mimetype": "text/x-python",
   "name": "python",
   "nbconvert_exporter": "python",
   "pygments_lexer": "ipython3",
   "version": "3.10.4"
  },
  "orig_nbformat": 4
 },
 "nbformat": 4,
 "nbformat_minor": 2
}
